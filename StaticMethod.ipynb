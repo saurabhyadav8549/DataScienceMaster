{
 "cells": [
  {
   "cell_type": "code",
   "execution_count": 2,
   "id": "358c62c7-0f99-4ac9-ab88-1c712ec70206",
   "metadata": {},
   "outputs": [],
   "source": [
    "class pwskills:\n",
    "    def student_details(self , name , mail_id, number):\n",
    "         print(name,mail_id,number)"
   ]
  },
  {
   "cell_type": "code",
   "execution_count": 5,
   "id": "b9b53d8f-ac5b-43c1-b19b-c6e7d074fd3b",
   "metadata": {},
   "outputs": [],
   "source": [
    "pw = pwskills()"
   ]
  },
  {
   "cell_type": "code",
   "execution_count": 7,
   "id": "3c85ab17-f19a-45c9-9e45-4e6a9d945741",
   "metadata": {},
   "outputs": [
    {
     "name": "stdout",
     "output_type": "stream",
     "text": [
      "sudh sudh@gmail.com 912342342\n"
     ]
    }
   ],
   "source": [
    "pw.student_details(\"sudh\",\"sudh@gmail.com\",912342342)"
   ]
  },
  {
   "cell_type": "code",
   "execution_count": 15,
   "id": "a812a9cf-0a31-4afc-b59d-113d3c06714e",
   "metadata": {},
   "outputs": [],
   "source": [
    "class pwskills1:\n",
    "    def student_details(self , name , mail_id, number):\n",
    "         print(name,mail_id,number)\n",
    "\n",
    "    @staticmethod\n",
    "    def mentor_class(list_mentor):\n",
    "        print(list_mentor)\n",
    "        \n",
    "    def mentor(self, mentor_list):\n",
    "        print(mentor_list)"
   ]
  },
  {
   "cell_type": "code",
   "execution_count": 16,
   "id": "b1e9c80e-c3fc-4e7f-a44f-28f5c87abb34",
   "metadata": {},
   "outputs": [
    {
     "name": "stdout",
     "output_type": "stream",
     "text": [
      "['sudh', 'krish']\n"
     ]
    }
   ],
   "source": [
    "pwskills1.mentor_class([\"sudh\",\"krish\"])"
   ]
  },
  {
   "cell_type": "code",
   "execution_count": 17,
   "id": "1d043ac5-897e-4585-8ba6-a9faf7789c21",
   "metadata": {},
   "outputs": [],
   "source": [
    "stu1 = pwskills1() # for each object copy of class is created, which cause memmory consumption"
   ]
  },
  {
   "cell_type": "code",
   "execution_count": 18,
   "id": "f4bcaf80-a8bc-42b6-b561-fe8329f3e6f8",
   "metadata": {},
   "outputs": [],
   "source": [
    "stu2 = pwskills1()"
   ]
  },
  {
   "cell_type": "code",
   "execution_count": 19,
   "id": "c3dbf488-3a4f-4675-9ec1-50e66e682f79",
   "metadata": {},
   "outputs": [],
   "source": [
    "stu3 = pwskills()"
   ]
  },
  {
   "cell_type": "code",
   "execution_count": 20,
   "id": "39d09308-4c96-4f3e-a139-528cfa724789",
   "metadata": {},
   "outputs": [
    {
     "name": "stdout",
     "output_type": "stream",
     "text": [
      "['sudh', 'krish']\n"
     ]
    }
   ],
   "source": [
    "stu1.mentor([\"sudh\",\"krish\"])"
   ]
  },
  {
   "cell_type": "code",
   "execution_count": 29,
   "id": "fff3e809-6535-4f2d-b8df-bb54bdb712c7",
   "metadata": {},
   "outputs": [],
   "source": [
    "class pwskills2:\n",
    "    def student_details(self , name , mail_id, number):\n",
    "         print(name,mail_id,number)\n",
    "            \n",
    "    @staticmethod\n",
    "    def mentor_mail_id(mail_id_mentor):\n",
    "        print(mail_id_mentor)\n",
    "\n",
    "    @staticmethod   # used for repetitive task\n",
    "    def mentor_class(list_mentor):\n",
    "        pwskills2.mentor_mail_id([\"sudh@gmail.com\",\"krish@gmail.com\"])# calling static under static\n",
    "        print(list_mentor)\n",
    "        \n",
    "    @classmethod\n",
    "    def class_name(cls):\n",
    "        cls.mentor_class([\"sudh\",\"krish\"]) # calling static under class\n",
    "        \n",
    "    def mentor(self, mentor_list):\n",
    "        print(mentor_list)\n",
    "        self.mentor_class([\"krish\", \"sudh\"]) # calling staatic under instance method"
   ]
  },
  {
   "cell_type": "code",
   "execution_count": 30,
   "id": "86a2d808-6410-4b1d-8425-f19c2c24cdad",
   "metadata": {},
   "outputs": [
    {
     "name": "stdout",
     "output_type": "stream",
     "text": [
      "['sudh@gmail.com', 'krish@gmail.com']\n",
      "['sudh', 'krish']\n"
     ]
    }
   ],
   "source": [
    "pwskills2.mentor_class([\"sudh\",\"krish\"])"
   ]
  },
  {
   "cell_type": "code",
   "execution_count": 31,
   "id": "f1c6fe6f-7f73-4bb0-8b7b-ffcb95309315",
   "metadata": {},
   "outputs": [
    {
     "name": "stdout",
     "output_type": "stream",
     "text": [
      "['sudh@gmail.com', 'krish@gmail.com']\n",
      "['sudh', 'krish']\n"
     ]
    }
   ],
   "source": [
    "pwskills2.class_name()"
   ]
  },
  {
   "cell_type": "code",
   "execution_count": 32,
   "id": "fa57e67c-608c-41b1-bd84-6bdee3c8eea7",
   "metadata": {},
   "outputs": [],
   "source": [
    "pw= pwskills2()"
   ]
  },
  {
   "cell_type": "code",
   "execution_count": 33,
   "id": "27e92a0f-8ef1-4916-b813-64ec64631a06",
   "metadata": {},
   "outputs": [
    {
     "name": "stdout",
     "output_type": "stream",
     "text": [
      "['krish', 'sudh']\n",
      "['sudh@gmail.com', 'krish@gmail.com']\n",
      "['krish', 'sudh']\n"
     ]
    }
   ],
   "source": [
    "pw.mentor([\"krish\",\"sudh\"])"
   ]
  },
  {
   "cell_type": "code",
   "execution_count": null,
   "id": "9747c8fd-8a1a-4b70-b872-6cfbb2620f6a",
   "metadata": {},
   "outputs": [],
   "source": []
  }
 ],
 "metadata": {
  "kernelspec": {
   "display_name": "Python 3 (ipykernel)",
   "language": "python",
   "name": "python3"
  },
  "language_info": {
   "codemirror_mode": {
    "name": "ipython",
    "version": 3
   },
   "file_extension": ".py",
   "mimetype": "text/x-python",
   "name": "python",
   "nbconvert_exporter": "python",
   "pygments_lexer": "ipython3",
   "version": "3.10.8"
  }
 },
 "nbformat": 4,
 "nbformat_minor": 5
}
