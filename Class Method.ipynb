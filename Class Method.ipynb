{
 "cells": [
  {
   "cell_type": "code",
   "execution_count": 2,
   "id": "7c8a9e93-488a-4ad0-9d2b-860f62207097",
   "metadata": {},
   "outputs": [],
   "source": [
    "class pwskills :\n",
    "    def __init__(self,name , email):\n",
    "        self.name = name\n",
    "        self.email = email\n",
    "        \n",
    "    def student_details(self):\n",
    "        print(self.name,self.email)"
   ]
  },
  {
   "cell_type": "code",
   "execution_count": 3,
   "id": "51a251cd-59b9-4ba5-b171-9f08691503a1",
   "metadata": {},
   "outputs": [],
   "source": [
    "pw = pwskills(\"mohan\",\"mohan@gmail.com\")"
   ]
  },
  {
   "cell_type": "code",
   "execution_count": 4,
   "id": "74f7da95-b8b0-49cb-9743-d4e965192bd4",
   "metadata": {},
   "outputs": [
    {
     "data": {
      "text/plain": [
       "'mohan'"
      ]
     },
     "execution_count": 4,
     "metadata": {},
     "output_type": "execute_result"
    }
   ],
   "source": [
    "pw.name"
   ]
  },
  {
   "cell_type": "code",
   "execution_count": 5,
   "id": "a31b0932-411a-4211-aa6e-0837f83c1bde",
   "metadata": {},
   "outputs": [
    {
     "data": {
      "text/plain": [
       "'mohan@gmail.com'"
      ]
     },
     "execution_count": 5,
     "metadata": {},
     "output_type": "execute_result"
    }
   ],
   "source": [
    "pw.email"
   ]
  },
  {
   "cell_type": "code",
   "execution_count": 6,
   "id": "afc39c14-41c3-4a40-bf4c-5ec28c637e5d",
   "metadata": {},
   "outputs": [
    {
     "name": "stdout",
     "output_type": "stream",
     "text": [
      "mohan mohan@gmail.com\n"
     ]
    }
   ],
   "source": [
    "pw.student_details()"
   ]
  },
  {
   "cell_type": "code",
   "execution_count": 7,
   "id": "7800afc1-1c57-4988-954d-20899cd2d083",
   "metadata": {},
   "outputs": [],
   "source": [
    "class pwskills1 :\n",
    "    def __init__(self,name , email):\n",
    "        self.name = name\n",
    "        self.email = email\n",
    "        \n",
    "    @classmethod\n",
    "    def details(cls,name,email):\n",
    "        return cls(name,email)\n",
    "        \n",
    "    def student_details(self):\n",
    "        print(self.name,self.email)"
   ]
  },
  {
   "cell_type": "code",
   "execution_count": 8,
   "id": "a699487f-9555-46a6-8fa3-2712080642f4",
   "metadata": {},
   "outputs": [],
   "source": [
    "pw1 = pwskills1.details(\"sudh\",\"sudh@gmail.com\")"
   ]
  },
  {
   "cell_type": "code",
   "execution_count": 9,
   "id": "dc2ea25d-d8f3-48e9-933e-5f11091c5d4c",
   "metadata": {},
   "outputs": [
    {
     "data": {
      "text/plain": [
       "'sudh'"
      ]
     },
     "execution_count": 9,
     "metadata": {},
     "output_type": "execute_result"
    }
   ],
   "source": [
    "pw1.name"
   ]
  },
  {
   "cell_type": "code",
   "execution_count": 10,
   "id": "be9a74fc-a953-46ee-aea1-2bab7be71aaf",
   "metadata": {},
   "outputs": [
    {
     "data": {
      "text/plain": [
       "'sudh@gmail.com'"
      ]
     },
     "execution_count": 10,
     "metadata": {},
     "output_type": "execute_result"
    }
   ],
   "source": [
    "pw1.email"
   ]
  },
  {
   "cell_type": "code",
   "execution_count": 11,
   "id": "8aac5cee-0d0b-4404-8e39-ac82f9bfb39a",
   "metadata": {},
   "outputs": [
    {
     "name": "stdout",
     "output_type": "stream",
     "text": [
      "sudh sudh@gmail.com\n"
     ]
    }
   ],
   "source": [
    "pw1.student_details()"
   ]
  },
  {
   "cell_type": "code",
   "execution_count": 12,
   "id": "0bb337d9-3606-454a-b8bb-5fa6bdc7f313",
   "metadata": {},
   "outputs": [],
   "source": [
    "class pwskills2 :\n",
    "    \n",
    "    mobile_num = 912342424\n",
    "    \n",
    "    def __init__(self,name , email):\n",
    "        self.name = name\n",
    "        self.email = email\n",
    "        \n",
    "    @classmethod\n",
    "    def change_number(cls,mobile):\n",
    "        pwskills2.mobile_num = mobile\n",
    "        \n",
    "    @classmethod\n",
    "    def details(cls,name,email):\n",
    "        return cls(name,email)\n",
    "        \n",
    "    def student_details(self):\n",
    "        print(self.name,self.email, pwskills2.mobile_num)"
   ]
  },
  {
   "cell_type": "code",
   "execution_count": 13,
   "id": "5b5f9a69-72f7-4234-be3f-2959211fa605",
   "metadata": {},
   "outputs": [],
   "source": [
    "# by two methods we can access student_details"
   ]
  },
  {
   "cell_type": "code",
   "execution_count": 14,
   "id": "35e7ac1e-74b5-4c34-beb6-256d31d256ee",
   "metadata": {},
   "outputs": [],
   "source": [
    " #1\n",
    "pw = pwskills2.details(\"rohan\",\" rohan@gmail.com\")"
   ]
  },
  {
   "cell_type": "code",
   "execution_count": 15,
   "id": "a4f1bdee-758d-4933-a0e5-a67e880c011b",
   "metadata": {},
   "outputs": [
    {
     "name": "stdout",
     "output_type": "stream",
     "text": [
      "rohan  rohan@gmail.com 912342424\n"
     ]
    }
   ],
   "source": [
    "pw.student_details()"
   ]
  },
  {
   "cell_type": "code",
   "execution_count": 16,
   "id": "57963cfa-78c7-49f4-9cb1-f16743fb8777",
   "metadata": {},
   "outputs": [],
   "source": [
    "#2\n",
    "pw_obj = pwskills2(\"sudh\",\"sudh@gmail.com\")"
   ]
  },
  {
   "cell_type": "code",
   "execution_count": 17,
   "id": "2dc9352d-fd32-4afb-94bb-27f56ad6ae7a",
   "metadata": {},
   "outputs": [
    {
     "name": "stdout",
     "output_type": "stream",
     "text": [
      "sudh sudh@gmail.com 912342424\n"
     ]
    }
   ],
   "source": [
    "pw_obj.student_details()"
   ]
  },
  {
   "cell_type": "code",
   "execution_count": 18,
   "id": "a4a6c9bc-592d-4e99-ad1c-0a11fdf04bce",
   "metadata": {},
   "outputs": [
    {
     "data": {
      "text/plain": [
       "912342424"
      ]
     },
     "execution_count": 18,
     "metadata": {},
     "output_type": "execute_result"
    }
   ],
   "source": [
    "pwskills2.mobile_num"
   ]
  },
  {
   "cell_type": "code",
   "execution_count": 19,
   "id": "b4562c05-2259-4c42-a5e7-9a363a163bd5",
   "metadata": {},
   "outputs": [],
   "source": [
    "# we can change classs variable also by class method\n",
    "pwskills2.change_number(924324234)"
   ]
  },
  {
   "cell_type": "code",
   "execution_count": 20,
   "id": "9741021f-2e10-4ec1-883f-075207c8dc2e",
   "metadata": {},
   "outputs": [
    {
     "data": {
      "text/plain": [
       "924324234"
      ]
     },
     "execution_count": 20,
     "metadata": {},
     "output_type": "execute_result"
    }
   ],
   "source": [
    "pwskills2.mobile_num"
   ]
  },
  {
   "cell_type": "code",
   "execution_count": 21,
   "id": "14e3f027-cdab-422a-81f7-6365ba8d0e9c",
   "metadata": {},
   "outputs": [],
   "source": [
    "class pwskills3 :\n",
    "    \n",
    "    mobile_num = 912342424\n",
    "    \n",
    "    def __init__(self,name , email):\n",
    "        self.name = name\n",
    "        self.email = email\n",
    "        \n",
    "    @classmethod\n",
    "    def change_number(cls,mobile):\n",
    "        pwskills3.mobile_num = mobile\n",
    "        \n",
    "    @classmethod\n",
    "    def details(cls,name,email):\n",
    "        return cls(name,email)\n",
    "        \n",
    "    def student_details(self):\n",
    "        print(self.name,self.email, pwskills3.mobile_num)"
   ]
  },
  {
   "cell_type": "code",
   "execution_count": 22,
   "id": "9b6c12aa-f897-4ee6-bcdf-97d9842492f0",
   "metadata": {},
   "outputs": [],
   "source": [
    "def course_details(cls,course_name):\n",
    "    print(\"course name is \" , course_name)"
   ]
  },
  {
   "cell_type": "code",
   "execution_count": 23,
   "id": "73f6f4fd-a3ad-49a9-92be-1ae828074cac",
   "metadata": {},
   "outputs": [],
   "source": [
    "pwskills3.course_details = classmethod(course_details)"
   ]
  },
  {
   "cell_type": "code",
   "execution_count": 24,
   "id": "38a43d2b-e6c4-4216-bdd7-da92a88a0597",
   "metadata": {},
   "outputs": [
    {
     "name": "stdout",
     "output_type": "stream",
     "text": [
      "course name is  data science masters\n"
     ]
    }
   ],
   "source": [
    "pwskills3.course_details(\"data science masters\")"
   ]
  },
  {
   "cell_type": "code",
   "execution_count": 28,
   "id": "9e916724-bd24-4325-9afd-ec0329a22b28",
   "metadata": {},
   "outputs": [],
   "source": [
    "## ADDING EXTERNAL FUNCTION TO A CLASS\n",
    "\n",
    "def mentor(cls, list_of_mentor):\n",
    "    print(list_of_mentor)"
   ]
  },
  {
   "cell_type": "code",
   "execution_count": 29,
   "id": "e49e7b33-5636-436c-8f06-499b98f93f68",
   "metadata": {},
   "outputs": [],
   "source": [
    "pwskills3.mentor = classmethod(mentor)"
   ]
  },
  {
   "cell_type": "code",
   "execution_count": 30,
   "id": "c7555a45-8e7e-4cce-8e4f-016e30f11c4f",
   "metadata": {},
   "outputs": [
    {
     "name": "stdout",
     "output_type": "stream",
     "text": [
      "['sudhanshu', 'krish naik']\n"
     ]
    }
   ],
   "source": [
    "pwskills3.mentor([\"sudhanshu\", \"krish naik\"])"
   ]
  },
  {
   "cell_type": "code",
   "execution_count": 37,
   "id": "c7679213-8676-4abf-852e-e10c7d9273c0",
   "metadata": {},
   "outputs": [],
   "source": [
    "class pwskills4:\n",
    "    \n",
    "    mobile_num = 912342424\n",
    "    \n",
    "    def __init__(self,name , email):\n",
    "        self.name = name\n",
    "        self.email = email\n",
    "        \n",
    "    @classmethod\n",
    "    def change_number(cls,mobile):\n",
    "        pwskills4.mobile_num = mobile\n",
    "        \n",
    "    @classmethod\n",
    "    def details(cls,name,email):\n",
    "        return cls(name,email)\n",
    "        \n",
    "    def student_details(self):\n",
    "        print(self.name,self.email, pwskills4.mobile_num)"
   ]
  },
  {
   "cell_type": "code",
   "execution_count": null,
   "id": "8056c56e-6136-4923-b804-04437620ce62",
   "metadata": {},
   "outputs": [],
   "source": [
    "# deleting attributes from class"
   ]
  },
  {
   "cell_type": "code",
   "execution_count": 38,
   "id": "7ba86584-8ca9-4778-b93d-80986661a55e",
   "metadata": {},
   "outputs": [],
   "source": [
    "del pwskills4.change_number"
   ]
  },
  {
   "cell_type": "code",
   "execution_count": 41,
   "id": "5e19c0a6-6288-487b-aa54-509e7a3ce0ae",
   "metadata": {},
   "outputs": [],
   "source": [
    "delattr(pwskills4 ,\"details\")"
   ]
  },
  {
   "cell_type": "code",
   "execution_count": 40,
   "id": "af94baaf-e6df-44fe-8312-449bfd0d5004",
   "metadata": {},
   "outputs": [
    {
     "ename": "AttributeError",
     "evalue": "type object 'pwskills4' has no attribute 'change_number'",
     "output_type": "error",
     "traceback": [
      "\u001b[0;31m---------------------------------------------------------------------------\u001b[0m",
      "\u001b[0;31mAttributeError\u001b[0m                            Traceback (most recent call last)",
      "Cell \u001b[0;32mIn[40], line 1\u001b[0m\n\u001b[0;32m----> 1\u001b[0m \u001b[43mpwskills4\u001b[49m\u001b[38;5;241;43m.\u001b[39;49m\u001b[43mchange_number\u001b[49m(\u001b[38;5;241m46663677\u001b[39m)\n",
      "\u001b[0;31mAttributeError\u001b[0m: type object 'pwskills4' has no attribute 'change_number'"
     ]
    }
   ],
   "source": [
    "pwskills4.change_number(46663677)"
   ]
  },
  {
   "cell_type": "code",
   "execution_count": 42,
   "id": "b2705aa9-057f-4467-8182-03004dff793f",
   "metadata": {},
   "outputs": [],
   "source": [
    "delattr(pwskills4, \"student_details\")"
   ]
  },
  {
   "cell_type": "code",
   "execution_count": 43,
   "id": "4ae48341-9e04-445c-9da2-004f5373fffd",
   "metadata": {},
   "outputs": [],
   "source": [
    "delattr (pwskills4,\"mobile_num\") "
   ]
  },
  {
   "cell_type": "code",
   "execution_count": null,
   "id": "1cd29194-32e9-4a4b-a85d-992369237e0e",
   "metadata": {},
   "outputs": [],
   "source": []
  }
 ],
 "metadata": {
  "kernelspec": {
   "display_name": "Python 3 (ipykernel)",
   "language": "python",
   "name": "python3"
  },
  "language_info": {
   "codemirror_mode": {
    "name": "ipython",
    "version": 3
   },
   "file_extension": ".py",
   "mimetype": "text/x-python",
   "name": "python",
   "nbconvert_exporter": "python",
   "pygments_lexer": "ipython3",
   "version": "3.10.8"
  }
 },
 "nbformat": 4,
 "nbformat_minor": 5
}
