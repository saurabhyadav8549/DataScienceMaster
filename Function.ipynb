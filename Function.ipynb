{
 "cells": [
  {
   "cell_type": "code",
   "execution_count": 2,
   "id": "8cfea045-18b1-4774-aecd-65737131f579",
   "metadata": {},
   "outputs": [
    {
     "name": "stdout",
     "output_type": "stream",
     "text": [
      "this is my print\n"
     ]
    }
   ],
   "source": [
    "print (\"this is my print\" )"
   ]
  },
  {
   "cell_type": "code",
   "execution_count": 3,
   "id": "cb41c164-303b-457e-858a-67b6cfcd4dcc",
   "metadata": {},
   "outputs": [],
   "source": [
    "l = [ 324,45,45,45]"
   ]
  },
  {
   "cell_type": "code",
   "execution_count": 5,
   "id": "62b30694-135f-4dee-af33-d070886402fc",
   "metadata": {},
   "outputs": [
    {
     "data": {
      "text/plain": [
       "4"
      ]
     },
     "execution_count": 5,
     "metadata": {},
     "output_type": "execute_result"
    }
   ],
   "source": [
    "len(l)"
   ]
  },
  {
   "cell_type": "code",
   "execution_count": 6,
   "id": "5c7c5586-e261-40ba-a19a-ceb00d1ec7ca",
   "metadata": {},
   "outputs": [
    {
     "data": {
      "text/plain": [
       "list"
      ]
     },
     "execution_count": 6,
     "metadata": {},
     "output_type": "execute_result"
    }
   ],
   "source": [
    "type(l)"
   ]
  },
  {
   "cell_type": "code",
   "execution_count": 7,
   "id": "5e471e7f-62e0-4c51-80b5-9a4cf10823c2",
   "metadata": {},
   "outputs": [],
   "source": [
    "def test():\n",
    "    pass"
   ]
  },
  {
   "cell_type": "code",
   "execution_count": 9,
   "id": "a8eb021f-c1bd-4061-8831-992bb5fb3bc8",
   "metadata": {},
   "outputs": [],
   "source": [
    "def test1():\n",
    "    print(\"this is my very first function\")"
   ]
  },
  {
   "cell_type": "code",
   "execution_count": 10,
   "id": "a0f19468-c023-443e-ba7c-46cfb5c840a9",
   "metadata": {},
   "outputs": [
    {
     "name": "stdout",
     "output_type": "stream",
     "text": [
      "this is my very first function\n"
     ]
    }
   ],
   "source": [
    "test1()"
   ]
  },
  {
   "cell_type": "code",
   "execution_count": 11,
   "id": "f874aedd-dddb-487f-a93c-e2ac534f9344",
   "metadata": {},
   "outputs": [
    {
     "name": "stdout",
     "output_type": "stream",
     "text": [
      "this is my very first function\n"
     ]
    },
    {
     "ename": "TypeError",
     "evalue": "unsupported operand type(s) for +: 'NoneType' and 'str'",
     "output_type": "error",
     "traceback": [
      "\u001b[0;31m---------------------------------------------------------------------------\u001b[0m",
      "\u001b[0;31mTypeError\u001b[0m                                 Traceback (most recent call last)",
      "Cell \u001b[0;32mIn[11], line 1\u001b[0m\n\u001b[0;32m----> 1\u001b[0m \u001b[43mtest1\u001b[49m\u001b[43m(\u001b[49m\u001b[43m)\u001b[49m\u001b[43m \u001b[49m\u001b[38;5;241;43m+\u001b[39;49m\u001b[43m \u001b[49m\u001b[38;5;124;43m\"\u001b[39;49m\u001b[38;5;124;43msudh\u001b[39;49m\u001b[38;5;124;43m\"\u001b[39;49m\n",
      "\u001b[0;31mTypeError\u001b[0m: unsupported operand type(s) for +: 'NoneType' and 'str'"
     ]
    }
   ],
   "source": [
    "test1() + \"sudh\""
   ]
  },
  {
   "cell_type": "code",
   "execution_count": 12,
   "id": "13fae1c9-55d7-47ff-8b9e-f01bb03caeee",
   "metadata": {},
   "outputs": [],
   "source": [
    "def test2():\n",
    "    return \" this is my very first return\""
   ]
  },
  {
   "cell_type": "code",
   "execution_count": 13,
   "id": "7eae5708-2be0-496a-97ce-f3ff29134627",
   "metadata": {},
   "outputs": [
    {
     "data": {
      "text/plain": [
       "' this is my very first return'"
      ]
     },
     "execution_count": 13,
     "metadata": {},
     "output_type": "execute_result"
    }
   ],
   "source": [
    "test2()"
   ]
  },
  {
   "cell_type": "code",
   "execution_count": 17,
   "id": "5b9668fb-5d36-46ef-b490-83ad2345d8e9",
   "metadata": {},
   "outputs": [
    {
     "data": {
      "text/plain": [
       "' this is my very first return sudh'"
      ]
     },
     "execution_count": 17,
     "metadata": {},
     "output_type": "execute_result"
    }
   ],
   "source": [
    "test2()+ \" sudh\"  "
   ]
  },
  {
   "cell_type": "code",
   "execution_count": 1,
   "id": "dd2df64d-0023-42e4-af5b-f6e1106d5dd9",
   "metadata": {},
   "outputs": [],
   "source": [
    "def test3 ():\n",
    "    \n",
    "    return \"sudh\", 23 , 345.56,[1,2,3,4]\n"
   ]
  },
  {
   "cell_type": "code",
   "execution_count": 2,
   "id": "9acbfe3c-03f3-4086-beeb-40525b391900",
   "metadata": {},
   "outputs": [
    {
     "data": {
      "text/plain": [
       "('sudh', 23, 345.56, [1, 2, 3, 4])"
      ]
     },
     "execution_count": 2,
     "metadata": {},
     "output_type": "execute_result"
    }
   ],
   "source": [
    "test3 ()"
   ]
  },
  {
   "cell_type": "code",
   "execution_count": 3,
   "id": "9c8c6a5a-c61c-40f2-a0cb-421ba391f39c",
   "metadata": {},
   "outputs": [],
   "source": [
    "a,b,c,d = test3()"
   ]
  },
  {
   "cell_type": "code",
   "execution_count": 4,
   "id": "8ba5f035-83d7-44f4-b82a-a46c83c8c3d9",
   "metadata": {},
   "outputs": [
    {
     "data": {
      "text/plain": [
       "'sudh'"
      ]
     },
     "execution_count": 4,
     "metadata": {},
     "output_type": "execute_result"
    }
   ],
   "source": [
    "a"
   ]
  },
  {
   "cell_type": "code",
   "execution_count": 5,
   "id": "6c23350a-3e3a-4add-961a-53999c60a3fe",
   "metadata": {},
   "outputs": [
    {
     "data": {
      "text/plain": [
       "23"
      ]
     },
     "execution_count": 5,
     "metadata": {},
     "output_type": "execute_result"
    }
   ],
   "source": [
    "b"
   ]
  },
  {
   "cell_type": "code",
   "execution_count": 6,
   "id": "e772f997-53d1-4a64-954c-446bfd13eab9",
   "metadata": {},
   "outputs": [
    {
     "data": {
      "text/plain": [
       "345.56"
      ]
     },
     "execution_count": 6,
     "metadata": {},
     "output_type": "execute_result"
    }
   ],
   "source": [
    "c"
   ]
  },
  {
   "cell_type": "code",
   "execution_count": 7,
   "id": "aa9fcbaa-524e-4aa3-8036-4712a9a02fbf",
   "metadata": {},
   "outputs": [
    {
     "data": {
      "text/plain": [
       "[1, 2, 3, 4]"
      ]
     },
     "execution_count": 7,
     "metadata": {},
     "output_type": "execute_result"
    }
   ],
   "source": [
    "d"
   ]
  },
  {
   "cell_type": "code",
   "execution_count": 8,
   "id": "b9f6ca35-3bff-49d5-a6d1-fe720f3403fc",
   "metadata": {},
   "outputs": [],
   "source": [
    "a=1\n",
    "b=4"
   ]
  },
  {
   "cell_type": "code",
   "execution_count": 9,
   "id": "b83eafd7-8b2f-48a7-897f-8aad914a6a1b",
   "metadata": {},
   "outputs": [],
   "source": [
    "a,b = 1,4"
   ]
  },
  {
   "cell_type": "code",
   "execution_count": 10,
   "id": "3bd7e111-46fd-4222-b4c1-3996a652d878",
   "metadata": {},
   "outputs": [],
   "source": [
    "def test4():\n",
    "    a= 5+6/7\n",
    "    return a"
   ]
  },
  {
   "cell_type": "code",
   "execution_count": 11,
   "id": "8a59164b-5f6b-4ac0-b752-a87a82acdc39",
   "metadata": {},
   "outputs": [
    {
     "data": {
      "text/plain": [
       "5.857142857142857"
      ]
     },
     "execution_count": 11,
     "metadata": {},
     "output_type": "execute_result"
    }
   ],
   "source": [
    "test4()"
   ]
  },
  {
   "cell_type": "code",
   "execution_count": 13,
   "id": "dd91cdbd-31c4-4b27-9417-c4f7759b963e",
   "metadata": {},
   "outputs": [],
   "source": [
    "def test5(a,b,c):\n",
    "    d= a+b/c\n",
    "    return d"
   ]
  },
  {
   "cell_type": "code",
   "execution_count": 14,
   "id": "0f4670da-58a6-47d5-97fb-5a7efce20f63",
   "metadata": {},
   "outputs": [
    {
     "ename": "TypeError",
     "evalue": "test5() missing 3 required positional arguments: 'a', 'b', and 'c'",
     "output_type": "error",
     "traceback": [
      "\u001b[0;31m---------------------------------------------------------------------------\u001b[0m",
      "\u001b[0;31mTypeError\u001b[0m                                 Traceback (most recent call last)",
      "Cell \u001b[0;32mIn[14], line 1\u001b[0m\n\u001b[0;32m----> 1\u001b[0m \u001b[43mtest5\u001b[49m\u001b[43m(\u001b[49m\u001b[43m)\u001b[49m\n",
      "\u001b[0;31mTypeError\u001b[0m: test5() missing 3 required positional arguments: 'a', 'b', and 'c'"
     ]
    }
   ],
   "source": [
    "test5()"
   ]
  },
  {
   "cell_type": "code",
   "execution_count": 15,
   "id": "af050a00-db1c-4ec2-8f64-e9937b97f6f2",
   "metadata": {},
   "outputs": [
    {
     "data": {
      "text/plain": [
       "2.625"
      ]
     },
     "execution_count": 15,
     "metadata": {},
     "output_type": "execute_result"
    }
   ],
   "source": [
    "test5(2,5,8)"
   ]
  },
  {
   "cell_type": "code",
   "execution_count": 18,
   "id": "8db1ca67-0cd3-48fe-821b-05ec2e5a7089",
   "metadata": {},
   "outputs": [],
   "source": [
    "def test6(a,b):\n",
    "    return a+b\n",
    "    "
   ]
  },
  {
   "cell_type": "code",
   "execution_count": 19,
   "id": "b6b07f3c-ee44-4304-9b2d-27445decf537",
   "metadata": {},
   "outputs": [
    {
     "data": {
      "text/plain": [
       "7"
      ]
     },
     "execution_count": 19,
     "metadata": {},
     "output_type": "execute_result"
    }
   ],
   "source": [
    "test6(3,4)"
   ]
  },
  {
   "cell_type": "code",
   "execution_count": 20,
   "id": "a1c67a7b-8763-420e-b1ad-c843c0f46f4e",
   "metadata": {},
   "outputs": [
    {
     "data": {
      "text/plain": [
       "'sudh kumar '"
      ]
     },
     "execution_count": 20,
     "metadata": {},
     "output_type": "execute_result"
    }
   ],
   "source": [
    "test6(\"sudh \", \"kumar \")"
   ]
  },
  {
   "cell_type": "code",
   "execution_count": 21,
   "id": "c282dc7a-8750-4202-a19b-f8b1f01f3913",
   "metadata": {},
   "outputs": [
    {
     "data": {
      "text/plain": [
       "[1, 2, 3, 4, 5, 2, 3, 4, 5, 6]"
      ]
     },
     "execution_count": 21,
     "metadata": {},
     "output_type": "execute_result"
    }
   ],
   "source": [
    "test6([1,2,3,4,5],[2,3,4,5,6])"
   ]
  },
  {
   "cell_type": "code",
   "execution_count": 9,
   "id": "f642252a-1827-4bf1-a5de-755012fa2869",
   "metadata": {},
   "outputs": [],
   "source": [
    "l = [1,2,3,4,\"sudh\", \"kumar\", [ 1,2,3,4,5,6]]"
   ]
  },
  {
   "cell_type": "code",
   "execution_count": 10,
   "id": "2a6f584e-e314-42cf-91d7-656e6782808d",
   "metadata": {},
   "outputs": [],
   "source": [
    "l1= []\n",
    "for i in l:\n",
    "    if type(i)==int or type(i)==float :\n",
    "        l1.append(i)"
   ]
  },
  {
   "cell_type": "code",
   "execution_count": 11,
   "id": "e1de897e-cad6-4782-a353-b7489d35eb17",
   "metadata": {},
   "outputs": [
    {
     "data": {
      "text/plain": [
       "[1, 2, 3, 4]"
      ]
     },
     "execution_count": 11,
     "metadata": {},
     "output_type": "execute_result"
    }
   ],
   "source": [
    "l1"
   ]
  },
  {
   "cell_type": "code",
   "execution_count": 12,
   "id": "9e6e4596-87e8-4f9f-9995-d5b40627da1e",
   "metadata": {},
   "outputs": [],
   "source": [
    "def test7(l):\n",
    "    l1= []\n",
    "    for i in l:\n",
    "        if type(i)==int or type(i)==float :\n",
    "            l1.append(i)\n",
    "    return l1"
   ]
  },
  {
   "cell_type": "code",
   "execution_count": 13,
   "id": "beee9352-c6c3-4efc-aae4-2cc948845586",
   "metadata": {},
   "outputs": [
    {
     "data": {
      "text/plain": [
       "[1, 2, 3, 4]"
      ]
     },
     "execution_count": 13,
     "metadata": {},
     "output_type": "execute_result"
    }
   ],
   "source": [
    "test7(l)"
   ]
  },
  {
   "cell_type": "code",
   "execution_count": 14,
   "id": "a1605445-ff28-4d2c-b3a1-35e1d795f968",
   "metadata": {},
   "outputs": [
    {
     "data": {
      "text/plain": [
       "[1, 2, 3, 4, 'sudh', 'kumar', [1, 2, 3, 4, 5, 6]]"
      ]
     },
     "execution_count": 14,
     "metadata": {},
     "output_type": "execute_result"
    }
   ],
   "source": [
    "l"
   ]
  },
  {
   "cell_type": "code",
   "execution_count": 15,
   "id": "72a0cb08-6645-442d-9465-73d80ed0a90b",
   "metadata": {},
   "outputs": [],
   "source": [
    "def test8(a) :\n",
    "    \n",
    "    \"\"\" this is my function to extract numeric data from list \"\"\"\n",
    "    l = []\n",
    "    for i in a :\n",
    "        if type(i) == list :\n",
    "            for j in i :\n",
    "                l.append(j)\n",
    "        else :\n",
    "                if type(i) == int or type(i) == float :\n",
    "                    l.append(i)\n",
    "    return l\n",
    "                \n",
    "    "
   ]
  },
  {
   "cell_type": "code",
   "execution_count": 16,
   "id": "eb1d77a2-694f-4905-8a61-48b97bd3441b",
   "metadata": {},
   "outputs": [
    {
     "data": {
      "text/plain": [
       "[1, 2, 3, 4, 1, 2, 3, 4, 5, 6]"
      ]
     },
     "execution_count": 16,
     "metadata": {},
     "output_type": "execute_result"
    }
   ],
   "source": [
    "test8(l)"
   ]
  },
  {
   "cell_type": "code",
   "execution_count": null,
   "id": "bbf0f100-e751-41bc-be2b-0baf44cc5169",
   "metadata": {},
   "outputs": [],
   "source": [
    "test8()"
   ]
  },
  {
   "cell_type": "code",
   "execution_count": 20,
   "id": "89a4de22-c386-4fa8-9d3c-2289f1f5d4c2",
   "metadata": {},
   "outputs": [],
   "source": [
    "def  test10(a,b):\n",
    "    return a+b"
   ]
  },
  {
   "cell_type": "code",
   "execution_count": 21,
   "id": "52181afa-b5cf-46ec-b572-b77c79743536",
   "metadata": {},
   "outputs": [],
   "source": [
    "def test11(*args): ## to pass n number of arguements\n",
    "    return args"
   ]
  },
  {
   "cell_type": "code",
   "execution_count": 22,
   "id": "6a00208d-871a-41e6-b24d-cfae770b5a3f",
   "metadata": {},
   "outputs": [
    {
     "data": {
      "text/plain": [
       "tuple"
      ]
     },
     "execution_count": 22,
     "metadata": {},
     "output_type": "execute_result"
    }
   ],
   "source": [
    "type(test11())"
   ]
  },
  {
   "cell_type": "code",
   "execution_count": 23,
   "id": "11032bc1-fae5-4ef4-9558-efa0d357a149",
   "metadata": {},
   "outputs": [
    {
     "data": {
      "text/plain": [
       "(1, 2, 3)"
      ]
     },
     "execution_count": 23,
     "metadata": {},
     "output_type": "execute_result"
    }
   ],
   "source": [
    "test11(1,2,3)"
   ]
  },
  {
   "cell_type": "code",
   "execution_count": 24,
   "id": "3231d6c9-4ddd-4fbf-aa59-9f980a15a1d3",
   "metadata": {},
   "outputs": [
    {
     "data": {
      "text/plain": [
       "(1, 2, 3, 'sudh', 'kumar', [1, 2, 3, 4, 4])"
      ]
     },
     "execution_count": 24,
     "metadata": {},
     "output_type": "execute_result"
    }
   ],
   "source": [
    "test11(1,2,3,\"sudh\",\"kumar\",[1,2,3,4,4])"
   ]
  },
  {
   "cell_type": "code",
   "execution_count": 26,
   "id": "fb67e3f5-db74-4b7e-8d90-df4bdf224596",
   "metadata": {},
   "outputs": [],
   "source": [
    "def test12(*sudh): # * allow to pass multiple input\n",
    "    return sudh"
   ]
  },
  {
   "cell_type": "code",
   "execution_count": 27,
   "id": "68d9491c-cd08-42b8-b811-c6b56e44079c",
   "metadata": {},
   "outputs": [
    {
     "data": {
      "text/plain": [
       "(1, 2, 34)"
      ]
     },
     "execution_count": 27,
     "metadata": {},
     "output_type": "execute_result"
    }
   ],
   "source": [
    "test12(1,2,34,)"
   ]
  },
  {
   "cell_type": "code",
   "execution_count": 29,
   "id": "02329425-47fc-4885-a11e-4a470bd27cd1",
   "metadata": {},
   "outputs": [],
   "source": [
    "def test13(*args , a):\n",
    "    return args , a"
   ]
  },
  {
   "cell_type": "code",
   "execution_count": 30,
   "id": "4dfa032e-561b-48ea-aa38-36ac7588b13d",
   "metadata": {},
   "outputs": [
    {
     "data": {
      "text/plain": [
       "((1, 2, 3, 4), 23)"
      ]
     },
     "execution_count": 30,
     "metadata": {},
     "output_type": "execute_result"
    }
   ],
   "source": [
    "test13(1,2,3,4,a=23)"
   ]
  },
  {
   "cell_type": "code",
   "execution_count": 32,
   "id": "538aa971-c745-48d0-841c-ab66ffb9f077",
   "metadata": {},
   "outputs": [],
   "source": [
    "def test14(c,d,a=23,b=1):\n",
    "    return a,b,c,d"
   ]
  },
  {
   "cell_type": "code",
   "execution_count": 33,
   "id": "d4ef10fb-0c03-4b01-b2ff-c832bdc5f77f",
   "metadata": {},
   "outputs": [
    {
     "ename": "TypeError",
     "evalue": "test14() missing 2 required positional arguments: 'c' and 'd'",
     "output_type": "error",
     "traceback": [
      "\u001b[0;31m---------------------------------------------------------------------------\u001b[0m",
      "\u001b[0;31mTypeError\u001b[0m                                 Traceback (most recent call last)",
      "Cell \u001b[0;32mIn[33], line 1\u001b[0m\n\u001b[0;32m----> 1\u001b[0m \u001b[43mtest14\u001b[49m\u001b[43m(\u001b[49m\u001b[43m)\u001b[49m\n",
      "\u001b[0;31mTypeError\u001b[0m: test14() missing 2 required positional arguments: 'c' and 'd'"
     ]
    }
   ],
   "source": [
    "test14()\n"
   ]
  },
  {
   "cell_type": "code",
   "execution_count": 34,
   "id": "206046f1-74ef-413d-9e6e-879c1a650400",
   "metadata": {},
   "outputs": [
    {
     "data": {
      "text/plain": [
       "(23, 1, 3, 4)"
      ]
     },
     "execution_count": 34,
     "metadata": {},
     "output_type": "execute_result"
    }
   ],
   "source": [
    "test14(3,4)"
   ]
  },
  {
   "cell_type": "code",
   "execution_count": 36,
   "id": "6d78594a-af9d-4e12-bdfa-483ebe50f00c",
   "metadata": {},
   "outputs": [
    {
     "data": {
      "text/plain": [
       "(2342, 1, 2, 5)"
      ]
     },
     "execution_count": 36,
     "metadata": {},
     "output_type": "execute_result"
    }
   ],
   "source": [
    "test14(2,5,a=2342)"
   ]
  },
  {
   "cell_type": "code",
   "execution_count": 37,
   "id": "e7bd0ca2-104f-4ee4-8e38-966186c723ee",
   "metadata": {},
   "outputs": [],
   "source": [
    "def test15(**kwargs):\n",
    "    return kwargs"
   ]
  },
  {
   "cell_type": "code",
   "execution_count": 39,
   "id": "0c230380-f1e9-42bd-b2e0-d2182c5ab1e0",
   "metadata": {},
   "outputs": [
    {
     "data": {
      "text/plain": [
       "{}"
      ]
     },
     "execution_count": 39,
     "metadata": {},
     "output_type": "execute_result"
    }
   ],
   "source": [
    "test15 ()"
   ]
  },
  {
   "cell_type": "code",
   "execution_count": 40,
   "id": "0e040d6c-e05b-4fbb-adfd-ea3144e73a76",
   "metadata": {},
   "outputs": [
    {
     "data": {
      "text/plain": [
       "dict"
      ]
     },
     "execution_count": 40,
     "metadata": {},
     "output_type": "execute_result"
    }
   ],
   "source": [
    "type(test15())"
   ]
  },
  {
   "cell_type": "code",
   "execution_count": 41,
   "id": "815201ce-ed7b-436d-8d7d-cb74c92dd37f",
   "metadata": {},
   "outputs": [
    {
     "data": {
      "text/plain": [
       "{'a': [1, 2, 3, 4], 'b': 'sudh', 'c': 23.45}"
      ]
     },
     "execution_count": 41,
     "metadata": {},
     "output_type": "execute_result"
    }
   ],
   "source": [
    "test15(a=[1,2,3,4],b= \"sudh\",c=23.45)"
   ]
  },
  {
   "cell_type": "code",
   "execution_count": null,
   "id": "90a7d7b2-6f14-4aaf-b8f4-32982584afda",
   "metadata": {},
   "outputs": [],
   "source": []
  }
 ],
 "metadata": {
  "kernelspec": {
   "display_name": "Python 3 (ipykernel)",
   "language": "python",
   "name": "python3"
  },
  "language_info": {
   "codemirror_mode": {
    "name": "ipython",
    "version": 3
   },
   "file_extension": ".py",
   "mimetype": "text/x-python",
   "name": "python",
   "nbconvert_exporter": "python",
   "pygments_lexer": "ipython3",
   "version": "3.10.8"
  }
 },
 "nbformat": 4,
 "nbformat_minor": 5
}
