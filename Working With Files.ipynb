{
 "cells": [
  {
   "cell_type": "code",
   "execution_count": 1,
   "id": "68083031-4c17-43b4-b661-b2d8318892c8",
   "metadata": {},
   "outputs": [],
   "source": [
    "f = open(\"test.txt\",'w') # create file"
   ]
  },
  {
   "cell_type": "code",
   "execution_count": 2,
   "id": "ba7961da-f88d-4a09-84bc-60ecdff1f270",
   "metadata": {},
   "outputs": [
    {
     "data": {
      "text/plain": [
       "'/home/jovyan/work'"
      ]
     },
     "execution_count": 2,
     "metadata": {},
     "output_type": "execute_result"
    }
   ],
   "source": [
    "pwd # present working directory"
   ]
  },
  {
   "cell_type": "code",
   "execution_count": 3,
   "id": "daa57f2e-0b3e-47b8-81ad-44bc9aff0af8",
   "metadata": {},
   "outputs": [
    {
     "name": "stdout",
     "output_type": "stream",
     "text": [
      " Abstraction.ipynb             ListTupleSet.ipynb\n",
      " basic.ipynb                   MapReduceFilter.ipynb\n",
      "'Class Method.ipynb'           OopsPart1.ipynb\n",
      " comprehension.ipynb           polymorphism.ipynb\n",
      " DECORATORS.ipynb              PropertyDecorators.ipynb\n",
      " DictionaryConditional.ipynb   README.md\n",
      " Encapsulation.ipynb          'special Magic or DUNDER.ipynb'\n",
      " ForLoop.ipynb                 StaticMethod.ipynb\n",
      " Function.ipynb                test.txt\n",
      " GeneratorFunction.ipynb       Untitled1.ipynb\n",
      " Inheritence.ipynb             Untitled.ipynb\n",
      " LambdaFunction.ipynb          whileLoop.ipynb\n"
     ]
    }
   ],
   "source": [
    " ls"
   ]
  },
  {
   "cell_type": "code",
   "execution_count": 5,
   "id": "4e9ecea8-9939-4181-8b5f-4c263b04a047",
   "metadata": {},
   "outputs": [
    {
     "name": "stdout",
     "output_type": "stream",
     "text": [
      "[Errno 2] No such file or directory: 'work # change directory'\n",
      "/home/jovyan/work\n"
     ]
    }
   ],
   "source": [
    "cd work # change directory"
   ]
  },
  {
   "cell_type": "code",
   "execution_count": 6,
   "id": "7f3d7d90-5ef7-4251-9134-ad54730246d0",
   "metadata": {},
   "outputs": [
    {
     "data": {
      "text/plain": [
       "30"
      ]
     },
     "execution_count": 6,
     "metadata": {},
     "output_type": "execute_result"
    }
   ],
   "source": [
    "f.write(\"this is my first file to write\")"
   ]
  },
  {
   "cell_type": "code",
   "execution_count": 7,
   "id": "7ec781f2-ea9c-4984-b014-246903ca2524",
   "metadata": {},
   "outputs": [],
   "source": [
    "f.close() # to close file"
   ]
  },
  {
   "cell_type": "code",
   "execution_count": 8,
   "id": "1e87b67e-be4a-48e4-832a-20944d85f165",
   "metadata": {},
   "outputs": [],
   "source": [
    "f = open(\"test.txt\", 'w')"
   ]
  },
  {
   "cell_type": "code",
   "execution_count": 9,
   "id": "10df9041-c556-4f76-878c-54b2609f90a0",
   "metadata": {},
   "outputs": [
    {
     "data": {
      "text/plain": [
       "15"
      ]
     },
     "execution_count": 9,
     "metadata": {},
     "output_type": "execute_result"
    }
   ],
   "source": [
    "f.write(\"this is my file\")"
   ]
  },
  {
   "cell_type": "code",
   "execution_count": 10,
   "id": "ba8d6859-6575-48a2-bcef-92a307499260",
   "metadata": {},
   "outputs": [],
   "source": [
    "f.close()"
   ]
  },
  {
   "cell_type": "code",
   "execution_count": 19,
   "id": "925d85cd-4819-4d99-b78e-26d3a5aab499",
   "metadata": {},
   "outputs": [],
   "source": [
    " f = open(\"test.txt\",'a') # open in write mode without deleting previous data"
   ]
  },
  {
   "cell_type": "code",
   "execution_count": 15,
   "id": "36ecc9b7-993f-4ef6-a7dd-d264499ff65f",
   "metadata": {},
   "outputs": [
    {
     "data": {
      "text/plain": [
       "264"
      ]
     },
     "execution_count": 15,
     "metadata": {},
     "output_type": "execute_result"
    }
   ],
   "source": [
    "f.write(\"With the approval of the Competent Authority, Shri Ajay Pratap Singh is appointed as Assistant Private Secretary in the personal establishment of the Hon’ble Minister of State for Fisheries, Animal Husbandry and Dairying and Panchayati Raj (Prof. S.P. Singh Baghel\")"
   ]
  },
  {
   "cell_type": "code",
   "execution_count": 16,
   "id": "9d79373a-a9a6-4d17-a156-86e072c2bb83",
   "metadata": {},
   "outputs": [],
   "source": [
    "f.close()"
   ]
  },
  {
   "cell_type": "code",
   "execution_count": 17,
   "id": "3ce06405-1155-4bea-9516-37fff925b429",
   "metadata": {},
   "outputs": [],
   "source": [
    "f = open(\"test.txt\",'r') # open in read mode"
   ]
  },
  {
   "cell_type": "code",
   "execution_count": 18,
   "id": "2a28951c-31e0-461c-8ea2-734a6e858d19",
   "metadata": {},
   "outputs": [
    {
     "data": {
      "text/plain": [
       "'this is my fileWith the approval of the Competent Authority, Shri Ajay Pratap Singh is appointed as Assistant Private Secretary in the personal establishment of the Hon’ble Minister of State for Fisheries, Animal Husbandry and Dairying and Panchayati Raj (Prof. S.P. Singh Baghel'"
      ]
     },
     "execution_count": 18,
     "metadata": {},
     "output_type": "execute_result"
    }
   ],
   "source": [
    "f.read()"
   ]
  },
  {
   "cell_type": "code",
   "execution_count": 20,
   "id": "1e588852-c93c-4ebe-b041-617f4b9801a3",
   "metadata": {},
   "outputs": [],
   "source": [
    "data = open(\"test.txt\",'r')"
   ]
  },
  {
   "cell_type": "code",
   "execution_count": 21,
   "id": "e10807c1-c4ae-42b4-b49a-39951094ea25",
   "metadata": {},
   "outputs": [
    {
     "data": {
      "text/plain": [
       "<_io.TextIOWrapper name='test.txt' mode='r' encoding='UTF-8'>"
      ]
     },
     "execution_count": 21,
     "metadata": {},
     "output_type": "execute_result"
    }
   ],
   "source": [
    "data"
   ]
  },
  {
   "cell_type": "code",
   "execution_count": 22,
   "id": "acf5d353-68d8-4225-ac94-72b5a77c09ae",
   "metadata": {},
   "outputs": [
    {
     "data": {
      "text/plain": [
       "'this is my fileWith the approval of the Competent Authority, Shri Ajay Pratap Singh is appointed as Assistant Private Secretary in the personal establishment of the Hon’ble Minister of State for Fisheries, Animal Husbandry and Dairying and Panchayati Raj (Prof. S.P. Singh Baghel'"
      ]
     },
     "execution_count": 22,
     "metadata": {},
     "output_type": "execute_result"
    }
   ],
   "source": [
    "data.read()"
   ]
  },
  {
   "cell_type": "code",
   "execution_count": 23,
   "id": "47488de8-00d1-49da-bfb1-a9c80ab64eab",
   "metadata": {},
   "outputs": [
    {
     "data": {
      "text/plain": [
       "''"
      ]
     },
     "execution_count": 23,
     "metadata": {},
     "output_type": "execute_result"
    }
   ],
   "source": [
    "data.readline()"
   ]
  },
  {
   "cell_type": "code",
   "execution_count": 24,
   "id": "50a15019-9848-4df8-b894-d0476f1f6c13",
   "metadata": {},
   "outputs": [
    {
     "data": {
      "text/plain": [
       "0"
      ]
     },
     "execution_count": 24,
     "metadata": {},
     "output_type": "execute_result"
    }
   ],
   "source": [
    "data.seek(0) # adjust pointer/cursor from where data read by line"
   ]
  },
  {
   "cell_type": "code",
   "execution_count": 25,
   "id": "42df6219-16e1-43de-a054-4388e5cce428",
   "metadata": {},
   "outputs": [
    {
     "data": {
      "text/plain": [
       "'this is my fileWith the approval of the Competent Authority, Shri Ajay Pratap Singh is appointed as Assistant Private Secretary in the personal establishment of the Hon’ble Minister of State for Fisheries, Animal Husbandry and Dairying and Panchayati Raj (Prof. S.P. Singh Baghel'"
      ]
     },
     "execution_count": 25,
     "metadata": {},
     "output_type": "execute_result"
    }
   ],
   "source": [
    "data.readline()"
   ]
  },
  {
   "cell_type": "code",
   "execution_count": 29,
   "id": "24441527-dd1b-48bb-93a1-cf92e1db5997",
   "metadata": {},
   "outputs": [
    {
     "data": {
      "text/plain": [
       "10"
      ]
     },
     "execution_count": 29,
     "metadata": {},
     "output_type": "execute_result"
    }
   ],
   "source": [
    "data.seek(10) # pointer on 10 position"
   ]
  },
  {
   "cell_type": "code",
   "execution_count": 30,
   "id": "6d1f7506-2c61-4b24-bf45-2606b36fc7da",
   "metadata": {},
   "outputs": [
    {
     "data": {
      "text/plain": [
       "' fileWith the approval of the Competent Authority, Shri Ajay Pratap Singh is appointed as Assistant Private Secretary in the personal establishment of the Hon’ble Minister of State for Fisheries, Animal Husbandry and Dairying and Panchayati Raj (Prof. S.P. Singh Baghel'"
      ]
     },
     "execution_count": 30,
     "metadata": {},
     "output_type": "execute_result"
    }
   ],
   "source": [
    "data.readline()"
   ]
  },
  {
   "cell_type": "code",
   "execution_count": 31,
   "id": "dc7e38b9-ed0f-4a4f-8817-eea1622ffcf8",
   "metadata": {},
   "outputs": [],
   "source": [
    "data1 = open(\"test.txt\",'r') "
   ]
  },
  {
   "cell_type": "code",
   "execution_count": 32,
   "id": "67d20b76-9a41-46d6-bd30-99bea983ab16",
   "metadata": {},
   "outputs": [
    {
     "name": "stdout",
     "output_type": "stream",
     "text": [
      "this is my fileWith the approval of the Competent Authority, Shri Ajay Pratap Singh is appointed as Assistant Private Secretary in the personal establishment of the Hon’ble Minister of State for Fisheries, Animal Husbandry and Dairying and Panchayati Raj (Prof. S.P. Singh Baghel\n"
     ]
    }
   ],
   "source": [
    "for i in data1 : # read by for loop\n",
    "    print(i)"
   ]
  },
  {
   "cell_type": "code",
   "execution_count": 33,
   "id": "d618692c-7b81-4eda-bf40-9bc23aeb913d",
   "metadata": {},
   "outputs": [],
   "source": [
    "import os"
   ]
  },
  {
   "cell_type": "code",
   "execution_count": 34,
   "id": "26d241e3-0859-4ad3-a222-7bf541398882",
   "metadata": {},
   "outputs": [
    {
     "data": {
      "text/plain": [
       "281"
      ]
     },
     "execution_count": 34,
     "metadata": {},
     "output_type": "execute_result"
    }
   ],
   "source": [
    "os.path.getsize(\"test.txt\") # to calculate size of file"
   ]
  },
  {
   "cell_type": "code",
   "execution_count": 35,
   "id": "15437537-72e6-49ee-8fd8-8e5d57f94b30",
   "metadata": {},
   "outputs": [],
   "source": [
    "os.remove(\"test.txt\") # to delete a existing file"
   ]
  },
  {
   "cell_type": "code",
   "execution_count": 36,
   "id": "785f66e3-dd96-469e-b9b9-1531f63577ff",
   "metadata": {},
   "outputs": [],
   "source": [
    "f = open(\"test1.txt\",'w')"
   ]
  },
  {
   "cell_type": "code",
   "execution_count": 37,
   "id": "40b15b80-76d3-420d-876d-5f9b6e3d75ab",
   "metadata": {},
   "outputs": [
    {
     "data": {
      "text/plain": [
       "180"
      ]
     },
     "execution_count": 37,
     "metadata": {},
     "output_type": "execute_result"
    }
   ],
   "source": [
    "f.write(\"Data science is an interdisciplinary field that uses scientific methods, processes, algorithms, and systems to extract knowledge and insights from structured and unstructured data.\")"
   ]
  },
  {
   "cell_type": "code",
   "execution_count": 38,
   "id": "f0f9e303-7e71-4bd0-bec5-3fd5b63c7a8a",
   "metadata": {},
   "outputs": [],
   "source": [
    "f.close()"
   ]
  },
  {
   "cell_type": "code",
   "execution_count": 39,
   "id": "81d80b1d-09e1-4ebb-9d0d-4ca7f8a1fe23",
   "metadata": {},
   "outputs": [],
   "source": [
    "os.rename(\"test1.txt\", \"new.txt\") # to rename a file"
   ]
  },
  {
   "cell_type": "code",
   "execution_count": 40,
   "id": "6906a8fc-58f1-4596-83e4-42ba14214280",
   "metadata": {},
   "outputs": [],
   "source": [
    "import shutil # create copy of existing file"
   ]
  },
  {
   "cell_type": "code",
   "execution_count": 41,
   "id": "85a6eab9-58ae-4f7b-bbd4-a50285ab4bff",
   "metadata": {},
   "outputs": [
    {
     "data": {
      "text/plain": [
       "'copy_new.txt'"
      ]
     },
     "execution_count": 41,
     "metadata": {},
     "output_type": "execute_result"
    }
   ],
   "source": [
    "shutil.copy(\"new.txt\" , \"copy_new.txt\")"
   ]
  },
  {
   "cell_type": "code",
   "execution_count": 43,
   "id": "6a4e0de0-7a12-4519-b761-ba9d91a171bc",
   "metadata": {},
   "outputs": [
    {
     "name": "stdout",
     "output_type": "stream",
     "text": [
      "Data science is an interdisciplinary field that uses scientific methods, processes, algorithms, and systems to extract knowledge and insights from structured and unstructured data.\n"
     ]
    }
   ],
   "source": [
    "with open (\"new.txt\" , \"r\") as f :\n",
    "    print(f.read())"
   ]
  },
  {
   "cell_type": "code",
   "execution_count": null,
   "id": "473b6159-3e5f-4615-acea-440881d2b9fd",
   "metadata": {},
   "outputs": [],
   "source": [
    "\n"
   ]
  }
 ],
 "metadata": {
  "kernelspec": {
   "display_name": "Python 3 (ipykernel)",
   "language": "python",
   "name": "python3"
  },
  "language_info": {
   "codemirror_mode": {
    "name": "ipython",
    "version": 3
   },
   "file_extension": ".py",
   "mimetype": "text/x-python",
   "name": "python",
   "nbconvert_exporter": "python",
   "pygments_lexer": "ipython3",
   "version": "3.10.8"
  }
 },
 "nbformat": 4,
 "nbformat_minor": 5
}
