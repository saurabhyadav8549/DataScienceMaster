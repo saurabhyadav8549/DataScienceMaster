{
 "cells": [
  {
   "cell_type": "code",
   "execution_count": 3,
   "id": "57db9df8-ebcb-4e8c-81cd-b7ff0b72e7b6",
   "metadata": {},
   "outputs": [],
   "source": [
    "l = [ 1,2,3,4,45,5]\n",
    "l1 = []\n",
    "for i in l:\n",
    "    l1.append(i**2)"
   ]
  },
  {
   "cell_type": "code",
   "execution_count": 4,
   "id": "8bd7b3d4-e3bc-448d-a02e-58641352c003",
   "metadata": {},
   "outputs": [
    {
     "data": {
      "text/plain": [
       "[1, 4, 9, 16, 2025, 25]"
      ]
     },
     "execution_count": 4,
     "metadata": {},
     "output_type": "execute_result"
    }
   ],
   "source": [
    "l1"
   ]
  },
  {
   "cell_type": "code",
   "execution_count": 5,
   "id": "552071ab-5d1d-4ca1-885e-9f1f8d7087e0",
   "metadata": {},
   "outputs": [
    {
     "data": {
      "text/plain": [
       "[1, 2, 3, 4, 45, 5]"
      ]
     },
     "execution_count": 5,
     "metadata": {},
     "output_type": "execute_result"
    }
   ],
   "source": [
    "l"
   ]
  },
  {
   "cell_type": "code",
   "execution_count": 6,
   "id": "7e5dfb2c-51a6-441e-a219-1ea35d5b3bf1",
   "metadata": {},
   "outputs": [
    {
     "data": {
      "text/plain": [
       "[1, 4, 9, 16, 2025, 25]"
      ]
     },
     "execution_count": 6,
     "metadata": {},
     "output_type": "execute_result"
    }
   ],
   "source": [
    "[i ** 2 for i in l]"
   ]
  },
  {
   "cell_type": "code",
   "execution_count": 7,
   "id": "08bc271a-4b15-4c7b-9114-132de819ebe0",
   "metadata": {},
   "outputs": [
    {
     "data": {
      "text/plain": [
       "[2, 4]"
      ]
     },
     "execution_count": 7,
     "metadata": {},
     "output_type": "execute_result"
    }
   ],
   "source": [
    "[ i for i in l if i%2==0]"
   ]
  },
  {
   "cell_type": "code",
   "execution_count": 8,
   "id": "3e11660e-6838-45d4-a0ed-0f0589a294e5",
   "metadata": {},
   "outputs": [],
   "source": [
    "l1 = [ \"sudh\", \"pwskills\", \"kumar \", \"datascience\"]"
   ]
  },
  {
   "cell_type": "code",
   "execution_count": 10,
   "id": "b3e1201d-f806-4a29-8576-96be197fbf6c",
   "metadata": {},
   "outputs": [
    {
     "data": {
      "text/plain": [
       "['SUDH', 'PWSKILLS', 'KUMAR ', 'DATASCIENCE']"
      ]
     },
     "execution_count": 10,
     "metadata": {},
     "output_type": "execute_result"
    }
   ],
   "source": [
    "[i.upper() for i in l1]"
   ]
  },
  {
   "cell_type": "code",
   "execution_count": 4,
   "id": "bd508e3e-a832-4b06-ad0b-47f0beaec61a",
   "metadata": {},
   "outputs": [
    {
     "data": {
      "text/plain": [
       "[1, 2, 3, 4, 45, 5]"
      ]
     },
     "execution_count": 4,
     "metadata": {},
     "output_type": "execute_result"
    }
   ],
   "source": [
    "l"
   ]
  },
  {
   "cell_type": "code",
   "execution_count": null,
   "id": "0bbe0fd5-6f02-41c2-a4ed-34f0e88b63c3",
   "metadata": {},
   "outputs": [],
   "source": []
  },
  {
   "cell_type": "code",
   "execution_count": 6,
   "id": "aef175ca-5d4d-4d9d-8c48-fabc0708d06b",
   "metadata": {},
   "outputs": [
    {
     "data": {
      "text/plain": [
       "[1, 4, 9, 16, 2025, 25]"
      ]
     },
     "execution_count": 6,
     "metadata": {},
     "output_type": "execute_result"
    }
   ],
   "source": [
    "list(i**2 for i in l)"
   ]
  },
  {
   "cell_type": "code",
   "execution_count": 11,
   "id": "33914d78-20cd-4cb4-9420-56789cb5bb43",
   "metadata": {},
   "outputs": [],
   "source": [
    "d = { \"key1\" : 1, \"key2\":2 , \"key3\" : 3,\"key4\": 4}"
   ]
  },
  {
   "cell_type": "code",
   "execution_count": 14,
   "id": "3adfa624-87d1-40a6-be23-1aba5038de6d",
   "metadata": {},
   "outputs": [
    {
     "data": {
      "text/plain": [
       "{'key1': 1, 'key2': 4, 'key3': 9, 'key4': 16}"
      ]
     },
     "execution_count": 14,
     "metadata": {},
     "output_type": "execute_result"
    }
   ],
   "source": [
    "{k:v **2 for k,v in d.items()}\n"
   ]
  },
  {
   "cell_type": "code",
   "execution_count": 13,
   "id": "fd2efc36-41cc-4a79-b891-182ff161d64e",
   "metadata": {},
   "outputs": [
    {
     "data": {
      "text/plain": [
       "dict_items([('key1', 1), ('key2', 2), ('key3', 3), ('key4', 4)])"
      ]
     },
     "execution_count": 13,
     "metadata": {},
     "output_type": "execute_result"
    }
   ],
   "source": [
    "d.items()"
   ]
  },
  {
   "cell_type": "code",
   "execution_count": 19,
   "id": "cc9e45e8-c613-4815-a9bf-fba1144b55cb",
   "metadata": {},
   "outputs": [
    {
     "data": {
      "text/plain": [
       "{'key2': 2, 'key3': 3, 'key4': 4}"
      ]
     },
     "execution_count": 19,
     "metadata": {},
     "output_type": "execute_result"
    }
   ],
   "source": [
    "{ k:v for k , v in d.items() if v>1}"
   ]
  },
  {
   "cell_type": "code",
   "execution_count": null,
   "id": "e8c1ba21-ce0a-45af-90ea-e98b0e864dfd",
   "metadata": {},
   "outputs": [],
   "source": []
  },
  {
   "cell_type": "code",
   "execution_count": null,
   "id": "72fbd5b0-d80f-49df-9f55-88b8f6c7128d",
   "metadata": {},
   "outputs": [],
   "source": []
  }
 ],
 "metadata": {
  "kernelspec": {
   "display_name": "Python 3 (ipykernel)",
   "language": "python",
   "name": "python3"
  },
  "language_info": {
   "codemirror_mode": {
    "name": "ipython",
    "version": 3
   },
   "file_extension": ".py",
   "mimetype": "text/x-python",
   "name": "python",
   "nbconvert_exporter": "python",
   "pygments_lexer": "ipython3",
   "version": "3.10.8"
  }
 },
 "nbformat": 4,
 "nbformat_minor": 5
}
