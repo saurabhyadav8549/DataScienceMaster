{
 "cells": [
  {
   "cell_type": "code",
   "execution_count": 1,
   "id": "201ad86e-fa91-42f0-8453-49c361397490",
   "metadata": {},
   "outputs": [],
   "source": [
    "n= 3\n",
    "p= 2 "
   ]
  },
  {
   "cell_type": "code",
   "execution_count": 4,
   "id": "ce37f011-9715-4fd8-8fb0-d6e259954d12",
   "metadata": {},
   "outputs": [],
   "source": [
    "def test(n,p):\n",
    "\n",
    "    return n**p"
   ]
  },
  {
   "cell_type": "code",
   "execution_count": 5,
   "id": "10314af8-6ce0-4d64-8fab-dc5c8f04fb39",
   "metadata": {},
   "outputs": [
    {
     "data": {
      "text/plain": [
       "9"
      ]
     },
     "execution_count": 5,
     "metadata": {},
     "output_type": "execute_result"
    }
   ],
   "source": [
    "test(3,2)"
   ]
  },
  {
   "cell_type": "code",
   "execution_count": 8,
   "id": "77ac6ad1-65c3-4cbc-88bc-497f6834e391",
   "metadata": {},
   "outputs": [],
   "source": [
    "a = lambda n,p : n**p # function without a name "
   ]
  },
  {
   "cell_type": "code",
   "execution_count": 9,
   "id": "fbdf6e37-1c2b-41c7-bdd5-a8528d2521cf",
   "metadata": {},
   "outputs": [
    {
     "data": {
      "text/plain": [
       "9"
      ]
     },
     "execution_count": 9,
     "metadata": {},
     "output_type": "execute_result"
    }
   ],
   "source": [
    "a(3,2)"
   ]
  },
  {
   "cell_type": "code",
   "execution_count": 10,
   "id": "bc3b7253-330c-41b5-bdfa-d25064948db2",
   "metadata": {},
   "outputs": [],
   "source": [
    "add = lambda x,y : x+y"
   ]
  },
  {
   "cell_type": "code",
   "execution_count": 11,
   "id": "57f0de3b-a9ce-45e1-9fc8-7d90ddcec85b",
   "metadata": {},
   "outputs": [
    {
     "data": {
      "text/plain": [
       "9"
      ]
     },
     "execution_count": 11,
     "metadata": {},
     "output_type": "execute_result"
    }
   ],
   "source": [
    "add(4,5)"
   ]
  },
  {
   "cell_type": "code",
   "execution_count": 14,
   "id": "b7a7e84d-5c94-45fa-b9f8-25fbf643c81b",
   "metadata": {},
   "outputs": [],
   "source": [
    "c_to_f = lambda c: (9/5)*c +32"
   ]
  },
  {
   "cell_type": "code",
   "execution_count": 15,
   "id": "26849ea5-33ed-4c74-81df-134b791c1736",
   "metadata": {},
   "outputs": [
    {
     "data": {
      "text/plain": [
       "113.0"
      ]
     },
     "execution_count": 15,
     "metadata": {},
     "output_type": "execute_result"
    }
   ],
   "source": [
    "c_to_f(45)"
   ]
  },
  {
   "cell_type": "code",
   "execution_count": 17,
   "id": "8e9c5172-4b63-4610-b9fb-fb2b21ca6843",
   "metadata": {},
   "outputs": [],
   "source": [
    "finding_max = lambda x,y : x if x>y else y"
   ]
  },
  {
   "cell_type": "code",
   "execution_count": 18,
   "id": "640e5378-8246-457d-9ff3-3f7b09e12924",
   "metadata": {},
   "outputs": [
    {
     "data": {
      "text/plain": [
       "34"
      ]
     },
     "execution_count": 18,
     "metadata": {},
     "output_type": "execute_result"
    }
   ],
   "source": [
    "finding_max(34,23)"
   ]
  },
  {
   "cell_type": "code",
   "execution_count": 19,
   "id": "62f6ef0e-c3c7-49a4-91f2-e4587b07c6b7",
   "metadata": {},
   "outputs": [],
   "source": [
    "s= \"pwskills\""
   ]
  },
  {
   "cell_type": "code",
   "execution_count": 20,
   "id": "ff184512-723f-4383-9c74-31ea160c2d17",
   "metadata": {},
   "outputs": [],
   "source": [
    "len_string = lambda s: len(s)"
   ]
  },
  {
   "cell_type": "code",
   "execution_count": 21,
   "id": "93725e89-5f7c-49d8-9c2a-cf87975fc31c",
   "metadata": {},
   "outputs": [
    {
     "data": {
      "text/plain": [
       "8"
      ]
     },
     "execution_count": 21,
     "metadata": {},
     "output_type": "execute_result"
    }
   ],
   "source": [
    "len_string(s)"
   ]
  },
  {
   "cell_type": "code",
   "execution_count": null,
   "id": "5e3a7564-88c0-4538-98a9-47602d27d231",
   "metadata": {},
   "outputs": [],
   "source": []
  }
 ],
 "metadata": {
  "kernelspec": {
   "display_name": "Python 3 (ipykernel)",
   "language": "python",
   "name": "python3"
  },
  "language_info": {
   "codemirror_mode": {
    "name": "ipython",
    "version": 3
   },
   "file_extension": ".py",
   "mimetype": "text/x-python",
   "name": "python",
   "nbconvert_exporter": "python",
   "pygments_lexer": "ipython3",
   "version": "3.10.8"
  }
 },
 "nbformat": 4,
 "nbformat_minor": 5
}
