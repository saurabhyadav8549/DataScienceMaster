{
 "cells": [
  {
   "cell_type": "code",
   "execution_count": 3,
   "id": "ca8bd667-2391-45bc-8428-9a3f371bb678",
   "metadata": {},
   "outputs": [],
   "source": [
    "def test():\n",
    "    print(\"this is the start of my function\")\n",
    "    print (\"this is my funtion to test\")\n",
    "    print (4+5)\n",
    "    print (\"this is my end of fun\")"
   ]
  },
  {
   "cell_type": "code",
   "execution_count": 4,
   "id": "ab1f9384-369e-40b6-9cd1-31f660321af6",
   "metadata": {},
   "outputs": [
    {
     "name": "stdout",
     "output_type": "stream",
     "text": [
      "this is the start of my function\n",
      "this is my funtion to test\n",
      "9\n",
      "this is my end of fun\n"
     ]
    }
   ],
   "source": [
    "test()"
   ]
  },
  {
   "cell_type": "code",
   "execution_count": 6,
   "id": "f7e93b36-7ed5-4ea2-b19d-63ccb7d50633",
   "metadata": {},
   "outputs": [],
   "source": [
    "def deco(func):\n",
    "    def inner_dec():\n",
    "        print  (\"this is my funtion to test\")\n",
    "        func()\n",
    "        print (\"this is my end of fun\")\n",
    "    return inner_dec"
   ]
  },
  {
   "cell_type": "code",
   "execution_count": 8,
   "id": "2f12e17c-c978-4d9a-8184-71cad9151521",
   "metadata": {},
   "outputs": [],
   "source": [
    "@deco\n",
    "def test1():\n",
    "    print(6+7)"
   ]
  },
  {
   "cell_type": "code",
   "execution_count": 9,
   "id": "244bf58f-366f-4f12-969d-5b7aa6a41a7e",
   "metadata": {},
   "outputs": [
    {
     "name": "stdout",
     "output_type": "stream",
     "text": [
      "this is my funtion to test\n",
      "13\n",
      "this is my end of fun\n"
     ]
    }
   ],
   "source": [
    "test1()"
   ]
  },
  {
   "cell_type": "code",
   "execution_count": 10,
   "id": "d8c032b4-a03b-4ca2-b3bc-67b1689f07e0",
   "metadata": {},
   "outputs": [],
   "source": [
    "import time \n",
    "\n",
    "def timer_test(func):\n",
    "    def timer_test_inner():\n",
    "        start = time.time()\n",
    "        func()\n",
    "        end = time.time()\n",
    "        print(end-start)\n",
    "    return timer_test_inner"
   ]
  },
  {
   "cell_type": "code",
   "execution_count": 11,
   "id": "1597d860-d630-4a99-bdac-07351dc5284a",
   "metadata": {},
   "outputs": [],
   "source": [
    "def test2():\n",
    "    print(45+78)"
   ]
  },
  {
   "cell_type": "code",
   "execution_count": 12,
   "id": "354e5f7e-4bb9-464b-9ed1-dd669b724844",
   "metadata": {},
   "outputs": [
    {
     "name": "stdout",
     "output_type": "stream",
     "text": [
      "123\n"
     ]
    }
   ],
   "source": [
    "test2()"
   ]
  },
  {
   "cell_type": "code",
   "execution_count": 13,
   "id": "c054ac47-fd50-4194-884d-6ce79a504930",
   "metadata": {},
   "outputs": [],
   "source": [
    "@timer_test\n",
    "def test2():\n",
    "    print(45+78)"
   ]
  },
  {
   "cell_type": "code",
   "execution_count": 14,
   "id": "9e6fa7bb-ad5d-466c-b020-2c991ee8374e",
   "metadata": {},
   "outputs": [
    {
     "name": "stdout",
     "output_type": "stream",
     "text": [
      "123\n",
      "5.5789947509765625e-05\n"
     ]
    }
   ],
   "source": [
    "test2()"
   ]
  },
  {
   "cell_type": "code",
   "execution_count": 18,
   "id": "088141d3-dcc6-43d6-9779-7e87eb7c0a17",
   "metadata": {},
   "outputs": [],
   "source": [
    "@timer_test\n",
    "def test() :\n",
    "    for i in range(1000000):\n",
    "         pass"
   ]
  },
  {
   "cell_type": "code",
   "execution_count": 19,
   "id": "d9ee67aa-923a-4989-82a6-d391336d14a0",
   "metadata": {},
   "outputs": [
    {
     "name": "stdout",
     "output_type": "stream",
     "text": [
      "0.028275251388549805\n"
     ]
    }
   ],
   "source": [
    "test()"
   ]
  },
  {
   "cell_type": "code",
   "execution_count": null,
   "id": "e78160be-085c-43c9-8be1-67ffa61e7841",
   "metadata": {},
   "outputs": [],
   "source": []
  }
 ],
 "metadata": {
  "kernelspec": {
   "display_name": "Python 3 (ipykernel)",
   "language": "python",
   "name": "python3"
  },
  "language_info": {
   "codemirror_mode": {
    "name": "ipython",
    "version": 3
   },
   "file_extension": ".py",
   "mimetype": "text/x-python",
   "name": "python",
   "nbconvert_exporter": "python",
   "pygments_lexer": "ipython3",
   "version": "3.10.8"
  }
 },
 "nbformat": 4,
 "nbformat_minor": 5
}
