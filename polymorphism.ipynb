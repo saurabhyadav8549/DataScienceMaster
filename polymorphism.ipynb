{
 "cells": [
  {
   "cell_type": "code",
   "execution_count": 11,
   "id": "dd779711-6b19-460c-b33d-1e71b69d43c8",
   "metadata": {},
   "outputs": [],
   "source": [
    "def test(a,b): # showing multiple behaviour\n",
    "    return a+b"
   ]
  },
  {
   "cell_type": "code",
   "execution_count": 12,
   "id": "ff8cf2ae-32dd-4adb-af92-281334cd9b13",
   "metadata": {},
   "outputs": [
    {
     "data": {
      "text/plain": [
       "7"
      ]
     },
     "execution_count": 12,
     "metadata": {},
     "output_type": "execute_result"
    }
   ],
   "source": [
    "test(3,4)"
   ]
  },
  {
   "cell_type": "code",
   "execution_count": 13,
   "id": "3091fcbc-f1e1-470f-af19-274e08d6bc91",
   "metadata": {},
   "outputs": [
    {
     "data": {
      "text/plain": [
       "'sudh  kumar'"
      ]
     },
     "execution_count": 13,
     "metadata": {},
     "output_type": "execute_result"
    }
   ],
   "source": [
    "test(\"sudh  \", \"kumar\")"
   ]
  },
  {
   "cell_type": "code",
   "execution_count": 14,
   "id": "a9d4ae03-51a7-4775-8e96-f0ab2031f3cf",
   "metadata": {},
   "outputs": [
    {
     "data": {
      "text/plain": [
       "[3, 4, 5, 6, 34, 435, 64, 76]"
      ]
     },
     "execution_count": 14,
     "metadata": {},
     "output_type": "execute_result"
    }
   ],
   "source": [
    "test([3,4,5,6], [ 34,435,64,76])"
   ]
  },
  {
   "cell_type": "code",
   "execution_count": 27,
   "id": "a0b59d6b-eec8-4a94-bde2-bb6425723117",
   "metadata": {},
   "outputs": [],
   "source": [
    "class data_science :\n",
    "    \n",
    "    def syllabus(self) :\n",
    "        print(\" this is my syllabus for data science masters \")"
   ]
  },
  {
   "cell_type": "code",
   "execution_count": 28,
   "id": "0e176a6a-02e6-4f3e-afb5-9b6b67c01618",
   "metadata": {},
   "outputs": [],
   "source": [
    "class web_dev :\n",
    "    def syllabus(self):\n",
    "        print(\"this is my syllabus for web dev\")"
   ]
  },
  {
   "cell_type": "code",
   "execution_count": 29,
   "id": "71f7c71b-574b-47aa-aba3-a4d45db31803",
   "metadata": {},
   "outputs": [],
   "source": [
    "def class_parcer(class_object):\n",
    "    for i in class_obj :\n",
    "        i.syllabus()"
   ]
  },
  {
   "cell_type": "code",
   "execution_count": 30,
   "id": "4b69105c-4660-4d39-8223-fd8428339ac7",
   "metadata": {},
   "outputs": [],
   "source": [
    "data_science = data_science()"
   ]
  },
  {
   "cell_type": "code",
   "execution_count": 31,
   "id": "0e1e7701-5843-4836-8650-b33086b10056",
   "metadata": {},
   "outputs": [],
   "source": [
    "web_dev = web_dev()"
   ]
  },
  {
   "cell_type": "code",
   "execution_count": 32,
   "id": "196d1ba5-189a-4fb9-85c8-06609bde63b4",
   "metadata": {},
   "outputs": [],
   "source": [
    "class_obj = [ data_science , web_dev]"
   ]
  },
  {
   "cell_type": "code",
   "execution_count": 33,
   "id": "5595f555-d969-4059-802b-9faf005bc08e",
   "metadata": {},
   "outputs": [
    {
     "name": "stdout",
     "output_type": "stream",
     "text": [
      " this is my syllabus for data science masters \n",
      "this is my syllabus for web dev\n"
     ]
    }
   ],
   "source": [
    "class_parcer(class_obj)"
   ]
  },
  {
   "cell_type": "code",
   "execution_count": null,
   "id": "9ddf83ae-b8c7-4386-9c8c-3dbfc82b77fc",
   "metadata": {},
   "outputs": [],
   "source": []
  },
  {
   "cell_type": "code",
   "execution_count": null,
   "id": "7a7648f1-d2b3-4db3-a3b7-f02c11088858",
   "metadata": {},
   "outputs": [],
   "source": []
  }
 ],
 "metadata": {
  "kernelspec": {
   "display_name": "Python 3 (ipykernel)",
   "language": "python",
   "name": "python3"
  },
  "language_info": {
   "codemirror_mode": {
    "name": "ipython",
    "version": 3
   },
   "file_extension": ".py",
   "mimetype": "text/x-python",
   "name": "python",
   "nbconvert_exporter": "python",
   "pygments_lexer": "ipython3",
   "version": "3.10.8"
  }
 },
 "nbformat": 4,
 "nbformat_minor": 5
}
