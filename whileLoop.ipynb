{
 "cells": [
  {
   "cell_type": "code",
   "execution_count": 2,
   "id": "6c2954a2-6a60-468d-8b23-269f6ab2c294",
   "metadata": {},
   "outputs": [
    {
     "name": "stdout",
     "output_type": "stream",
     "text": [
      "1\n",
      "2\n",
      "3\n",
      "4\n",
      "5\n",
      "6\n",
      "7\n",
      "8\n",
      "9\n",
      "10\n"
     ]
    }
   ],
   "source": [
    "a = 1\n",
    "while a<=10 :\n",
    "    print(a)\n",
    "    a = a+1"
   ]
  },
  {
   "cell_type": "code",
   "execution_count": 3,
   "id": "fd7e4b2e-152f-484a-945b-b33fcec76ea7",
   "metadata": {},
   "outputs": [],
   "source": [
    "# sum up the number till sum point"
   ]
  },
  {
   "cell_type": "code",
   "execution_count": 8,
   "id": "fb34b705-d6bd-423b-9940-0909fc80616f",
   "metadata": {},
   "outputs": [
    {
     "name": "stdin",
     "output_type": "stream",
     "text": [
      "enter your limit 5\n"
     ]
    },
    {
     "data": {
      "text/plain": [
       "15"
      ]
     },
     "execution_count": 8,
     "metadata": {},
     "output_type": "execute_result"
    }
   ],
   "source": [
    "n= int ( input(\"enter your limit\"))\n",
    "starting_point = 0\n",
    "counter = 1\n",
    "\n",
    "while counter <= n :\n",
    "    starting_point = starting_point + counter\n",
    "    counter = counter + 1\n",
    "starting_point"
   ]
  },
  {
   "cell_type": "code",
   "execution_count": 9,
   "id": "24147767-11ca-4525-939d-9d9d1a34cdb2",
   "metadata": {},
   "outputs": [
    {
     "name": "stdin",
     "output_type": "stream",
     "text": [
      "enter your number  5\n"
     ]
    },
    {
     "data": {
      "text/plain": [
       "120"
      ]
     },
     "execution_count": 9,
     "metadata": {},
     "output_type": "execute_result"
    }
   ],
   "source": [
    "number = int (input(\"enter your number \"))\n",
    "factorial = 1\n",
    "while number > 0 :\n",
    "    factorial = factorial*number\n",
    "    number = number -1 \n",
    "factorial "
   ]
  },
  {
   "cell_type": "code",
   "execution_count": 1,
   "id": "3949f2f1-c845-424e-9f5f-0d09ad0d51fd",
   "metadata": {},
   "outputs": [],
   "source": [
    " # Fibonacci series"
   ]
  },
  {
   "cell_type": "code",
   "execution_count": 4,
   "id": "c1b9f46d-c13c-4587-89a2-b0e04f0654b4",
   "metadata": {},
   "outputs": [
    {
     "name": "stdin",
     "output_type": "stream",
     "text": [
      "ente the number of element you are looking for  5\n"
     ]
    },
    {
     "name": "stdout",
     "output_type": "stream",
     "text": [
      "0\n",
      "1\n",
      "1\n",
      "2\n",
      "3\n"
     ]
    }
   ],
   "source": [
    "number = int (input(\"ente the number of element you are looking for \"))\n",
    "a , b = 0, 1\n",
    "counter = 0\n",
    "while counter < number :\n",
    "    print(a)\n",
    "    c= a+b \n",
    "    a=b\n",
    "    b=c\n",
    "    counter = counter +1"
   ]
  },
  {
   "cell_type": "code",
   "execution_count": 5,
   "id": "166c26e3-919a-45f1-a94f-d53b244f2665",
   "metadata": {},
   "outputs": [
    {
     "name": "stdout",
     "output_type": "stream",
     "text": [
      "0\n",
      "1\n",
      "1\n",
      "2\n",
      "3\n",
      "5\n",
      "8\n",
      "13\n",
      "21\n",
      "34\n"
     ]
    }
   ],
   "source": [
    "a,b=0,1\n",
    "\n",
    "for i in range(10):\n",
    "    print(a)\n",
    "    c=a+b\n",
    "    a=b\n",
    "    b=c"
   ]
  },
  {
   "cell_type": "code",
   "execution_count": 6,
   "id": "9e9984b3-e9eb-4425-8603-332b743cc1df",
   "metadata": {},
   "outputs": [],
   "source": [
    "s = \"sudh\""
   ]
  },
  {
   "cell_type": "code",
   "execution_count": 7,
   "id": "97b0c932-eda8-41b1-9361-6bdac9c37a88",
   "metadata": {},
   "outputs": [
    {
     "data": {
      "text/plain": [
       "'hdus'"
      ]
     },
     "execution_count": 7,
     "metadata": {},
     "output_type": "execute_result"
    }
   ],
   "source": [
    "s[::-1]"
   ]
  },
  {
   "cell_type": "code",
   "execution_count": 9,
   "id": "90253c05-3d30-456e-9344-9e17c1148390",
   "metadata": {},
   "outputs": [
    {
     "data": {
      "text/plain": [
       "4"
      ]
     },
     "execution_count": 9,
     "metadata": {},
     "output_type": "execute_result"
    }
   ],
   "source": [
    "len(word)"
   ]
  },
  {
   "cell_type": "code",
   "execution_count": 8,
   "id": "7771e160-8908-4dcc-b61c-3f3c39979dc8",
   "metadata": {},
   "outputs": [
    {
     "name": "stdin",
     "output_type": "stream",
     "text": [
      "enter your string for reversal sudh\n"
     ]
    }
   ],
   "source": [
    "word= input(\"enter your string for reversal\")"
   ]
  },
  {
   "cell_type": "code",
   "execution_count": 11,
   "id": "98a2eeda-8ef0-412d-b385-d8c4924bad45",
   "metadata": {},
   "outputs": [
    {
     "name": "stdout",
     "output_type": "stream",
     "text": [
      "hdus\n"
     ]
    }
   ],
   "source": [
    "reverse =\"\"\n",
    "length = len(word)\n",
    "while length>0:\n",
    "    reverse = reverse + word[length - 1]\n",
    "    length = length - 1\n",
    "print(reverse)"
   ]
  },
  {
   "cell_type": "code",
   "execution_count": 12,
   "id": "47af8136-98b8-48fe-b5b0-fc5e005bc280",
   "metadata": {},
   "outputs": [],
   "source": [
    "# print table of numbers "
   ]
  },
  {
   "cell_type": "code",
   "execution_count": 15,
   "id": "e73cec71-e92c-4fd6-be48-e7dfd127bedb",
   "metadata": {},
   "outputs": [
    {
     "name": "stdin",
     "output_type": "stream",
     "text": [
      "enter your number 21\n"
     ]
    },
    {
     "name": "stdout",
     "output_type": "stream",
     "text": [
      "21 *  1 = 21\n",
      "21 *  2 = 42\n",
      "21 *  3 = 63\n",
      "21 *  4 = 84\n",
      "21 *  5 = 105\n",
      "21 *  6 = 126\n",
      "21 *  7 = 147\n",
      "21 *  8 = 168\n",
      "21 *  9 = 189\n",
      "21 *  10 = 210\n"
     ]
    }
   ],
   "source": [
    "n = int (input(\"enter your number\"))\n",
    "i=1\n",
    "\n",
    "while i<=10:\n",
    "    result = n * i\n",
    "    print(n,\"* \", i , \"=\" , result)\n",
    "    i= i+1"
   ]
  },
  {
   "cell_type": "code",
   "execution_count": 18,
   "id": "4b62b7cb-6a44-49d3-9ea6-037f91fc1007",
   "metadata": {},
   "outputs": [
    {
     "name": "stdout",
     "output_type": "stream",
     "text": [
      "1\n",
      "2\n",
      "3\n",
      "4\n",
      "this will be executed once your while will complete it successfullu\n"
     ]
    }
   ],
   "source": [
    "n = 5\n",
    "i = 1 \n",
    "while i< n:\n",
    "    print (i)\n",
    "    i =  i +1\n",
    "else : \n",
    "    print(\"this will be executed once your while will complete it successfullu\")"
   ]
  },
  {
   "cell_type": "code",
   "execution_count": 1,
   "id": "61f43a8c-58fb-4bd5-82cf-3e2891ed4e93",
   "metadata": {},
   "outputs": [
    {
     "name": "stdout",
     "output_type": "stream",
     "text": [
      "1\n",
      "2\n",
      "3\n"
     ]
    }
   ],
   "source": [
    "n = 5\n",
    "i = 1 \n",
    "while i< n:\n",
    "    print (i)\n",
    "    if i== 3:\n",
    "        break\n",
    "    \n",
    "    i =  i +1\n",
    "else : \n",
    "    print(\"this will be executed once your while will complete it successfullu\")"
   ]
  },
  {
   "cell_type": "code",
   "execution_count": null,
   "id": "7bf4f509-e5cc-4fc2-bf35-545d78b323e0",
   "metadata": {},
   "outputs": [],
   "source": []
  }
 ],
 "metadata": {
  "kernelspec": {
   "display_name": "Python 3 (ipykernel)",
   "language": "python",
   "name": "python3"
  },
  "language_info": {
   "codemirror_mode": {
    "name": "ipython",
    "version": 3
   },
   "file_extension": ".py",
   "mimetype": "text/x-python",
   "name": "python",
   "nbconvert_exporter": "python",
   "pygments_lexer": "ipython3",
   "version": "3.10.8"
  }
 },
 "nbformat": 4,
 "nbformat_minor": 5
}
