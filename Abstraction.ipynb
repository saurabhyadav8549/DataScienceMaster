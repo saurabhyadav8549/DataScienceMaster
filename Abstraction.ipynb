{
 "cells": [
  {
   "cell_type": "code",
   "execution_count": 1,
   "id": "a5864022-45ac-4371-8723-9c8c3f225c33",
   "metadata": {},
   "outputs": [],
   "source": [
    "import abc\n",
    "class pwskills:\n",
    "    \n",
    "    @abc.abstractmethod\n",
    "    def students_details(self):\n",
    "        pass\n",
    "    \n",
    "    @abc.abstractmethod\n",
    "    def students_asssignment(self):\n",
    "        pass\n",
    "    \n",
    "    @abc.abstractmethod\n",
    "    def students_marks(self):\n",
    "        pass"
   ]
  },
  {
   "cell_type": "code",
   "execution_count": 2,
   "id": "70420213-73b8-465b-b7cb-be3938d92cde",
   "metadata": {},
   "outputs": [],
   "source": [
    "class student_details(pwskills):\n",
    "    \n",
    "    def students_details(self):\n",
    "        return \"this is a method for taking students details\"\n",
    "    \n",
    "    def students_asssignment(self):\n",
    "        return \" this is a meth for assign details for a particular student\"\n",
    "    "
   ]
  },
  {
   "cell_type": "code",
   "execution_count": 3,
   "id": "abb86071-9222-45a0-bd47-9492d2fad54f",
   "metadata": {},
   "outputs": [],
   "source": [
    "class data_science_master(pwskills):\n",
    "    def students_details(self):\n",
    "        return \" this will return a student details for a data science masters\"\n",
    "    \n",
    "    def students_asssignment(self):\n",
    "        return \" this will give you a student assign detail for data science masters\""
   ]
  },
  {
   "cell_type": "code",
   "execution_count": 4,
   "id": "80e28c9f-314a-4b4f-a1f5-37d4b79cfbce",
   "metadata": {},
   "outputs": [
    {
     "data": {
      "text/plain": [
       "' this will return a student details for a data science masters'"
      ]
     },
     "execution_count": 4,
     "metadata": {},
     "output_type": "execute_result"
    }
   ],
   "source": [
    "dsm = data_science_master()\n",
    "dsm.students_details()"
   ]
  },
  {
   "cell_type": "code",
   "execution_count": 5,
   "id": "c1ddb9d3-522f-413f-aeb1-b7742b5b9029",
   "metadata": {},
   "outputs": [
    {
     "data": {
      "text/plain": [
       "'this is a method for taking students details'"
      ]
     },
     "execution_count": 5,
     "metadata": {},
     "output_type": "execute_result"
    }
   ],
   "source": [
    "sd= student_details()\n",
    "sd.students_details()"
   ]
  },
  {
   "cell_type": "code",
   "execution_count": null,
   "id": "371df688-c11e-4c0a-b214-49d3b1280f6a",
   "metadata": {},
   "outputs": [],
   "source": []
  }
 ],
 "metadata": {
  "kernelspec": {
   "display_name": "Python 3 (ipykernel)",
   "language": "python",
   "name": "python3"
  },
  "language_info": {
   "codemirror_mode": {
    "name": "ipython",
    "version": 3
   },
   "file_extension": ".py",
   "mimetype": "text/x-python",
   "name": "python",
   "nbconvert_exporter": "python",
   "pygments_lexer": "ipython3",
   "version": "3.10.8"
  }
 },
 "nbformat": 4,
 "nbformat_minor": 5
}
