{
 "cells": [
  {
   "cell_type": "code",
   "execution_count": 1,
   "id": "07d39464-9c95-459e-8218-fd4b7b4bda0d",
   "metadata": {},
   "outputs": [],
   "source": [
    "d ={} # used to store key value pair"
   ]
  },
  {
   "cell_type": "code",
   "execution_count": 2,
   "id": "dc8173be-8194-443d-bc7d-a34b9280e2a3",
   "metadata": {},
   "outputs": [
    {
     "data": {
      "text/plain": [
       "dict"
      ]
     },
     "execution_count": 2,
     "metadata": {},
     "output_type": "execute_result"
    }
   ],
   "source": [
    "type(d)"
   ]
  },
  {
   "cell_type": "code",
   "execution_count": 3,
   "id": "7303124e-773d-43f1-9584-259308cb1204",
   "metadata": {},
   "outputs": [],
   "source": [
    "d1 = {'key' : \"sau\"}"
   ]
  },
  {
   "cell_type": "code",
   "execution_count": 11,
   "id": "208d05f9-64b2-43a7-896b-ca687887b961",
   "metadata": {},
   "outputs": [
    {
     "data": {
      "text/plain": [
       "{'key': 'sau'}"
      ]
     },
     "execution_count": 11,
     "metadata": {},
     "output_type": "execute_result"
    }
   ],
   "source": [
    "d1"
   ]
  },
  {
   "cell_type": "code",
   "execution_count": 12,
   "id": "2b7a8d97-d2ab-4c28-9b03-4dc5a8eab8cc",
   "metadata": {},
   "outputs": [],
   "source": [
    "d2 = {'name' : \"sudhanshu\",\"email\" : \"ss@gmail.com\" , \"number\" : 222345}"
   ]
  },
  {
   "cell_type": "code",
   "execution_count": 13,
   "id": "d55dce82-4442-428b-8b13-541137cf8524",
   "metadata": {},
   "outputs": [
    {
     "data": {
      "text/plain": [
       "{'name': 'sudhanshu', 'email': 'ss@gmail.com', 'number': 222345}"
      ]
     },
     "execution_count": 13,
     "metadata": {},
     "output_type": "execute_result"
    }
   ],
   "source": [
    "d2"
   ]
  },
  {
   "cell_type": "code",
   "execution_count": 17,
   "id": "e73c51bf-e446-4d26-9cfb-415bc31bbf21",
   "metadata": {},
   "outputs": [],
   "source": [
    "d3 = { 234 :\"sudh\", '_wer' : \"kumar\", True: 24234}"
   ]
  },
  {
   "cell_type": "code",
   "execution_count": 18,
   "id": "873b1d43-14dc-4fc7-9ce9-3a6dc063ef18",
   "metadata": {},
   "outputs": [
    {
     "data": {
      "text/plain": [
       "{234: 'sudh', '_wer': 'kumar', True: 24234}"
      ]
     },
     "execution_count": 18,
     "metadata": {},
     "output_type": "execute_result"
    }
   ],
   "source": [
    "d3"
   ]
  },
  {
   "cell_type": "code",
   "execution_count": 19,
   "id": "7b41b788-4d30-4024-8b13-59e6e5d2eedc",
   "metadata": {},
   "outputs": [
    {
     "data": {
      "text/plain": [
       "'sudh'"
      ]
     },
     "execution_count": 19,
     "metadata": {},
     "output_type": "execute_result"
    }
   ],
   "source": [
    "d3[234] # indexing is not applying here we can access through key"
   ]
  },
  {
   "cell_type": "code",
   "execution_count": 20,
   "id": "1aece4c2-a690-4249-9a56-fdc8f0f913bf",
   "metadata": {},
   "outputs": [
    {
     "data": {
      "text/plain": [
       "24234"
      ]
     },
     "execution_count": 20,
     "metadata": {},
     "output_type": "execute_result"
    }
   ],
   "source": [
    "d3[True]"
   ]
  },
  {
   "cell_type": "code",
   "execution_count": 21,
   "id": "9ba5dfb2-9ce9-4f27-87d5-46894377ebaa",
   "metadata": {},
   "outputs": [
    {
     "data": {
      "text/plain": [
       "24234"
      ]
     },
     "execution_count": 21,
     "metadata": {},
     "output_type": "execute_result"
    }
   ],
   "source": [
    "d3[1]"
   ]
  },
  {
   "cell_type": "code",
   "execution_count": 24,
   "id": "1434b44c-95b0-49d5-b63a-8c173b3059dd",
   "metadata": {},
   "outputs": [],
   "source": [
    "d4= {'name' : \"sudh\" , 'mail_id' : \"ss@gmail.com\" , \"name\": \"sudhanshu\"}"
   ]
  },
  {
   "cell_type": "code",
   "execution_count": 25,
   "id": "e9a02a7e-5b2b-4ece-86f3-e901fc164061",
   "metadata": {},
   "outputs": [
    {
     "data": {
      "text/plain": [
       "'sudhanshu'"
      ]
     },
     "execution_count": 25,
     "metadata": {},
     "output_type": "execute_result"
    }
   ],
   "source": [
    "d4['name'] # key will be unique ... last value will be updated"
   ]
  },
  {
   "cell_type": "code",
   "execution_count": 26,
   "id": "d1bc07eb-cbb8-4b71-9cb9-79d2f84b2523",
   "metadata": {},
   "outputs": [],
   "source": [
    "d5 = { \"company\":\"pwskills\" , \"courses\":[\"web dev\", \"data science\",\"java with dsa system design\"]}\n",
    "# as a value list also csn be stored"
   ]
  },
  {
   "cell_type": "code",
   "execution_count": 32,
   "id": "af950688-d0c2-4b98-97e5-6f88d806a6e2",
   "metadata": {},
   "outputs": [
    {
     "data": {
      "text/plain": [
       "{'company': 'pwskills',\n",
       " 'courses': ['web dev', 'data science', 'java with dsa system design']}"
      ]
     },
     "execution_count": 32,
     "metadata": {},
     "output_type": "execute_result"
    }
   ],
   "source": [
    "d5"
   ]
  },
  {
   "cell_type": "code",
   "execution_count": 34,
   "id": "f8f34556-87e6-4467-a1c3-fb3b0f9e5f7d",
   "metadata": {},
   "outputs": [
    {
     "data": {
      "text/plain": [
       "['web dev', 'data science', 'java with dsa system design']"
      ]
     },
     "execution_count": 34,
     "metadata": {},
     "output_type": "execute_result"
    }
   ],
   "source": [
    "d5['courses']"
   ]
  },
  {
   "cell_type": "code",
   "execution_count": 36,
   "id": "bca30a9e-c680-4ab0-895d-56c30cdba66e",
   "metadata": {},
   "outputs": [
    {
     "data": {
      "text/plain": [
       "'java with dsa system design'"
      ]
     },
     "execution_count": 36,
     "metadata": {},
     "output_type": "execute_result"
    }
   ],
   "source": [
    "d5['courses'][2]"
   ]
  },
  {
   "cell_type": "code",
   "execution_count": 45,
   "id": "b35ea664-7ede-44cd-9986-8834e63ca08f",
   "metadata": {},
   "outputs": [],
   "source": [
    "d6= {\"number\": [2,34,3,34,34] , \"assignment\": (1,2,3,4,5,6), \"launch_date\": {28,12,14}, \"class_time\": {\"web dev\": 8 , \"data science masters\": 8 ,\"java with system design\":7}}\n",
    "# we can store value as string list set tuple dictionary"
   ]
  },
  {
   "cell_type": "code",
   "execution_count": 47,
   "id": "51519e01-47b8-4e4e-8c6a-5206785a6c1f",
   "metadata": {},
   "outputs": [
    {
     "data": {
      "text/plain": [
       "{'number': [2, 34, 3, 34, 34],\n",
       " 'assignment': (1, 2, 3, 4, 5, 6),\n",
       " 'launch_date': {12, 14, 28},\n",
       " 'class_time': {'web dev': 8,\n",
       "  'data science masters': 8,\n",
       "  'java with system design': 7}}"
      ]
     },
     "execution_count": 47,
     "metadata": {},
     "output_type": "execute_result"
    }
   ],
   "source": [
    "d6"
   ]
  },
  {
   "cell_type": "code",
   "execution_count": 48,
   "id": "3839a01a-2e96-4df3-b0c6-da2c0a21e3ca",
   "metadata": {},
   "outputs": [
    {
     "data": {
      "text/plain": [
       "7"
      ]
     },
     "execution_count": 48,
     "metadata": {},
     "output_type": "execute_result"
    }
   ],
   "source": [
    "d6['class_time']['java with system design'] "
   ]
  },
  {
   "cell_type": "code",
   "execution_count": 49,
   "id": "53e24981-8792-4b80-b994-7c1f2e6cd8a0",
   "metadata": {},
   "outputs": [
    {
     "data": {
      "text/plain": [
       "{'number': [2, 34, 3, 34, 34],\n",
       " 'assignment': (1, 2, 3, 4, 5, 6),\n",
       " 'launch_date': {12, 14, 28},\n",
       " 'class_time': {'web dev': 8,\n",
       "  'data science masters': 8,\n",
       "  'java with system design': 7}}"
      ]
     },
     "execution_count": 49,
     "metadata": {},
     "output_type": "execute_result"
    }
   ],
   "source": [
    "d6"
   ]
  },
  {
   "cell_type": "code",
   "execution_count": 50,
   "id": "2b73e407-2329-4803-81a5-40df7758d4e4",
   "metadata": {},
   "outputs": [],
   "source": [
    "d6['mentor'] = [ \"sudhanshu\", \"krish\", \"anurah\", \"hayder\"] # to add new key value pair "
   ]
  },
  {
   "cell_type": "code",
   "execution_count": 51,
   "id": "30b4eab5-54a5-463a-881b-30ff01432d71",
   "metadata": {},
   "outputs": [
    {
     "data": {
      "text/plain": [
       "{'number': [2, 34, 3, 34, 34],\n",
       " 'assignment': (1, 2, 3, 4, 5, 6),\n",
       " 'launch_date': {12, 14, 28},\n",
       " 'class_time': {'web dev': 8,\n",
       "  'data science masters': 8,\n",
       "  'java with system design': 7},\n",
       " 'mentor': ['sudhanshu', 'krish', 'anurah', 'hayder']}"
      ]
     },
     "execution_count": 51,
     "metadata": {},
     "output_type": "execute_result"
    }
   ],
   "source": [
    "d6"
   ]
  },
  {
   "cell_type": "code",
   "execution_count": 52,
   "id": "a2e8406e-f420-4a7a-9289-3aef75e580f1",
   "metadata": {},
   "outputs": [],
   "source": [
    "del d6['number']"
   ]
  },
  {
   "cell_type": "code",
   "execution_count": 53,
   "id": "74fc59ed-5d12-4739-b12b-f0e6b0148fe9",
   "metadata": {},
   "outputs": [
    {
     "data": {
      "text/plain": [
       "{'assignment': (1, 2, 3, 4, 5, 6),\n",
       " 'launch_date': {12, 14, 28},\n",
       " 'class_time': {'web dev': 8,\n",
       "  'data science masters': 8,\n",
       "  'java with system design': 7},\n",
       " 'mentor': ['sudhanshu', 'krish', 'anurah', 'hayder']}"
      ]
     },
     "execution_count": 53,
     "metadata": {},
     "output_type": "execute_result"
    }
   ],
   "source": [
    "d6"
   ]
  },
  {
   "cell_type": "code",
   "execution_count": 55,
   "id": "c806d566-a059-44f8-852a-a6c2abea6d11",
   "metadata": {},
   "outputs": [
    {
     "data": {
      "text/plain": [
       "['assignment', 'launch_date', 'class_time', 'mentor']"
      ]
     },
     "execution_count": 55,
     "metadata": {},
     "output_type": "execute_result"
    }
   ],
   "source": [
    "list(d6.keys())"
   ]
  },
  {
   "cell_type": "code",
   "execution_count": 57,
   "id": "efdd9675-ab74-4b5b-8df5-2013a72af241",
   "metadata": {},
   "outputs": [
    {
     "data": {
      "text/plain": [
       "[(1, 2, 3, 4, 5, 6),\n",
       " {12, 14, 28},\n",
       " {'web dev': 8, 'data science masters': 8, 'java with system design': 7},\n",
       " ['sudhanshu', 'krish', 'anurah', 'hayder']]"
      ]
     },
     "execution_count": 57,
     "metadata": {},
     "output_type": "execute_result"
    }
   ],
   "source": [
    "list(d6.values())"
   ]
  },
  {
   "cell_type": "code",
   "execution_count": 60,
   "id": "2731c455-0308-4049-9795-9854647ad9d2",
   "metadata": {},
   "outputs": [
    {
     "data": {
      "text/plain": [
       "[('assignment', (1, 2, 3, 4, 5, 6)),\n",
       " ('launch_date', {12, 14, 28}),\n",
       " ('class_time',\n",
       "  {'web dev': 8, 'data science masters': 8, 'java with system design': 7}),\n",
       " ('mentor', ['sudhanshu', 'krish', 'anurah', 'hayder'])]"
      ]
     },
     "execution_count": 60,
     "metadata": {},
     "output_type": "execute_result"
    }
   ],
   "source": [
    "list(d6.items())"
   ]
  },
  {
   "cell_type": "code",
   "execution_count": 61,
   "id": "747f0ad1-dc47-4030-982b-5fb2a860a781",
   "metadata": {},
   "outputs": [
    {
     "data": {
      "text/plain": [
       "(1, 2, 3, 4, 5, 6)"
      ]
     },
     "execution_count": 61,
     "metadata": {},
     "output_type": "execute_result"
    }
   ],
   "source": [
    "d6.pop('assignment')"
   ]
  },
  {
   "cell_type": "code",
   "execution_count": 62,
   "id": "b77409c8-316d-4690-aebf-27e791c6777f",
   "metadata": {},
   "outputs": [
    {
     "data": {
      "text/plain": [
       "{'launch_date': {12, 14, 28},\n",
       " 'class_time': {'web dev': 8,\n",
       "  'data science masters': 8,\n",
       "  'java with system design': 7},\n",
       " 'mentor': ['sudhanshu', 'krish', 'anurah', 'hayder']}"
      ]
     },
     "execution_count": 62,
     "metadata": {},
     "output_type": "execute_result"
    }
   ],
   "source": [
    "d6"
   ]
  },
  {
   "cell_type": "code",
   "execution_count": 63,
   "id": "81a86afa-d738-4d3a-8a55-478be865f55b",
   "metadata": {},
   "outputs": [
    {
     "ename": "TypeError",
     "evalue": "pop expected at least 1 argument, got 0",
     "output_type": "error",
     "traceback": [
      "\u001b[0;31m---------------------------------------------------------------------------\u001b[0m",
      "\u001b[0;31mTypeError\u001b[0m                                 Traceback (most recent call last)",
      "Cell \u001b[0;32mIn[63], line 1\u001b[0m\n\u001b[0;32m----> 1\u001b[0m \u001b[43md6\u001b[49m\u001b[38;5;241;43m.\u001b[39;49m\u001b[43mpop\u001b[49m\u001b[43m(\u001b[49m\u001b[43m)\u001b[49m\n",
      "\u001b[0;31mTypeError\u001b[0m: pop expected at least 1 argument, got 0"
     ]
    }
   ],
   "source": [
    "d6.pop()"
   ]
  },
  {
   "cell_type": "code",
   "execution_count": 68,
   "id": "2b948d3c-7c19-44c6-aefd-02fbdaf819ea",
   "metadata": {},
   "outputs": [
    {
     "name": "stdin",
     "output_type": "stream",
     "text": [
      "enter your marks 10\n"
     ]
    },
    {
     "name": "stdout",
     "output_type": "stream",
     "text": [
      "you will be a part of a3 batch\n"
     ]
    }
   ],
   "source": [
    " marks = int (input(\"enter your marks\"))\n",
    "    # marks= 72\n",
    "if marks >= 80 :\n",
    "    print(\"you will be a part of A0 batch\")\n",
    "elif marks>= 60 and marks < 80 :\n",
    "    print(\"you will be a part of a1 batch\")\n",
    "elif marks>=40 and marks < 60 :\n",
    "    print(\"you will be a part of a2 batch\")\n",
    "else :\n",
    "    print(\"you will be a part of a3 batch\")\n",
    "    "
   ]
  },
  {
   "cell_type": "code",
   "execution_count": 69,
   "id": "2aa02ef9-851c-4dc5-ba4d-a39f73885ba3",
   "metadata": {},
   "outputs": [
    {
     "name": "stdin",
     "output_type": "stream",
     "text": [
      "enter your marks 65\n"
     ]
    }
   ],
   "source": [
    "marks = int (input(\"enter your marks\")) # value will be input in string format "
   ]
  },
  {
   "cell_type": "code",
   "execution_count": 70,
   "id": "11d7698a-e418-4187-afb0-99ecd694944f",
   "metadata": {},
   "outputs": [
    {
     "data": {
      "text/plain": [
       "65"
      ]
     },
     "execution_count": 70,
     "metadata": {},
     "output_type": "execute_result"
    }
   ],
   "source": [
    "marks"
   ]
  },
  {
   "cell_type": "code",
   "execution_count": 66,
   "id": "d0056bbd-2abf-4219-9bf6-b68d09a8ef20",
   "metadata": {},
   "outputs": [
    {
     "data": {
      "text/plain": [
       "int"
      ]
     },
     "execution_count": 66,
     "metadata": {},
     "output_type": "execute_result"
    }
   ],
   "source": [
    "type(marks)"
   ]
  },
  {
   "cell_type": "code",
   "execution_count": 3,
   "id": "5ba870ef-da34-4d6d-a8ea-9dc6f634e8e1",
   "metadata": {},
   "outputs": [
    {
     "name": "stdin",
     "output_type": "stream",
     "text": [
      "enter prise  500\n"
     ]
    },
    {
     "name": "stdout",
     "output_type": "stream",
     "text": [
      " i will purchase\n"
     ]
    }
   ],
   "source": [
    "prise = int (input(\"enter prise \"))\n",
    "if prise > 1000 :\n",
    "    print(\"i will not purchase \")\n",
    "else :\n",
    "    print (\" i will purchase\")"
   ]
  },
  {
   "cell_type": "code",
   "execution_count": 4,
   "id": "9b07f5e0-84b2-4bd2-a9db-ae625202a45a",
   "metadata": {},
   "outputs": [
    {
     "name": "stdin",
     "output_type": "stream",
     "text": [
      "enter prise  200\n"
     ]
    }
   ],
   "source": [
    "prise = int (input(\"enter prise \"))\n",
    "if prise > 1000 :\n",
    "    print(\"i will not purchase \")"
   ]
  },
  {
   "cell_type": "code",
   "execution_count": 8,
   "id": "b98fff25-3734-4bc4-b024-5cec64dfe0c9",
   "metadata": {},
   "outputs": [
    {
     "name": "stdin",
     "output_type": "stream",
     "text": [
      "enter prise  800\n"
     ]
    },
    {
     "name": "stdout",
     "output_type": "stream",
     "text": [
      " i will purchase\n"
     ]
    }
   ],
   "source": [
    "prise = int (input(\"enter prise \"))\n",
    "if prise > 1000 :\n",
    "    print(\"i will not purchase \")\n",
    "    if prise>5000:\n",
    "        print(\"this is too much\")\n",
    "    elif prise < 2000:\n",
    "            print(\"its ok\")\n",
    "elif prise < 1000:\n",
    "    print(\" i will purchase\")\n",
    "    \n",
    "else :\n",
    "    print(\" not interested \")\n",
    "    \n",
    "            \n",
    "    "
   ]
  },
  {
   "cell_type": "code",
   "execution_count": 1,
   "id": "a73e2544-9c56-47c5-a4a0-c802812c02a4",
   "metadata": {},
   "outputs": [],
   "source": [
    "l = [ 1,2,3,4,5,6,7,8 ]"
   ]
  },
  {
   "cell_type": "code",
   "execution_count": 3,
   "id": "76499f8f-1f61-4b51-a2ae-5c3f037bc37e",
   "metadata": {},
   "outputs": [
    {
     "data": {
      "text/plain": [
       "2"
      ]
     },
     "execution_count": 3,
     "metadata": {},
     "output_type": "execute_result"
    }
   ],
   "source": [
    "l[0] +1 "
   ]
  },
  {
   "cell_type": "code",
   "execution_count": 4,
   "id": "450ff7cd-530e-4f39-9981-53b57c3fe8cd",
   "metadata": {},
   "outputs": [],
   "source": [
    "l1 = []"
   ]
  },
  {
   "cell_type": "code",
   "execution_count": 5,
   "id": "cfbcb757-8c98-41ac-9be8-b092866a2793",
   "metadata": {},
   "outputs": [],
   "source": [
    "l1.append(l[0]+1)"
   ]
  },
  {
   "cell_type": "code",
   "execution_count": 6,
   "id": "85b32c9c-b46a-4274-8be6-b722a2c54a59",
   "metadata": {},
   "outputs": [
    {
     "data": {
      "text/plain": [
       "[2]"
      ]
     },
     "execution_count": 6,
     "metadata": {},
     "output_type": "execute_result"
    }
   ],
   "source": [
    "l1"
   ]
  },
  {
   "cell_type": "code",
   "execution_count": 7,
   "id": "a0dd1a15-d98a-4c89-a70f-184117244c07",
   "metadata": {},
   "outputs": [],
   "source": [
    "l = [ 1,2,3,4,5,6,7,8 ]"
   ]
  },
  {
   "cell_type": "code",
   "execution_count": 11,
   "id": "145af3a6-fe1c-4dd7-9dac-82037c37e21b",
   "metadata": {},
   "outputs": [
    {
     "name": "stdout",
     "output_type": "stream",
     "text": [
      "2\n",
      "3\n",
      "4\n",
      "5\n",
      "6\n",
      "7\n",
      "8\n",
      "9\n"
     ]
    }
   ],
   "source": [
    "for i in l :\n",
    "    print(i+1)\n",
    "    l1.append(i+1)\n",
    "    l1"
   ]
  },
  {
   "cell_type": "code",
   "execution_count": 10,
   "id": "e6b7f5f9-ef16-4bfd-8e35-effa364d6a10",
   "metadata": {},
   "outputs": [
    {
     "data": {
      "text/plain": [
       "[2, 2, 3, 4, 5, 6, 7, 8, 9]"
      ]
     },
     "execution_count": 10,
     "metadata": {},
     "output_type": "execute_result"
    }
   ],
   "source": [
    "l1"
   ]
  },
  {
   "cell_type": "code",
   "execution_count": 12,
   "id": "9020bac9-7d7f-420e-8089-c2598edb7e7e",
   "metadata": {},
   "outputs": [],
   "source": [
    "l = [\"sudh\" , \"kumar\" , \"pwskills\" , \"course\"]\n",
    "# convert this list into upper case"
   ]
  },
  {
   "cell_type": "code",
   "execution_count": 18,
   "id": "f2acffdf-2803-4722-b916-44bcf7d9732a",
   "metadata": {},
   "outputs": [
    {
     "name": "stdout",
     "output_type": "stream",
     "text": [
      "sudh\n",
      "kumar\n",
      "pwskills\n",
      "course\n"
     ]
    }
   ],
   "source": [
    "l1  = []\n",
    "for i in l :\n",
    "    print (i)\n",
    "    \n",
    "    l1.append(i.upper())"
   ]
  },
  {
   "cell_type": "code",
   "execution_count": 17,
   "id": "152aab08-36bf-4bc4-88b9-3cc2efe32001",
   "metadata": {},
   "outputs": [
    {
     "data": {
      "text/plain": [
       "['SUDH', 'KUMAR', 'PWSKILLS', 'COURSE']"
      ]
     },
     "execution_count": 17,
     "metadata": {},
     "output_type": "execute_result"
    }
   ],
   "source": [
    "l1"
   ]
  },
  {
   "cell_type": "code",
   "execution_count": 19,
   "id": "5e414b4e-b9b9-401e-9450-04abd7706330",
   "metadata": {},
   "outputs": [],
   "source": [
    "l = [ 1,2,3,4,4, \"sudh\" , \"kumar\" , 324 , 34.456 , \"abc\"]\n",
    "# make two list one for numeric and string"
   ]
  },
  {
   "cell_type": "code",
   "execution_count": 21,
   "id": "70d91ba4-f67d-4658-9eb6-f4e332ecb7d8",
   "metadata": {},
   "outputs": [],
   "source": [
    "l1_num =[]\n",
    "l2_str =[]\n",
    "for i in l :\n",
    "    if type(i)== int or type(i)== float :\n",
    "        l1_num.append(i)\n",
    "    else :\n",
    "        l2_str.append(i)"
   ]
  },
  {
   "cell_type": "code",
   "execution_count": 22,
   "id": "59049a74-f202-4ef4-b2f0-6578a880218e",
   "metadata": {},
   "outputs": [
    {
     "data": {
      "text/plain": [
       "[1, 2, 3, 4, 4, 324, 34.456]"
      ]
     },
     "execution_count": 22,
     "metadata": {},
     "output_type": "execute_result"
    }
   ],
   "source": [
    "l1_num"
   ]
  },
  {
   "cell_type": "code",
   "execution_count": 23,
   "id": "50971d98-cf5d-46f0-93f8-efe34ebd47af",
   "metadata": {},
   "outputs": [
    {
     "data": {
      "text/plain": [
       "['sudh', 'kumar', 'abc']"
      ]
     },
     "execution_count": 23,
     "metadata": {},
     "output_type": "execute_result"
    }
   ],
   "source": [
    "l2_str"
   ]
  },
  {
   "cell_type": "code",
   "execution_count": null,
   "id": "90531c02-1497-4b1f-b3ac-447ff369d0ab",
   "metadata": {},
   "outputs": [],
   "source": []
  }
 ],
 "metadata": {
  "kernelspec": {
   "display_name": "Python 3 (ipykernel)",
   "language": "python",
   "name": "python3"
  },
  "language_info": {
   "codemirror_mode": {
    "name": "ipython",
    "version": 3
   },
   "file_extension": ".py",
   "mimetype": "text/x-python",
   "name": "python",
   "nbconvert_exporter": "python",
   "pygments_lexer": "ipython3",
   "version": "3.10.8"
  }
 },
 "nbformat": 4,
 "nbformat_minor": 5
}
