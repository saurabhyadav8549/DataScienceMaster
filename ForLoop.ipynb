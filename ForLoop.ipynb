{
 "cells": [
  {
   "cell_type": "code",
   "execution_count": 4,
   "id": "69cd677a-ea0d-4591-8d41-78064e36c7b6",
   "metadata": {},
   "outputs": [],
   "source": [
    "l = [ 1,2,3,4,5]"
   ]
  },
  {
   "cell_type": "code",
   "execution_count": 5,
   "id": "d3f0227e-b3d2-446e-8a3b-c430c90ceebc",
   "metadata": {},
   "outputs": [
    {
     "name": "stdout",
     "output_type": "stream",
     "text": [
      "1 <class 'int'>\n",
      "2 <class 'int'>\n",
      "3 <class 'int'>\n",
      "4 <class 'int'>\n",
      "5 <class 'int'>\n"
     ]
    }
   ],
   "source": [
    "for i in l :\n",
    "    print(i , type(i))"
   ]
  },
  {
   "cell_type": "code",
   "execution_count": 6,
   "id": "c7c1ffc6-5501-4cee-ad2c-419eb09a6db3",
   "metadata": {},
   "outputs": [],
   "source": [
    "l1 = [ \"sudh\" , \"kumar\" ,\"krish\" , \"naik\"]"
   ]
  },
  {
   "cell_type": "code",
   "execution_count": 7,
   "id": "5a63d4e6-96da-4071-95d0-ffd35e9a0342",
   "metadata": {},
   "outputs": [
    {
     "name": "stdout",
     "output_type": "stream",
     "text": [
      "sudh\n",
      "kumar\n",
      "krish\n",
      "naik\n"
     ]
    }
   ],
   "source": [
    "for i in l1 :\n",
    "    print(i)"
   ]
  },
  {
   "cell_type": "code",
   "execution_count": 8,
   "id": "86a88763-026c-4521-a3e6-f382def98092",
   "metadata": {},
   "outputs": [
    {
     "data": {
      "text/plain": [
       "['sudh', 'kumar', 'krish', 'naik']"
      ]
     },
     "execution_count": 8,
     "metadata": {},
     "output_type": "execute_result"
    }
   ],
   "source": [
    "l1"
   ]
  },
  {
   "cell_type": "code",
   "execution_count": 9,
   "id": "95f5b7f0-e5bf-44b8-be7c-7f92ab100c26",
   "metadata": {},
   "outputs": [
    {
     "name": "stdout",
     "output_type": "stream",
     "text": [
      "sudh\n",
      "kumar\n",
      "krish\n",
      "naik\n",
      "do nothing\n"
     ]
    }
   ],
   "source": [
    "for i in l1 :  # if for loop is able to complete itself then only else will execute \n",
    "    print(i)\n",
    "else :\n",
    "    print(\"do nothing\")\n",
    "    "
   ]
  },
  {
   "cell_type": "code",
   "execution_count": 10,
   "id": "fe62bb5b-84c0-49e1-be3d-0a631e639a05",
   "metadata": {},
   "outputs": [
    {
     "data": {
      "text/plain": [
       "['sudh', 'kumar', 'krish', 'naik']"
      ]
     },
     "execution_count": 10,
     "metadata": {},
     "output_type": "execute_result"
    }
   ],
   "source": [
    "l1"
   ]
  },
  {
   "cell_type": "code",
   "execution_count": 11,
   "id": "48e0f1e5-39bd-4cc3-92bb-bbd419d81e95",
   "metadata": {},
   "outputs": [
    {
     "name": "stdout",
     "output_type": "stream",
     "text": [
      "sudh\n"
     ]
    }
   ],
   "source": [
    "for i in l1 :\n",
    "    if i==\"kumar\" :\n",
    "        break\n",
    "    print(i)"
   ]
  },
  {
   "cell_type": "code",
   "execution_count": 12,
   "id": "1bfd6284-61e5-4370-99ac-88dadb623d7c",
   "metadata": {},
   "outputs": [
    {
     "data": {
      "text/plain": [
       "['sudh', 'kumar', 'krish', 'naik']"
      ]
     },
     "execution_count": 12,
     "metadata": {},
     "output_type": "execute_result"
    }
   ],
   "source": [
    "l1"
   ]
  },
  {
   "cell_type": "code",
   "execution_count": 13,
   "id": "ead1a1ef-c162-4642-a26f-6b228f1dd97c",
   "metadata": {},
   "outputs": [
    {
     "name": "stdout",
     "output_type": "stream",
     "text": [
      "sudh\n"
     ]
    }
   ],
   "source": [
    "for i in l1:\n",
    "    if i == \"kumar\":\n",
    "        break\n",
    "    print(i)\n",
    "else :\n",
    "    print(\"execute this if loop is able to complete itself\")"
   ]
  },
  {
   "cell_type": "code",
   "execution_count": 14,
   "id": "6246b61c-284b-48d1-8d82-5b27f9facfce",
   "metadata": {},
   "outputs": [
    {
     "data": {
      "text/plain": [
       "['sudh', 'kumar', 'krish', 'naik']"
      ]
     },
     "execution_count": 14,
     "metadata": {},
     "output_type": "execute_result"
    }
   ],
   "source": [
    "l1"
   ]
  },
  {
   "cell_type": "code",
   "execution_count": 22,
   "id": "4ad941a0-ef81-471e-b822-dbb791d24dcc",
   "metadata": {},
   "outputs": [
    {
     "name": "stdout",
     "output_type": "stream",
     "text": [
      "sudh\n",
      "krish\n",
      "naik\n"
     ]
    }
   ],
   "source": [
    "for i in l1:\n",
    "    if i == \"kumar\" :\n",
    "        continue\n",
    "    print(i)"
   ]
  },
  {
   "cell_type": "code",
   "execution_count": 24,
   "id": "c018bbf9-e245-475c-813e-49edcbe7c48e",
   "metadata": {},
   "outputs": [
    {
     "name": "stdout",
     "output_type": "stream",
     "text": [
      "sudh\n",
      "krish\n",
      "naik\n",
      "execute this if for loop is able to complete itself\n"
     ]
    }
   ],
   "source": [
    "for i in l1:\n",
    "    if i == \"kumar\" :\n",
    "        continue\n",
    "    print(i)\n",
    "else :\n",
    "    print(\"execute this if for loop is able to complete itself\")"
   ]
  },
  {
   "cell_type": "code",
   "execution_count": 25,
   "id": "50572bba-1211-4f24-9373-9f7d0427a4e9",
   "metadata": {},
   "outputs": [
    {
     "data": {
      "text/plain": [
       "range(0, 5)"
      ]
     },
     "execution_count": 25,
     "metadata": {},
     "output_type": "execute_result"
    }
   ],
   "source": [
    "range(5)"
   ]
  },
  {
   "cell_type": "code",
   "execution_count": 26,
   "id": "9267bf64-fbc9-48fe-b36f-aec55ac469b9",
   "metadata": {},
   "outputs": [
    {
     "data": {
      "text/plain": [
       "[0, 1, 2, 3, 4]"
      ]
     },
     "execution_count": 26,
     "metadata": {},
     "output_type": "execute_result"
    }
   ],
   "source": [
    "list (range(5))"
   ]
  },
  {
   "cell_type": "code",
   "execution_count": 27,
   "id": "d72f47aa-8c0f-4edf-85fb-d5029b644d58",
   "metadata": {},
   "outputs": [
    {
     "data": {
      "text/plain": [
       "[0, 1, 2, 3, 4]"
      ]
     },
     "execution_count": 27,
     "metadata": {},
     "output_type": "execute_result"
    }
   ],
   "source": [
    "list(range(0,5,1))"
   ]
  },
  {
   "cell_type": "code",
   "execution_count": 29,
   "id": "68546b79-5a77-4d0b-9cb4-d4fc7baf614d",
   "metadata": {},
   "outputs": [
    {
     "data": {
      "text/plain": [
       "[0, 2, 4, 6, 8, 10, 12, 14, 16, 18]"
      ]
     },
     "execution_count": 29,
     "metadata": {},
     "output_type": "execute_result"
    }
   ],
   "source": [
    "list(range(0,20,2))"
   ]
  },
  {
   "cell_type": "code",
   "execution_count": 30,
   "id": "287555eb-aa7f-4cb3-9e69-5d69c13af164",
   "metadata": {},
   "outputs": [
    {
     "data": {
      "text/plain": [
       "[-10, -9, -8, -7, -6, -5, -4, -3, -2, -1]"
      ]
     },
     "execution_count": 30,
     "metadata": {},
     "output_type": "execute_result"
    }
   ],
   "source": [
    "list(range(-10,0))"
   ]
  },
  {
   "cell_type": "code",
   "execution_count": 31,
   "id": "af01b062-9b77-4025-9da5-f76f35c3151f",
   "metadata": {},
   "outputs": [
    {
     "data": {
      "text/plain": [
       "['sudh', 'kumar', 'krish', 'naik']"
      ]
     },
     "execution_count": 31,
     "metadata": {},
     "output_type": "execute_result"
    }
   ],
   "source": [
    "l1"
   ]
  },
  {
   "cell_type": "code",
   "execution_count": 32,
   "id": "77b3a021-d014-482e-a7e8-ceeacb33c089",
   "metadata": {},
   "outputs": [
    {
     "data": {
      "text/plain": [
       "4"
      ]
     },
     "execution_count": 32,
     "metadata": {},
     "output_type": "execute_result"
    }
   ],
   "source": [
    "len(l1)"
   ]
  },
  {
   "cell_type": "code",
   "execution_count": 33,
   "id": "22293ccd-2a3b-4825-ad8c-ca198aaca930",
   "metadata": {},
   "outputs": [
    {
     "data": {
      "text/plain": [
       "[0, 1, 2, 3]"
      ]
     },
     "execution_count": 33,
     "metadata": {},
     "output_type": "execute_result"
    }
   ],
   "source": [
    "list(range(len(l1)))"
   ]
  },
  {
   "cell_type": "code",
   "execution_count": 34,
   "id": "3f8446cb-131d-4cd6-b8d7-ac67c79884fd",
   "metadata": {},
   "outputs": [
    {
     "name": "stdout",
     "output_type": "stream",
     "text": [
      "sudh\n",
      "kumar\n",
      "krish\n",
      "naik\n"
     ]
    }
   ],
   "source": [
    "for i in range(len(l1)):\n",
    "    print (l1[i])"
   ]
  },
  {
   "cell_type": "code",
   "execution_count": 36,
   "id": "1fc8f95f-dc83-4e12-8348-35fe5a553604",
   "metadata": {},
   "outputs": [
    {
     "data": {
      "text/plain": [
       "4"
      ]
     },
     "execution_count": 36,
     "metadata": {},
     "output_type": "execute_result"
    }
   ],
   "source": [
    "len(l1)"
   ]
  },
  {
   "cell_type": "code",
   "execution_count": 40,
   "id": "75d3ab73-3507-4de5-969f-bb6c3b80708a",
   "metadata": {},
   "outputs": [
    {
     "data": {
      "text/plain": [
       "[3, 2, 1, 0]"
      ]
     },
     "execution_count": 40,
     "metadata": {},
     "output_type": "execute_result"
    }
   ],
   "source": [
    "list(range(len(l1)-1,-1,-1))"
   ]
  },
  {
   "cell_type": "code",
   "execution_count": 41,
   "id": "dc73ce73-68cb-4868-8c36-1ac859850c11",
   "metadata": {},
   "outputs": [
    {
     "data": {
      "text/plain": [
       "['sudh', 'kumar', 'krish', 'naik']"
      ]
     },
     "execution_count": 41,
     "metadata": {},
     "output_type": "execute_result"
    }
   ],
   "source": [
    "l1"
   ]
  },
  {
   "cell_type": "code",
   "execution_count": 42,
   "id": "02e83850-7476-4e78-9808-6104fed3ace6",
   "metadata": {},
   "outputs": [
    {
     "name": "stdout",
     "output_type": "stream",
     "text": [
      "naik\n",
      "krish\n",
      "kumar\n",
      "sudh\n"
     ]
    }
   ],
   "source": [
    "for i in range(len(l1)-1,-1,-1):\n",
    "    print(l1[i])"
   ]
  },
  {
   "cell_type": "code",
   "execution_count": 43,
   "id": "92d86086-d27a-4edc-9c6d-aa976bccbb8d",
   "metadata": {},
   "outputs": [
    {
     "name": "stdout",
     "output_type": "stream",
     "text": [
      "naik\n",
      "krish\n",
      "kumar\n",
      "sudh\n"
     ]
    }
   ],
   "source": [
    "for i in [3,2,1,0]:\n",
    "    print(l1[i])"
   ]
  },
  {
   "cell_type": "code",
   "execution_count": 44,
   "id": "72f2d49b-ee7d-4520-aafd-89dc635d44c4",
   "metadata": {},
   "outputs": [],
   "source": [
    "l2 = [ 23,5,45,56,6,67,67,78,87,8998,9,9,8]"
   ]
  },
  {
   "cell_type": "code",
   "execution_count": 46,
   "id": "e69ac6dc-37f1-4ea7-a41f-b1e986a9dabb",
   "metadata": {},
   "outputs": [
    {
     "data": {
      "text/plain": [
       "[0, 2, 4, 6, 8, 10, 12]"
      ]
     },
     "execution_count": 46,
     "metadata": {},
     "output_type": "execute_result"
    }
   ],
   "source": [
    "list(range(0,len(l2),2))"
   ]
  },
  {
   "cell_type": "code",
   "execution_count": 47,
   "id": "df579299-f591-4cda-ab49-c526529077fb",
   "metadata": {},
   "outputs": [
    {
     "name": "stdout",
     "output_type": "stream",
     "text": [
      "23\n",
      "45\n",
      "6\n",
      "67\n",
      "87\n",
      "9\n",
      "8\n"
     ]
    }
   ],
   "source": [
    "for i in range(0,len(l2),2):\n",
    "    print(l2[i])"
   ]
  },
  {
   "cell_type": "code",
   "execution_count": 48,
   "id": "f24f5817-8c38-4a27-b26d-0bb6ee533641",
   "metadata": {},
   "outputs": [],
   "source": [
    "l = [1,2,3,4,7,8,98]"
   ]
  },
  {
   "cell_type": "code",
   "execution_count": 49,
   "id": "0870c124-420c-4157-b5d8-8b0cf1c3f215",
   "metadata": {},
   "outputs": [
    {
     "data": {
      "text/plain": [
       "123"
      ]
     },
     "execution_count": 49,
     "metadata": {},
     "output_type": "execute_result"
    }
   ],
   "source": [
    "sum(l)"
   ]
  },
  {
   "cell_type": "code",
   "execution_count": 50,
   "id": "0478732a-2757-446c-ad6c-74945dbf9f11",
   "metadata": {},
   "outputs": [
    {
     "data": {
      "text/plain": [
       "123"
      ]
     },
     "execution_count": 50,
     "metadata": {},
     "output_type": "execute_result"
    }
   ],
   "source": [
    "result = 0\n",
    "for i in l :\n",
    "    result = result + i\n",
    "result"
   ]
  },
  {
   "cell_type": "code",
   "execution_count": 51,
   "id": "2145e117-f351-4ccf-8691-fd4e9dbb9a20",
   "metadata": {},
   "outputs": [],
   "source": [
    " t = (1,2,3,4,4,5)"
   ]
  },
  {
   "cell_type": "code",
   "execution_count": 52,
   "id": "fba53642-4f12-4b47-b435-d65fdffb6712",
   "metadata": {},
   "outputs": [
    {
     "name": "stdout",
     "output_type": "stream",
     "text": [
      "1\n",
      "2\n",
      "3\n",
      "4\n",
      "4\n",
      "5\n"
     ]
    }
   ],
   "source": [
    "for i in t:\n",
    "    print(i)"
   ]
  },
  {
   "cell_type": "code",
   "execution_count": 53,
   "id": "746dba50-b901-48d0-8365-4418c2ece7fe",
   "metadata": {},
   "outputs": [
    {
     "data": {
      "text/plain": [
       "19"
      ]
     },
     "execution_count": 53,
     "metadata": {},
     "output_type": "execute_result"
    }
   ],
   "source": [
    "result = 0\n",
    "for i in t :\n",
    "    result = result + i\n",
    "result"
   ]
  },
  {
   "cell_type": "code",
   "execution_count": 54,
   "id": "7fe20014-bcdf-4599-8376-0aecbcf2b663",
   "metadata": {},
   "outputs": [],
   "source": [
    "s = {1,2,3,4,5,\"sudh\",\"pwskills\"}"
   ]
  },
  {
   "cell_type": "code",
   "execution_count": 55,
   "id": "e5f15e71-8819-4553-a052-c8046b26f1eb",
   "metadata": {},
   "outputs": [
    {
     "name": "stdout",
     "output_type": "stream",
     "text": [
      "1\n",
      "2\n",
      "3\n",
      "4\n",
      "5\n",
      "pwskills\n",
      "sudh\n"
     ]
    }
   ],
   "source": [
    "for i in s :\n",
    "    print(i)"
   ]
  },
  {
   "cell_type": "code",
   "execution_count": 56,
   "id": "f401e444-4322-48be-abad-af24a6011cd3",
   "metadata": {},
   "outputs": [],
   "source": [
    "s1= \"pwskills\""
   ]
  },
  {
   "cell_type": "code",
   "execution_count": 57,
   "id": "be4e5ee6-bced-4b17-9581-413d2c210127",
   "metadata": {},
   "outputs": [
    {
     "name": "stdout",
     "output_type": "stream",
     "text": [
      "p\n",
      "w\n",
      "s\n",
      "k\n",
      "i\n",
      "l\n",
      "l\n",
      "s\n"
     ]
    }
   ],
   "source": [
    "for i in s1 :\n",
    "    print(i)"
   ]
  },
  {
   "cell_type": "code",
   "execution_count": 58,
   "id": "6349f34e-3b57-43e4-bdfb-34ffaa68ec4c",
   "metadata": {},
   "outputs": [],
   "source": [
    "d = {\"name\" : \"sudh\" , \"class\" : \"data science master\" , \"topic\":[\"python\",\"stats\",\"machine learning\", \"DL\", \"cv\",\"nlp\", \"resume\", \"interview\"]}"
   ]
  },
  {
   "cell_type": "code",
   "execution_count": 59,
   "id": "1c0d29e1-4ab1-4228-b9c0-612c936a87f3",
   "metadata": {},
   "outputs": [
    {
     "data": {
      "text/plain": [
       "{'name': 'sudh',\n",
       " 'class': 'data science master',\n",
       " 'topic': ['python',\n",
       "  'stats',\n",
       "  'machine learning',\n",
       "  'DL',\n",
       "  'cv',\n",
       "  'nlp',\n",
       "  'resume',\n",
       "  'interview']}"
      ]
     },
     "execution_count": 59,
     "metadata": {},
     "output_type": "execute_result"
    }
   ],
   "source": [
    "d"
   ]
  },
  {
   "cell_type": "code",
   "execution_count": 60,
   "id": "25d81125-7fdc-445b-b427-5524b2b1398f",
   "metadata": {},
   "outputs": [
    {
     "data": {
      "text/plain": [
       "'sudh'"
      ]
     },
     "execution_count": 60,
     "metadata": {},
     "output_type": "execute_result"
    }
   ],
   "source": [
    "d['name']"
   ]
  },
  {
   "cell_type": "code",
   "execution_count": 61,
   "id": "1ca1c400-76eb-49e7-a906-b07a4d733197",
   "metadata": {},
   "outputs": [
    {
     "data": {
      "text/plain": [
       "dict_keys(['name', 'class', 'topic'])"
      ]
     },
     "execution_count": 61,
     "metadata": {},
     "output_type": "execute_result"
    }
   ],
   "source": [
    "d.keys()"
   ]
  },
  {
   "cell_type": "code",
   "execution_count": 62,
   "id": "47858192-b7ae-4f87-9935-657f9874d0cb",
   "metadata": {},
   "outputs": [
    {
     "name": "stdout",
     "output_type": "stream",
     "text": [
      "sudh\n",
      "data science master\n",
      "['python', 'stats', 'machine learning', 'DL', 'cv', 'nlp', 'resume', 'interview']\n"
     ]
    }
   ],
   "source": [
    "for i in d.keys():\n",
    "    print(d[i])"
   ]
  },
  {
   "cell_type": "code",
   "execution_count": 64,
   "id": "1d374b40-9b50-4b0d-9344-d21cafdf9f83",
   "metadata": {},
   "outputs": [
    {
     "data": {
      "text/plain": [
       "dict_values(['sudh', 'data science master', ['python', 'stats', 'machine learning', 'DL', 'cv', 'nlp', 'resume', 'interview']])"
      ]
     },
     "execution_count": 64,
     "metadata": {},
     "output_type": "execute_result"
    }
   ],
   "source": [
    "d.values()"
   ]
  },
  {
   "cell_type": "code",
   "execution_count": 66,
   "id": "3845e464-9e07-4cf7-97f7-2d332e2245c0",
   "metadata": {},
   "outputs": [
    {
     "name": "stdout",
     "output_type": "stream",
     "text": [
      "sudh\n",
      "data science master\n",
      "['python', 'stats', 'machine learning', 'DL', 'cv', 'nlp', 'resume', 'interview']\n"
     ]
    }
   ],
   "source": [
    "for i in d.values():\n",
    "    print(i)"
   ]
  },
  {
   "cell_type": "code",
   "execution_count": 67,
   "id": "63476246-3b77-46d3-bc21-e9528607eda0",
   "metadata": {},
   "outputs": [
    {
     "data": {
      "text/plain": [
       "dict_items([('name', 'sudh'), ('class', 'data science master'), ('topic', ['python', 'stats', 'machine learning', 'DL', 'cv', 'nlp', 'resume', 'interview'])])"
      ]
     },
     "execution_count": 67,
     "metadata": {},
     "output_type": "execute_result"
    }
   ],
   "source": [
    "d.items()"
   ]
  },
  {
   "cell_type": "code",
   "execution_count": 68,
   "id": "7f0568e1-b11f-4196-bada-ffe1691c6fe9",
   "metadata": {},
   "outputs": [
    {
     "name": "stdout",
     "output_type": "stream",
     "text": [
      "('name', 'sudh')\n",
      "('class', 'data science master')\n",
      "('topic', ['python', 'stats', 'machine learning', 'DL', 'cv', 'nlp', 'resume', 'interview'])\n"
     ]
    }
   ],
   "source": [
    "for i in d.items():\n",
    "    print(i)"
   ]
  },
  {
   "cell_type": "code",
   "execution_count": null,
   "id": "8dfc981c-f9cb-4b46-879d-71122d4bd3e4",
   "metadata": {},
   "outputs": [],
   "source": []
  }
 ],
 "metadata": {
  "kernelspec": {
   "display_name": "Python 3 (ipykernel)",
   "language": "python",
   "name": "python3"
  },
  "language_info": {
   "codemirror_mode": {
    "name": "ipython",
    "version": 3
   },
   "file_extension": ".py",
   "mimetype": "text/x-python",
   "name": "python",
   "nbconvert_exporter": "python",
   "pygments_lexer": "ipython3",
   "version": "3.10.8"
  }
 },
 "nbformat": 4,
 "nbformat_minor": 5
}
