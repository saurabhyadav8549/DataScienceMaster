{
 "cells": [
  {
   "cell_type": "code",
   "execution_count": 1,
   "id": "361781a3-e03b-40b5-917c-5913d54aa53e",
   "metadata": {},
   "outputs": [],
   "source": [
    "l = [1,2,1234,\"rajeev\",True,5+7j,12.345]"
   ]
  },
  {
   "cell_type": "code",
   "execution_count": 2,
   "id": "ff1efb2c-be36-4228-ac28-6d0cac3cd9a4",
   "metadata": {},
   "outputs": [
    {
     "data": {
      "text/plain": [
       "list"
      ]
     },
     "execution_count": 2,
     "metadata": {},
     "output_type": "execute_result"
    }
   ],
   "source": [
    "type(l)"
   ]
  },
  {
   "cell_type": "code",
   "execution_count": 3,
   "id": "8a7817b1-4557-4e81-9538-b840a272d14f",
   "metadata": {},
   "outputs": [
    {
     "data": {
      "text/plain": [
       "1"
      ]
     },
     "execution_count": 3,
     "metadata": {},
     "output_type": "execute_result"
    }
   ],
   "source": [
    "l[0]"
   ]
  },
  {
   "cell_type": "code",
   "execution_count": 4,
   "id": "53a7ed20-6d29-47a1-a4ee-831aa6a63c57",
   "metadata": {},
   "outputs": [
    {
     "data": {
      "text/plain": [
       "'rajeev'"
      ]
     },
     "execution_count": 4,
     "metadata": {},
     "output_type": "execute_result"
    }
   ],
   "source": [
    "l[3]"
   ]
  },
  {
   "cell_type": "code",
   "execution_count": 5,
   "id": "0f6a574e-1ba0-4ae6-bf2a-b4f34ce8ac68",
   "metadata": {},
   "outputs": [
    {
     "data": {
      "text/plain": [
       "[12.345, (5+7j), True, 'rajeev', 1234, 2, 1]"
      ]
     },
     "execution_count": 5,
     "metadata": {},
     "output_type": "execute_result"
    }
   ],
   "source": [
    "l[::-1]"
   ]
  },
  {
   "cell_type": "code",
   "execution_count": 6,
   "id": "11e2ebd3-43e5-498e-9d09-6e5e0baaf699",
   "metadata": {},
   "outputs": [
    {
     "ename": "IndexError",
     "evalue": "list index out of range",
     "output_type": "error",
     "traceback": [
      "\u001b[0;31m---------------------------------------------------------------------------\u001b[0m",
      "\u001b[0;31mIndexError\u001b[0m                                Traceback (most recent call last)",
      "Cell \u001b[0;32mIn[6], line 1\u001b[0m\n\u001b[0;32m----> 1\u001b[0m \u001b[43ml\u001b[49m\u001b[43m[\u001b[49m\u001b[38;5;241;43m90\u001b[39;49m\u001b[43m]\u001b[49m\n",
      "\u001b[0;31mIndexError\u001b[0m: list index out of range"
     ]
    }
   ],
   "source": [
    "l[90]"
   ]
  },
  {
   "cell_type": "code",
   "execution_count": 7,
   "id": "5585953a-0672-4a3b-be92-dbb1ec614755",
   "metadata": {},
   "outputs": [
    {
     "data": {
      "text/plain": [
       "[1, 2, 1234]"
      ]
     },
     "execution_count": 7,
     "metadata": {},
     "output_type": "execute_result"
    }
   ],
   "source": [
    "l[0:3]"
   ]
  },
  {
   "cell_type": "code",
   "execution_count": 8,
   "id": "166972c0-fe27-4e23-bfdd-0e57f1f788d1",
   "metadata": {},
   "outputs": [
    {
     "data": {
      "text/plain": [
       "12.345"
      ]
     },
     "execution_count": 8,
     "metadata": {},
     "output_type": "execute_result"
    }
   ],
   "source": [
    "l[-1]"
   ]
  },
  {
   "cell_type": "code",
   "execution_count": 9,
   "id": "bdc448dd-4e30-4cd9-af74-e53cd4d3ccaf",
   "metadata": {},
   "outputs": [
    {
     "data": {
      "text/plain": [
       "[12.345, (5+7j), True, 'rajeev', 1234, 2, 1]"
      ]
     },
     "execution_count": 9,
     "metadata": {},
     "output_type": "execute_result"
    }
   ],
   "source": [
    "l[::-1]"
   ]
  },
  {
   "cell_type": "code",
   "execution_count": 10,
   "id": "2b124fcb-fb15-4c66-afed-e15457d2621e",
   "metadata": {},
   "outputs": [
    {
     "data": {
      "text/plain": [
       "[1, 1234, True, 12.345]"
      ]
     },
     "execution_count": 10,
     "metadata": {},
     "output_type": "execute_result"
    }
   ],
   "source": [
    "l[::2]"
   ]
  },
  {
   "cell_type": "code",
   "execution_count": 11,
   "id": "10a2a60f-47ef-460e-a500-40c622c8ce09",
   "metadata": {},
   "outputs": [
    {
     "ename": "TypeError",
     "evalue": "can only concatenate list (not \"str\") to list",
     "output_type": "error",
     "traceback": [
      "\u001b[0;31m---------------------------------------------------------------------------\u001b[0m",
      "\u001b[0;31mTypeError\u001b[0m                                 Traceback (most recent call last)",
      "Cell \u001b[0;32mIn[11], line 2\u001b[0m\n\u001b[1;32m      1\u001b[0m s\u001b[38;5;241m=\u001b[39m \u001b[38;5;124m'\u001b[39m\u001b[38;5;124mpwskills\u001b[39m\u001b[38;5;124m'\u001b[39m\n\u001b[0;32m----> 2\u001b[0m \u001b[43ml\u001b[49m\u001b[38;5;241;43m+\u001b[39;49m\u001b[43ms\u001b[49m\n",
      "\u001b[0;31mTypeError\u001b[0m: can only concatenate list (not \"str\") to list"
     ]
    }
   ],
   "source": [
    "s= 'pwskills'\n",
    "l+s"
   ]
  },
  {
   "cell_type": "code",
   "execution_count": 12,
   "id": "fcfa09c2-9f43-4b23-82fd-f12c43a79657",
   "metadata": {},
   "outputs": [
    {
     "data": {
      "text/plain": [
       "['p',\n",
       " 'w',\n",
       " 's',\n",
       " 'k',\n",
       " 'i',\n",
       " 'l',\n",
       " 'l',\n",
       " 's',\n",
       " 1,\n",
       " 2,\n",
       " 1234,\n",
       " 'rajeev',\n",
       " True,\n",
       " (5+7j),\n",
       " 12.345]"
      ]
     },
     "execution_count": 12,
     "metadata": {},
     "output_type": "execute_result"
    }
   ],
   "source": [
    "list(s)+ l"
   ]
  },
  {
   "cell_type": "code",
   "execution_count": 13,
   "id": "7a56d089-3dbf-4e7b-afd3-fb6ba52bc8cc",
   "metadata": {},
   "outputs": [
    {
     "data": {
      "text/plain": [
       "[1, 2, 1234, 'rajeev', True, (5+7j), 12.345]"
      ]
     },
     "execution_count": 13,
     "metadata": {},
     "output_type": "execute_result"
    }
   ],
   "source": [
    "l "
   ]
  },
  {
   "cell_type": "code",
   "execution_count": 14,
   "id": "ec2c41bc-b257-45f1-99b4-505f0f69abef",
   "metadata": {},
   "outputs": [
    {
     "data": {
      "text/plain": [
       "'rajeev'"
      ]
     },
     "execution_count": 14,
     "metadata": {},
     "output_type": "execute_result"
    }
   ],
   "source": [
    "l[3]"
   ]
  },
  {
   "cell_type": "code",
   "execution_count": 15,
   "id": "48fb5f4b-bcd3-4886-956c-eb948a8be494",
   "metadata": {},
   "outputs": [
    {
     "data": {
      "text/plain": [
       "str"
      ]
     },
     "execution_count": 15,
     "metadata": {},
     "output_type": "execute_result"
    }
   ],
   "source": [
    "type(l[3])"
   ]
  },
  {
   "cell_type": "code",
   "execution_count": 16,
   "id": "1d4f2945-f557-4e64-b60f-5e4271e56fd0",
   "metadata": {},
   "outputs": [
    {
     "data": {
      "text/plain": [
       "'ra'"
      ]
     },
     "execution_count": 16,
     "metadata": {},
     "output_type": "execute_result"
    }
   ],
   "source": [
    "l[3][0:2]"
   ]
  },
  {
   "cell_type": "code",
   "execution_count": 17,
   "id": "58b4b95d-ed85-45dd-abbd-ca4b7bfcb4c3",
   "metadata": {},
   "outputs": [
    {
     "data": {
      "text/plain": [
       "'Tru'"
      ]
     },
     "execution_count": 17,
     "metadata": {},
     "output_type": "execute_result"
    }
   ],
   "source": [
    " str(l[4])[0:3]"
   ]
  },
  {
   "cell_type": "code",
   "execution_count": 18,
   "id": "519a624b-0155-45e6-9e92-884b4635c220",
   "metadata": {},
   "outputs": [],
   "source": [
    "l1 = [3,4,5]"
   ]
  },
  {
   "cell_type": "code",
   "execution_count": 19,
   "id": "416c94fe-3634-484d-922c-fe15fba54e03",
   "metadata": {},
   "outputs": [
    {
     "data": {
      "text/plain": [
       "[1, 2, 1234, 'rajeev', True, (5+7j), 12.345, 3, 4, 5]"
      ]
     },
     "execution_count": 19,
     "metadata": {},
     "output_type": "execute_result"
    }
   ],
   "source": [
    "l + l1"
   ]
  },
  {
   "cell_type": "code",
   "execution_count": 20,
   "id": "d1909d7a-270a-456b-b5ab-ca3a26f61dff",
   "metadata": {},
   "outputs": [
    {
     "data": {
      "text/plain": [
       "[3, 4, 5, 3, 4, 5, 3, 4, 5]"
      ]
     },
     "execution_count": 20,
     "metadata": {},
     "output_type": "execute_result"
    }
   ],
   "source": [
    "l1 * 3"
   ]
  },
  {
   "cell_type": "code",
   "execution_count": 21,
   "id": "4113e4a9-115d-4d13-8fc5-0072e84d3adf",
   "metadata": {},
   "outputs": [
    {
     "data": {
      "text/plain": [
       "7"
      ]
     },
     "execution_count": 21,
     "metadata": {},
     "output_type": "execute_result"
    }
   ],
   "source": [
    "len(l)"
   ]
  },
  {
   "cell_type": "code",
   "execution_count": 22,
   "id": "3ced4f9b-493e-4255-a140-a4596e86eeb1",
   "metadata": {},
   "outputs": [],
   "source": [
    "l.append(9) # to add an element int float list variable"
   ]
  },
  {
   "cell_type": "code",
   "execution_count": 23,
   "id": "e237f0a5-328d-4429-a88e-0160e385d8c3",
   "metadata": {},
   "outputs": [
    {
     "data": {
      "text/plain": [
       "[1, 2, 1234, 'rajeev', True, (5+7j), 12.345, 9]"
      ]
     },
     "execution_count": 23,
     "metadata": {},
     "output_type": "execute_result"
    }
   ],
   "source": [
    "l"
   ]
  },
  {
   "cell_type": "code",
   "execution_count": 24,
   "id": "17583100-88e2-4b67-a54b-a1b85c725d4b",
   "metadata": {},
   "outputs": [
    {
     "data": {
      "text/plain": [
       "[1, 2, 1234, 'rajeev', True, (5+7j), 12.345, 9, 'pwskills']"
      ]
     },
     "execution_count": 24,
     "metadata": {},
     "output_type": "execute_result"
    }
   ],
   "source": [
    "l.append(s)\n",
    "l"
   ]
  },
  {
   "cell_type": "code",
   "execution_count": 25,
   "id": "8237897f-599e-4882-acc5-ba99d3f7bae2",
   "metadata": {},
   "outputs": [],
   "source": [
    "l.append(l1)"
   ]
  },
  {
   "cell_type": "code",
   "execution_count": 26,
   "id": "4ab2fcea-703e-492e-ae95-e1524166ce72",
   "metadata": {},
   "outputs": [
    {
     "data": {
      "text/plain": [
       "[1, 2, 1234, 'rajeev', True, (5+7j), 12.345, 9, 'pwskills', [3, 4, 5]]"
      ]
     },
     "execution_count": 26,
     "metadata": {},
     "output_type": "execute_result"
    }
   ],
   "source": [
    "l"
   ]
  },
  {
   "cell_type": "code",
   "execution_count": 27,
   "id": "70902aa1-30eb-4a7b-bde6-c21c7848bff1",
   "metadata": {},
   "outputs": [
    {
     "data": {
      "text/plain": [
       "10"
      ]
     },
     "execution_count": 27,
     "metadata": {},
     "output_type": "execute_result"
    }
   ],
   "source": [
    "len(l)"
   ]
  },
  {
   "cell_type": "code",
   "execution_count": 28,
   "id": "c7b91fc3-0a43-455b-a85f-bab23a8a4d67",
   "metadata": {},
   "outputs": [
    {
     "data": {
      "text/plain": [
       "4"
      ]
     },
     "execution_count": 28,
     "metadata": {},
     "output_type": "execute_result"
    }
   ],
   "source": [
    "l[-1][1]"
   ]
  },
  {
   "cell_type": "code",
   "execution_count": 29,
   "id": "f2c942a3-ef4d-442b-9676-7ea98f82ff57",
   "metadata": {},
   "outputs": [
    {
     "ename": "TypeError",
     "evalue": "'int' object is not iterable",
     "output_type": "error",
     "traceback": [
      "\u001b[0;31m---------------------------------------------------------------------------\u001b[0m",
      "\u001b[0;31mTypeError\u001b[0m                                 Traceback (most recent call last)",
      "Cell \u001b[0;32mIn[29], line 1\u001b[0m\n\u001b[0;32m----> 1\u001b[0m \u001b[43ml\u001b[49m\u001b[38;5;241;43m.\u001b[39;49m\u001b[43mextend\u001b[49m\u001b[43m(\u001b[49m\u001b[38;5;241;43m4\u001b[39;49m\u001b[43m)\u001b[49m\n",
      "\u001b[0;31mTypeError\u001b[0m: 'int' object is not iterable"
     ]
    }
   ],
   "source": [
    "l.extend(4)"
   ]
  },
  {
   "cell_type": "code",
   "execution_count": 30,
   "id": "6dba891b-ba36-42e7-8753-605c99f4fd98",
   "metadata": {},
   "outputs": [],
   "source": [
    "l.extend('hare') # add an element in extended form"
   ]
  },
  {
   "cell_type": "code",
   "execution_count": 31,
   "id": "63c4c05c-b9ae-4d32-8d96-5539fed173ee",
   "metadata": {},
   "outputs": [
    {
     "data": {
      "text/plain": [
       "[1,\n",
       " 2,\n",
       " 1234,\n",
       " 'rajeev',\n",
       " True,\n",
       " (5+7j),\n",
       " 12.345,\n",
       " 9,\n",
       " 'pwskills',\n",
       " [3, 4, 5],\n",
       " 'h',\n",
       " 'a',\n",
       " 'r',\n",
       " 'e']"
      ]
     },
     "execution_count": 31,
     "metadata": {},
     "output_type": "execute_result"
    }
   ],
   "source": [
    "l"
   ]
  },
  {
   "cell_type": "code",
   "execution_count": 32,
   "id": "976ad596-b25c-45d4-9d86-aec4726e23cd",
   "metadata": {},
   "outputs": [],
   "source": [
    "l.extend([1,2,3])"
   ]
  },
  {
   "cell_type": "code",
   "execution_count": 33,
   "id": "ad924ab9-c520-41ff-8d7f-c9c129b09211",
   "metadata": {},
   "outputs": [
    {
     "data": {
      "text/plain": [
       "[1,\n",
       " 2,\n",
       " 1234,\n",
       " 'rajeev',\n",
       " True,\n",
       " (5+7j),\n",
       " 12.345,\n",
       " 9,\n",
       " 'pwskills',\n",
       " [3, 4, 5],\n",
       " 'h',\n",
       " 'a',\n",
       " 'r',\n",
       " 'e',\n",
       " 1,\n",
       " 2,\n",
       " 3]"
      ]
     },
     "execution_count": 33,
     "metadata": {},
     "output_type": "execute_result"
    }
   ],
   "source": [
    "l\n"
   ]
  },
  {
   "cell_type": "code",
   "execution_count": 34,
   "id": "6ef62cb3-4517-4071-a915-d76c2e8d6929",
   "metadata": {},
   "outputs": [
    {
     "data": {
      "text/plain": [
       "[3, 4, 5]"
      ]
     },
     "execution_count": 34,
     "metadata": {},
     "output_type": "execute_result"
    }
   ],
   "source": [
    "l1"
   ]
  },
  {
   "cell_type": "code",
   "execution_count": 35,
   "id": "76a25f87-b765-4128-b9be-34a09851e4fb",
   "metadata": {},
   "outputs": [],
   "source": [
    "l.insert(1,'starting') # add an element at particular index"
   ]
  },
  {
   "cell_type": "code",
   "execution_count": 36,
   "id": "c49aa38c-6c3f-4bd3-9609-94e1eba07876",
   "metadata": {},
   "outputs": [
    {
     "data": {
      "text/plain": [
       "[1,\n",
       " 'starting',\n",
       " 2,\n",
       " 1234,\n",
       " 'rajeev',\n",
       " True,\n",
       " (5+7j),\n",
       " 12.345,\n",
       " 9,\n",
       " 'pwskills',\n",
       " [3, 4, 5],\n",
       " 'h',\n",
       " 'a',\n",
       " 'r',\n",
       " 'e',\n",
       " 1,\n",
       " 2,\n",
       " 3]"
      ]
     },
     "execution_count": 36,
     "metadata": {},
     "output_type": "execute_result"
    }
   ],
   "source": [
    "l"
   ]
  },
  {
   "cell_type": "code",
   "execution_count": 37,
   "id": "a4be5b36-6e5f-4189-be3b-f44edd15fc82",
   "metadata": {},
   "outputs": [],
   "source": [
    "l1.insert(2,[1,2,3])"
   ]
  },
  {
   "cell_type": "code",
   "execution_count": 38,
   "id": "faf1b2f3-18c6-43c9-b713-d7eb3c6a9f67",
   "metadata": {},
   "outputs": [
    {
     "data": {
      "text/plain": [
       "[3, 4, [1, 2, 3], 5]"
      ]
     },
     "execution_count": 38,
     "metadata": {},
     "output_type": "execute_result"
    }
   ],
   "source": [
    "l1"
   ]
  },
  {
   "cell_type": "code",
   "execution_count": 39,
   "id": "7c51c07f-8fa7-4663-8d54-8f1956142fe4",
   "metadata": {},
   "outputs": [],
   "source": [
    "l1.insert(-1,45)"
   ]
  },
  {
   "cell_type": "code",
   "execution_count": 40,
   "id": "d0a2dfae-a085-47ac-9e00-59d52494ce34",
   "metadata": {},
   "outputs": [
    {
     "data": {
      "text/plain": [
       "[3, 4, [1, 2, 3], 45, 5]"
      ]
     },
     "execution_count": 40,
     "metadata": {},
     "output_type": "execute_result"
    }
   ],
   "source": [
    "l1"
   ]
  },
  {
   "cell_type": "code",
   "execution_count": 41,
   "id": "7f291be7-bb68-457c-beb7-75dac16678e8",
   "metadata": {},
   "outputs": [],
   "source": [
    "l1.insert(3,'rajeec')"
   ]
  },
  {
   "cell_type": "code",
   "execution_count": 42,
   "id": "476b951f-a0fb-422d-ac8f-2518c7ff059f",
   "metadata": {},
   "outputs": [
    {
     "data": {
      "text/plain": [
       "[3, 4, [1, 2, 3], 'rajeec', 45, 5]"
      ]
     },
     "execution_count": 42,
     "metadata": {},
     "output_type": "execute_result"
    }
   ],
   "source": [
    "l1"
   ]
  },
  {
   "cell_type": "code",
   "execution_count": 43,
   "id": "2583b379-4b30-4eb8-9316-47760cc06c17",
   "metadata": {},
   "outputs": [
    {
     "data": {
      "text/plain": [
       "5"
      ]
     },
     "execution_count": 43,
     "metadata": {},
     "output_type": "execute_result"
    }
   ],
   "source": [
    "l1.pop() # by default it del element from -1 index"
   ]
  },
  {
   "cell_type": "code",
   "execution_count": 44,
   "id": "f6941ae6-db13-4a41-af5a-4bdf796cbdb5",
   "metadata": {},
   "outputs": [
    {
     "data": {
      "text/plain": [
       "[3, 4, [1, 2, 3], 'rajeec', 45]"
      ]
     },
     "execution_count": 44,
     "metadata": {},
     "output_type": "execute_result"
    }
   ],
   "source": [
    "l1"
   ]
  },
  {
   "cell_type": "code",
   "execution_count": 45,
   "id": "b501e044-9d95-4fa3-928b-33abe4ab806c",
   "metadata": {},
   "outputs": [
    {
     "data": {
      "text/plain": [
       "'rajeec'"
      ]
     },
     "execution_count": 45,
     "metadata": {},
     "output_type": "execute_result"
    }
   ],
   "source": [
    "l1.pop(3) # del element of given index"
   ]
  },
  {
   "cell_type": "code",
   "execution_count": 46,
   "id": "c23006fe-bc65-4101-9649-e1308e574427",
   "metadata": {},
   "outputs": [
    {
     "data": {
      "text/plain": [
       "[3, 4, [1, 2, 3], 45]"
      ]
     },
     "execution_count": 46,
     "metadata": {},
     "output_type": "execute_result"
    }
   ],
   "source": [
    "l1"
   ]
  },
  {
   "cell_type": "code",
   "execution_count": 47,
   "id": "33bd40c0-aa06-4fdb-b385-256e5b4c0a66",
   "metadata": {},
   "outputs": [],
   "source": [
    "l1.remove(4) # remove particular value from list "
   ]
  },
  {
   "cell_type": "code",
   "execution_count": 48,
   "id": "e0760842-9f8f-4b36-b9bc-26db72572937",
   "metadata": {},
   "outputs": [
    {
     "data": {
      "text/plain": [
       "[3, [1, 2, 3], 45]"
      ]
     },
     "execution_count": 48,
     "metadata": {},
     "output_type": "execute_result"
    }
   ],
   "source": [
    "l1"
   ]
  },
  {
   "cell_type": "code",
   "execution_count": 49,
   "id": "48b3445d-8f38-455f-80b4-ab6680d87e28",
   "metadata": {},
   "outputs": [
    {
     "ename": "ValueError",
     "evalue": "list.remove(x): x not in list",
     "output_type": "error",
     "traceback": [
      "\u001b[0;31m---------------------------------------------------------------------------\u001b[0m",
      "\u001b[0;31mValueError\u001b[0m                                Traceback (most recent call last)",
      "Cell \u001b[0;32mIn[49], line 1\u001b[0m\n\u001b[0;32m----> 1\u001b[0m \u001b[43ml1\u001b[49m\u001b[38;5;241;43m.\u001b[39;49m\u001b[43mremove\u001b[49m\u001b[43m(\u001b[49m\u001b[38;5;241;43m234\u001b[39;49m\u001b[43m)\u001b[49m\n",
      "\u001b[0;31mValueError\u001b[0m: list.remove(x): x not in list"
     ]
    }
   ],
   "source": [
    "l1.remove(234)"
   ]
  },
  {
   "cell_type": "code",
   "execution_count": 50,
   "id": "12c13788-2557-40f8-ab32-8ca80d7f9ae0",
   "metadata": {},
   "outputs": [
    {
     "data": {
      "text/plain": [
       "[1, 2, 3]"
      ]
     },
     "execution_count": 50,
     "metadata": {},
     "output_type": "execute_result"
    }
   ],
   "source": [
    "l1[1]"
   ]
  },
  {
   "cell_type": "code",
   "execution_count": 51,
   "id": "80cd8b94-12f3-49bf-846d-7e7453bdd77f",
   "metadata": {},
   "outputs": [],
   "source": [
    "l1[1].remove(3)"
   ]
  },
  {
   "cell_type": "code",
   "execution_count": 52,
   "id": "e5199d83-3e4d-4a83-906e-ae5f22cd6f1b",
   "metadata": {},
   "outputs": [
    {
     "data": {
      "text/plain": [
       "[3, [1, 2], 45]"
      ]
     },
     "execution_count": 52,
     "metadata": {},
     "output_type": "execute_result"
    }
   ],
   "source": [
    "l1"
   ]
  },
  {
   "cell_type": "code",
   "execution_count": 53,
   "id": "6038d472-68f0-42d5-8522-d32e4c2e25aa",
   "metadata": {},
   "outputs": [],
   "source": [
    "l1.append(4)"
   ]
  },
  {
   "cell_type": "code",
   "execution_count": 54,
   "id": "974949ad-d67e-4e09-a15b-cef589c23e35",
   "metadata": {},
   "outputs": [
    {
     "data": {
      "text/plain": [
       "[3, [1, 2], 45, 4]"
      ]
     },
     "execution_count": 54,
     "metadata": {},
     "output_type": "execute_result"
    }
   ],
   "source": [
    "l1"
   ]
  },
  {
   "cell_type": "code",
   "execution_count": 55,
   "id": "6a753ce5-06e8-4435-a89f-16dca0a89a62",
   "metadata": {},
   "outputs": [],
   "source": [
    "l1.remove(4)"
   ]
  },
  {
   "cell_type": "code",
   "execution_count": 56,
   "id": "ed391af1-f678-4ae7-ae9f-ac86ae632253",
   "metadata": {},
   "outputs": [
    {
     "data": {
      "text/plain": [
       "[3, [1, 2], 45]"
      ]
     },
     "execution_count": 56,
     "metadata": {},
     "output_type": "execute_result"
    }
   ],
   "source": [
    "l1"
   ]
  },
  {
   "cell_type": "code",
   "execution_count": 57,
   "id": "e0bdf754-a474-40cd-8020-e1cb416d1dfa",
   "metadata": {},
   "outputs": [
    {
     "data": {
      "text/plain": [
       "[45, [1, 2], 3]"
      ]
     },
     "execution_count": 57,
     "metadata": {},
     "output_type": "execute_result"
    }
   ],
   "source": [
    "l1[::-1] ## reverse temporarirly"
   ]
  },
  {
   "cell_type": "code",
   "execution_count": 58,
   "id": "ac63abb5-1e2b-4bab-9db6-ca5eef022278",
   "metadata": {},
   "outputs": [],
   "source": [
    "l1.reverse() ## permanent reverse"
   ]
  },
  {
   "cell_type": "code",
   "execution_count": 59,
   "id": "0123a723-33a2-47d4-a639-70e2251daae9",
   "metadata": {},
   "outputs": [
    {
     "data": {
      "text/plain": [
       "[45, [1, 2], 3]"
      ]
     },
     "execution_count": 59,
     "metadata": {},
     "output_type": "execute_result"
    }
   ],
   "source": [
    "l1"
   ]
  },
  {
   "cell_type": "code",
   "execution_count": 60,
   "id": "f6d69f0a-738c-409a-9a14-4c1b474111a7",
   "metadata": {},
   "outputs": [
    {
     "ename": "TypeError",
     "evalue": "'<' not supported between instances of 'list' and 'int'",
     "output_type": "error",
     "traceback": [
      "\u001b[0;31m---------------------------------------------------------------------------\u001b[0m",
      "\u001b[0;31mTypeError\u001b[0m                                 Traceback (most recent call last)",
      "Cell \u001b[0;32mIn[60], line 1\u001b[0m\n\u001b[0;32m----> 1\u001b[0m \u001b[43ml1\u001b[49m\u001b[38;5;241;43m.\u001b[39;49m\u001b[43msort\u001b[49m\u001b[43m(\u001b[49m\u001b[43m)\u001b[49m\n",
      "\u001b[0;31mTypeError\u001b[0m: '<' not supported between instances of 'list' and 'int'"
     ]
    }
   ],
   "source": [
    "l1.sort()"
   ]
  },
  {
   "cell_type": "code",
   "execution_count": 61,
   "id": "2aba1277-3a8d-48a8-8a1c-191c9b60b59d",
   "metadata": {},
   "outputs": [],
   "source": [
    "l2 = [1,2,53,36,23,65]\n",
    "l2.sort() # arrange in ascending order"
   ]
  },
  {
   "cell_type": "code",
   "execution_count": 62,
   "id": "52431b74-eed5-4ab3-b0b8-2f517cc5bc11",
   "metadata": {},
   "outputs": [
    {
     "data": {
      "text/plain": [
       "[1, 2, 23, 36, 53, 65]"
      ]
     },
     "execution_count": 62,
     "metadata": {},
     "output_type": "execute_result"
    }
   ],
   "source": [
    "l2"
   ]
  },
  {
   "cell_type": "code",
   "execution_count": 63,
   "id": "25b324b2-2a34-4cb5-8db6-256793537b7e",
   "metadata": {},
   "outputs": [
    {
     "data": {
      "text/plain": [
       "[1, 2, 23, 36, 53, 65]"
      ]
     },
     "execution_count": 63,
     "metadata": {},
     "output_type": "execute_result"
    }
   ],
   "source": [
    "l2"
   ]
  },
  {
   "cell_type": "code",
   "execution_count": 64,
   "id": "2293505a-6391-4b2b-8d75-30a70ccc8f46",
   "metadata": {},
   "outputs": [],
   "source": [
    "l3 =  [32,'rajeec',56,65,'yadav']"
   ]
  },
  {
   "cell_type": "code",
   "execution_count": 65,
   "id": "cef83671-6fda-4243-bc6c-7cd19b446543",
   "metadata": {},
   "outputs": [
    {
     "ename": "TypeError",
     "evalue": "'<' not supported between instances of 'str' and 'int'",
     "output_type": "error",
     "traceback": [
      "\u001b[0;31m---------------------------------------------------------------------------\u001b[0m",
      "\u001b[0;31mTypeError\u001b[0m                                 Traceback (most recent call last)",
      "Cell \u001b[0;32mIn[65], line 1\u001b[0m\n\u001b[0;32m----> 1\u001b[0m \u001b[43ml3\u001b[49m\u001b[38;5;241;43m.\u001b[39;49m\u001b[43msort\u001b[49m\u001b[43m(\u001b[49m\u001b[43m)\u001b[49m\n",
      "\u001b[0;31mTypeError\u001b[0m: '<' not supported between instances of 'str' and 'int'"
     ]
    }
   ],
   "source": [
    "l3.sort()"
   ]
  },
  {
   "cell_type": "code",
   "execution_count": 66,
   "id": "61858ff9-b7e6-4471-8c4a-d524b1b3c50f",
   "metadata": {},
   "outputs": [],
   "source": [
    "l4 = [\"hare\",\"krishna\", \"to \",\"all\"];\n",
    "l4.sort()"
   ]
  },
  {
   "cell_type": "code",
   "execution_count": 67,
   "id": "3ad0ec6e-9bd5-45fd-9b01-7bcd53592252",
   "metadata": {},
   "outputs": [
    {
     "data": {
      "text/plain": [
       "['all', 'hare', 'krishna', 'to ']"
      ]
     },
     "execution_count": 67,
     "metadata": {},
     "output_type": "execute_result"
    }
   ],
   "source": [
    "l4"
   ]
  },
  {
   "cell_type": "code",
   "execution_count": 68,
   "id": "adfde03e-536a-47fe-a99d-5d8c51b4c124",
   "metadata": {},
   "outputs": [],
   "source": [
    "l4.sort(reverse= True)"
   ]
  },
  {
   "cell_type": "code",
   "execution_count": 69,
   "id": "6eb08bf2-c294-45b0-886b-206f5ee11ddb",
   "metadata": {},
   "outputs": [
    {
     "data": {
      "text/plain": [
       "['to ', 'krishna', 'hare', 'all']"
      ]
     },
     "execution_count": 69,
     "metadata": {},
     "output_type": "execute_result"
    }
   ],
   "source": [
    "l4"
   ]
  },
  {
   "cell_type": "code",
   "execution_count": 70,
   "id": "8c05365c-52fc-4ab8-8f30-02a17a39ea09",
   "metadata": {},
   "outputs": [
    {
     "data": {
      "text/plain": [
       "2"
      ]
     },
     "execution_count": 70,
     "metadata": {},
     "output_type": "execute_result"
    }
   ],
   "source": [
    "l4.index(\"hare\")"
   ]
  },
  {
   "cell_type": "code",
   "execution_count": 71,
   "id": "5e856df3-7709-4686-8529-c22ba9e4f81f",
   "metadata": {},
   "outputs": [
    {
     "data": {
      "text/plain": [
       "1"
      ]
     },
     "execution_count": 71,
     "metadata": {},
     "output_type": "execute_result"
    }
   ],
   "source": [
    "l4.count(\"hare\")"
   ]
  },
  {
   "cell_type": "code",
   "execution_count": 72,
   "id": "2586bea2-df89-4e21-99d9-da7d7fffb9e6",
   "metadata": {},
   "outputs": [],
   "source": [
    "s = 'suudh'"
   ]
  },
  {
   "cell_type": "code",
   "execution_count": 73,
   "id": "9a649d96-bd11-42c8-94f6-75662763164a",
   "metadata": {},
   "outputs": [],
   "source": [
    "l5 = [3,4,5,6]"
   ]
  },
  {
   "cell_type": "code",
   "execution_count": 74,
   "id": "9b942e29-4b45-465d-a63d-f48ff684e28a",
   "metadata": {},
   "outputs": [
    {
     "data": {
      "text/plain": [
       "'s'"
      ]
     },
     "execution_count": 74,
     "metadata": {},
     "output_type": "execute_result"
    }
   ],
   "source": [
    "s[0]"
   ]
  },
  {
   "cell_type": "code",
   "execution_count": 75,
   "id": "dc8dee9e-6aca-4b55-b8b2-13d85576b5e3",
   "metadata": {},
   "outputs": [
    {
     "ename": "TypeError",
     "evalue": "'str' object does not support item assignment",
     "output_type": "error",
     "traceback": [
      "\u001b[0;31m---------------------------------------------------------------------------\u001b[0m",
      "\u001b[0;31mTypeError\u001b[0m                                 Traceback (most recent call last)",
      "Cell \u001b[0;32mIn[75], line 1\u001b[0m\n\u001b[0;32m----> 1\u001b[0m \u001b[43ms\u001b[49m\u001b[43m[\u001b[49m\u001b[38;5;241;43m0\u001b[39;49m\u001b[43m]\u001b[49m\u001b[38;5;241m=\u001b[39m \u001b[38;5;124m'\u001b[39m\u001b[38;5;124ma\u001b[39m\u001b[38;5;124m'\u001b[39m \u001b[38;5;66;03m# immutable cant change by using index\u001b[39;00m\n",
      "\u001b[0;31mTypeError\u001b[0m: 'str' object does not support item assignment"
     ]
    }
   ],
   "source": [
    "s[0]= 'a' # immutable cant change by using index"
   ]
  },
  {
   "cell_type": "code",
   "execution_count": 76,
   "id": "0b25d035-50b5-4c1b-89de-ae64df48546b",
   "metadata": {},
   "outputs": [
    {
     "data": {
      "text/plain": [
       "3"
      ]
     },
     "execution_count": 76,
     "metadata": {},
     "output_type": "execute_result"
    }
   ],
   "source": [
    "l5[0]"
   ]
  },
  {
   "cell_type": "code",
   "execution_count": 77,
   "id": "624ebb0e-d095-428d-9be8-c15781914cc2",
   "metadata": {},
   "outputs": [],
   "source": [
    "l5[0] = 10 # list is mutable"
   ]
  },
  {
   "cell_type": "code",
   "execution_count": 78,
   "id": "3e095550-6cff-4210-8bb7-04889a9a89c7",
   "metadata": {},
   "outputs": [
    {
     "data": {
      "text/plain": [
       "[10, 4, 5, 6]"
      ]
     },
     "execution_count": 78,
     "metadata": {},
     "output_type": "execute_result"
    }
   ],
   "source": [
    "l5"
   ]
  },
  {
   "cell_type": "code",
   "execution_count": 79,
   "id": "36caeef0-5dc9-429b-aa86-b5fa724d2e22",
   "metadata": {},
   "outputs": [
    {
     "data": {
      "text/plain": [
       "'auudh'"
      ]
     },
     "execution_count": 79,
     "metadata": {},
     "output_type": "execute_result"
    }
   ],
   "source": [
    "s.replace('s','a')"
   ]
  },
  {
   "cell_type": "code",
   "execution_count": 80,
   "id": "2a3a50ce-8587-4fc6-a880-61a59a846c02",
   "metadata": {},
   "outputs": [
    {
     "data": {
      "text/plain": [
       "'suudh'"
      ]
     },
     "execution_count": 80,
     "metadata": {},
     "output_type": "execute_result"
    }
   ],
   "source": [
    "s"
   ]
  },
  {
   "cell_type": "code",
   "execution_count": 81,
   "id": "6dd958dc-eeaf-4626-8706-89005d9de66b",
   "metadata": {},
   "outputs": [],
   "source": [
    "##tuples\n"
   ]
  },
  {
   "cell_type": "code",
   "execution_count": 82,
   "id": "0c8e8bd7-feda-4f74-b511-29c8d1f9604b",
   "metadata": {},
   "outputs": [],
   "source": [
    " t = (2,3,4,5,'rajeev',45.89,False, 45+7j,[3,4,5])"
   ]
  },
  {
   "cell_type": "code",
   "execution_count": 83,
   "id": "677b1c41-714d-42be-bd62-ac7a71a04f58",
   "metadata": {},
   "outputs": [
    {
     "data": {
      "text/plain": [
       "(2, 3, 4, 5, 'rajeev', 45.89, False, (45+7j), [3, 4, 5])"
      ]
     },
     "execution_count": 83,
     "metadata": {},
     "output_type": "execute_result"
    }
   ],
   "source": [
    "t"
   ]
  },
  {
   "cell_type": "code",
   "execution_count": 84,
   "id": "51a7c16e-5532-4c25-bd74-43fdf2632154",
   "metadata": {},
   "outputs": [
    {
     "data": {
      "text/plain": [
       "tuple"
      ]
     },
     "execution_count": 84,
     "metadata": {},
     "output_type": "execute_result"
    }
   ],
   "source": [
    "type(t)"
   ]
  },
  {
   "cell_type": "code",
   "execution_count": 85,
   "id": "087f61e4-d770-4b90-b9b4-b9e4a5f29ff2",
   "metadata": {},
   "outputs": [
    {
     "data": {
      "text/plain": [
       "9"
      ]
     },
     "execution_count": 85,
     "metadata": {},
     "output_type": "execute_result"
    }
   ],
   "source": [
    "len(t)"
   ]
  },
  {
   "cell_type": "code",
   "execution_count": 86,
   "id": "b532178d-dae3-443f-86ec-5389700149d8",
   "metadata": {},
   "outputs": [
    {
     "data": {
      "text/plain": [
       "2"
      ]
     },
     "execution_count": 86,
     "metadata": {},
     "output_type": "execute_result"
    }
   ],
   "source": [
    "t[0]"
   ]
  },
  {
   "cell_type": "code",
   "execution_count": 87,
   "id": "fff6c76d-c58a-4b2b-8f57-dc2b417f9de0",
   "metadata": {},
   "outputs": [
    {
     "data": {
      "text/plain": [
       "[3, 4, 5]"
      ]
     },
     "execution_count": 87,
     "metadata": {},
     "output_type": "execute_result"
    }
   ],
   "source": [
    "t[-1]"
   ]
  },
  {
   "cell_type": "code",
   "execution_count": 88,
   "id": "f4366c7c-0097-4579-9c47-87cdce0d4d7f",
   "metadata": {},
   "outputs": [
    {
     "data": {
      "text/plain": [
       "([3, 4, 5], (45+7j), False, 45.89, 'rajeev', 5, 4, 3, 2)"
      ]
     },
     "execution_count": 88,
     "metadata": {},
     "output_type": "execute_result"
    }
   ],
   "source": [
    "t[::-1]"
   ]
  },
  {
   "cell_type": "code",
   "execution_count": 89,
   "id": "10b73ddf-b8bd-4c4b-9f92-6c6441e8028d",
   "metadata": {},
   "outputs": [
    {
     "data": {
      "text/plain": [
       "['to ', 'krishna', 'hare', 'all']"
      ]
     },
     "execution_count": 89,
     "metadata": {},
     "output_type": "execute_result"
    }
   ],
   "source": [
    "l4"
   ]
  },
  {
   "cell_type": "code",
   "execution_count": 90,
   "id": "ecd4f6fc-a1b2-41d5-a3e8-7bee8060947b",
   "metadata": {},
   "outputs": [],
   "source": [
    "l4[2] = 98"
   ]
  },
  {
   "cell_type": "code",
   "execution_count": 91,
   "id": "08f8dec6-8c02-4204-92b2-993df139ec40",
   "metadata": {},
   "outputs": [
    {
     "data": {
      "text/plain": [
       "['to ', 'krishna', 98, 'all']"
      ]
     },
     "execution_count": 91,
     "metadata": {},
     "output_type": "execute_result"
    }
   ],
   "source": [
    "l4"
   ]
  },
  {
   "cell_type": "code",
   "execution_count": 92,
   "id": "5b89636e-a70f-4382-84aa-e20e36a70caf",
   "metadata": {},
   "outputs": [
    {
     "ename": "TypeError",
     "evalue": "'tuple' object does not support item assignment",
     "output_type": "error",
     "traceback": [
      "\u001b[0;31m---------------------------------------------------------------------------\u001b[0m",
      "\u001b[0;31mTypeError\u001b[0m                                 Traceback (most recent call last)",
      "Cell \u001b[0;32mIn[92], line 1\u001b[0m\n\u001b[0;32m----> 1\u001b[0m \u001b[43mt\u001b[49m\u001b[43m[\u001b[49m\u001b[38;5;241;43m0\u001b[39;49m\u001b[43m]\u001b[49m \u001b[38;5;241m=\u001b[39m \u001b[38;5;124m'\u001b[39m\u001b[38;5;124mrajeev\u001b[39m\u001b[38;5;124m'\u001b[39m\n",
      "\u001b[0;31mTypeError\u001b[0m: 'tuple' object does not support item assignment"
     ]
    }
   ],
   "source": [
    "t[0] = 'rajeev'"
   ]
  },
  {
   "cell_type": "code",
   "execution_count": 93,
   "id": "1882263d-34db-4c1e-8d58-1fdaf8bfb790",
   "metadata": {},
   "outputs": [
    {
     "data": {
      "text/plain": [
       "([3, 4, 5], (45+7j), False, 45.89, 'rajeev', 5, 4, 3, 2)"
      ]
     },
     "execution_count": 93,
     "metadata": {},
     "output_type": "execute_result"
    }
   ],
   "source": [
    "t[::-1]"
   ]
  },
  {
   "cell_type": "code",
   "execution_count": 94,
   "id": "e0656a87-7c8e-4610-8996-eabff98c21dd",
   "metadata": {},
   "outputs": [
    {
     "data": {
      "text/plain": [
       "(2, 3, 4, 5, 'rajeev', 45.89, False, (45+7j), [3, 4, 5])"
      ]
     },
     "execution_count": 94,
     "metadata": {},
     "output_type": "execute_result"
    }
   ],
   "source": [
    "t"
   ]
  },
  {
   "cell_type": "code",
   "execution_count": 95,
   "id": "ad230742-ebd5-43d5-8826-d7c25ab259b1",
   "metadata": {},
   "outputs": [
    {
     "data": {
      "text/plain": [
       "1"
      ]
     },
     "execution_count": 95,
     "metadata": {},
     "output_type": "execute_result"
    }
   ],
   "source": [
    "t.count('rajeev')"
   ]
  },
  {
   "cell_type": "code",
   "execution_count": 96,
   "id": "afd38d1e-0088-421e-95cf-5460f01cfdb0",
   "metadata": {},
   "outputs": [
    {
     "data": {
      "text/plain": [
       "6"
      ]
     },
     "execution_count": 96,
     "metadata": {},
     "output_type": "execute_result"
    }
   ],
   "source": [
    "t.index(False)"
   ]
  },
  {
   "cell_type": "code",
   "execution_count": 97,
   "id": "6af76712-999a-4aeb-ab73-32b9d1c1e5e9",
   "metadata": {},
   "outputs": [],
   "source": [
    "s1 = {}"
   ]
  },
  {
   "cell_type": "code",
   "execution_count": 98,
   "id": "9fa43d65-f263-4778-97fc-75cd0611f5f1",
   "metadata": {},
   "outputs": [
    {
     "data": {
      "text/plain": [
       "dict"
      ]
     },
     "execution_count": 98,
     "metadata": {},
     "output_type": "execute_result"
    }
   ],
   "source": [
    "type(s1)"
   ]
  },
  {
   "cell_type": "code",
   "execution_count": 99,
   "id": "03c5773c-8d98-4e1b-8a21-cee542c03459",
   "metadata": {},
   "outputs": [],
   "source": [
    "s2 = {1,2,3,4,6}"
   ]
  },
  {
   "cell_type": "code",
   "execution_count": 100,
   "id": "3cd3780b-b496-49d4-a7e2-ad8993ab1666",
   "metadata": {},
   "outputs": [
    {
     "data": {
      "text/plain": [
       "set"
      ]
     },
     "execution_count": 100,
     "metadata": {},
     "output_type": "execute_result"
    }
   ],
   "source": [
    "type(s2)"
   ]
  },
  {
   "cell_type": "code",
   "execution_count": 101,
   "id": "80e8d07d-ebdf-447a-8cc3-fe58d0b98ad5",
   "metadata": {},
   "outputs": [],
   "source": [
    "s3 = {324,456,3344,'sudh', 45+78j,  34.465,(3,4,5)}"
   ]
  },
  {
   "cell_type": "code",
   "execution_count": 102,
   "id": "aa679de1-a333-4ddc-b9f1-8b33d8ea2c69",
   "metadata": {},
   "outputs": [
    {
     "ename": "TypeError",
     "evalue": "unhashable type: 'list'",
     "output_type": "error",
     "traceback": [
      "\u001b[0;31m---------------------------------------------------------------------------\u001b[0m",
      "\u001b[0;31mTypeError\u001b[0m                                 Traceback (most recent call last)",
      "Cell \u001b[0;32mIn[102], line 1\u001b[0m\n\u001b[0;32m----> 1\u001b[0m s3 \u001b[38;5;241m=\u001b[39m {\u001b[38;5;241m324\u001b[39m,\u001b[38;5;241m456\u001b[39m,\u001b[38;5;241m3344\u001b[39m,\u001b[38;5;124m'\u001b[39m\u001b[38;5;124msudh\u001b[39m\u001b[38;5;124m'\u001b[39m, \u001b[38;5;241m45\u001b[39m\u001b[38;5;241m+\u001b[39m\u001b[38;5;241m78\u001b[39mj,  \u001b[38;5;241m34.465\u001b[39m,[\u001b[38;5;241m1\u001b[39m,\u001b[38;5;241m2\u001b[39m,\u001b[38;5;241m3\u001b[39m]}\n",
      "\u001b[0;31mTypeError\u001b[0m: unhashable type: 'list'"
     ]
    }
   ],
   "source": [
    "s3 = {324,456,3344,'sudh', 45+78j,  34.465,[1,2,3]}"
   ]
  },
  {
   "cell_type": "code",
   "execution_count": 103,
   "id": "f815b016-c2ea-4093-92be-479b9e000d3d",
   "metadata": {},
   "outputs": [
    {
     "data": {
      "text/plain": [
       "{1, 2, 4, 5, 8, 'raj'}"
      ]
     },
     "execution_count": 103,
     "metadata": {},
     "output_type": "execute_result"
    }
   ],
   "source": [
    "s4= {8,8,8,5,5,5,1,1,1,1,2,2,2,4,4,'raj','raj'}\n",
    "s4"
   ]
  },
  {
   "cell_type": "code",
   "execution_count": 104,
   "id": "cca5f7ad-19be-4264-af81-3d986c28aa1d",
   "metadata": {},
   "outputs": [],
   "source": [
    "s5 = {234,455,32,123,342,'abc',456,342,23}"
   ]
  },
  {
   "cell_type": "code",
   "execution_count": 105,
   "id": "8cd215a5-52cc-4b76-8504-d3f9c7922fdc",
   "metadata": {},
   "outputs": [
    {
     "data": {
      "text/plain": [
       "{123, 23, 234, 32, 342, 455, 456, 'abc'}"
      ]
     },
     "execution_count": 105,
     "metadata": {},
     "output_type": "execute_result"
    }
   ],
   "source": [
    "s5"
   ]
  },
  {
   "cell_type": "code",
   "execution_count": 106,
   "id": "dc5aba55-178a-450b-bb08-6d2c78a7017c",
   "metadata": {},
   "outputs": [
    {
     "ename": "TypeError",
     "evalue": "'set' object is not subscriptable",
     "output_type": "error",
     "traceback": [
      "\u001b[0;31m---------------------------------------------------------------------------\u001b[0m",
      "\u001b[0;31mTypeError\u001b[0m                                 Traceback (most recent call last)",
      "Cell \u001b[0;32mIn[106], line 1\u001b[0m\n\u001b[0;32m----> 1\u001b[0m \u001b[43ms5\u001b[49m\u001b[43m[\u001b[49m\u001b[38;5;241;43m0\u001b[39;49m\u001b[43m]\u001b[49m\n",
      "\u001b[0;31mTypeError\u001b[0m: 'set' object is not subscriptable"
     ]
    }
   ],
   "source": [
    "s5[0]"
   ]
  },
  {
   "cell_type": "code",
   "execution_count": 107,
   "id": "4b61aeb5-1ab2-422e-944b-bdaceca56c9e",
   "metadata": {},
   "outputs": [
    {
     "ename": "TypeError",
     "evalue": "'set' object is not subscriptable",
     "output_type": "error",
     "traceback": [
      "\u001b[0;31m---------------------------------------------------------------------------\u001b[0m",
      "\u001b[0;31mTypeError\u001b[0m                                 Traceback (most recent call last)",
      "Cell \u001b[0;32mIn[107], line 1\u001b[0m\n\u001b[0;32m----> 1\u001b[0m \u001b[43ms5\u001b[49m\u001b[43m[\u001b[49m\u001b[43m:\u001b[49m\u001b[43m:\u001b[49m\u001b[38;5;241;43m-\u001b[39;49m\u001b[38;5;241;43m1\u001b[39;49m\u001b[43m]\u001b[49m\n",
      "\u001b[0;31mTypeError\u001b[0m: 'set' object is not subscriptable"
     ]
    }
   ],
   "source": [
    "s5[::-1]"
   ]
  },
  {
   "cell_type": "code",
   "execution_count": 108,
   "id": "b0747cb1-c66c-4944-bf59-b5077b85e3d2",
   "metadata": {},
   "outputs": [],
   "source": [
    "s5.add(4)"
   ]
  },
  {
   "cell_type": "code",
   "execution_count": 109,
   "id": "419bf2b6-7afc-400d-966d-d25040933b06",
   "metadata": {},
   "outputs": [
    {
     "data": {
      "text/plain": [
       "{123, 23, 234, 32, 342, 4, 455, 456, 'abc'}"
      ]
     },
     "execution_count": 109,
     "metadata": {},
     "output_type": "execute_result"
    }
   ],
   "source": [
    "s5"
   ]
  },
  {
   "cell_type": "code",
   "execution_count": 110,
   "id": "aa6195c0-9ef5-4fc4-97fa-3701aa8723f9",
   "metadata": {},
   "outputs": [],
   "source": [
    "s5.remove(123)"
   ]
  },
  {
   "cell_type": "code",
   "execution_count": 111,
   "id": "4cf4a4c4-725e-4258-8be0-d8ba40e9af35",
   "metadata": {},
   "outputs": [
    {
     "data": {
      "text/plain": [
       "{23, 234, 32, 342, 4, 455, 456, 'abc'}"
      ]
     },
     "execution_count": 111,
     "metadata": {},
     "output_type": "execute_result"
    }
   ],
   "source": [
    "s5"
   ]
  },
  {
   "cell_type": "code",
   "execution_count": null,
   "id": "02de24df-9660-45d6-b9c6-8a53cf290e7e",
   "metadata": {},
   "outputs": [],
   "source": []
  }
 ],
 "metadata": {
  "kernelspec": {
   "display_name": "Python 3 (ipykernel)",
   "language": "python",
   "name": "python3"
  },
  "language_info": {
   "codemirror_mode": {
    "name": "ipython",
    "version": 3
   },
   "file_extension": ".py",
   "mimetype": "text/x-python",
   "name": "python",
   "nbconvert_exporter": "python",
   "pygments_lexer": "ipython3",
   "version": "3.10.8"
  }
 },
 "nbformat": 4,
 "nbformat_minor": 5
}
