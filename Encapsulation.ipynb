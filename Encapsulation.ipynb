{
 "cells": [
  {
   "cell_type": "code",
   "execution_count": 1,
   "id": "cb16a207-d65a-4397-9402-d4d8f668b5a0",
   "metadata": {},
   "outputs": [],
   "source": [
    "class test :\n",
    "    \n",
    "    \n",
    "    def __init__(self,a,b):\n",
    "        self.a= a\n",
    "        self.b= b"
   ]
  },
  {
   "cell_type": "code",
   "execution_count": 2,
   "id": "dc8bd5e8-8458-4d96-818f-e544b5d14a48",
   "metadata": {},
   "outputs": [],
   "source": [
    "t= test(23,34)"
   ]
  },
  {
   "cell_type": "code",
   "execution_count": 3,
   "id": "ca0c4496-e532-4f5b-a2af-09833ad672d5",
   "metadata": {},
   "outputs": [],
   "source": [
    "t.a = 23456"
   ]
  },
  {
   "cell_type": "code",
   "execution_count": 4,
   "id": "bdf9c335-0324-4414-9e32-4c44e52bbf6d",
   "metadata": {},
   "outputs": [
    {
     "data": {
      "text/plain": [
       "23456"
      ]
     },
     "execution_count": 4,
     "metadata": {},
     "output_type": "execute_result"
    }
   ],
   "source": [
    "t.a"
   ]
  },
  {
   "cell_type": "code",
   "execution_count": 16,
   "id": "69804f3e-b72a-4ece-bba9-cda3534dbd1f",
   "metadata": {},
   "outputs": [],
   "source": [
    "class car :\n",
    "    def __init__(self, year,make,model,speed):\n",
    "        \n",
    "        self.__year = year # __ used to private variable/object\n",
    "        self.__make = make\n",
    "        self.__model = model\n",
    "        self.__speed = 0\n",
    "        \n",
    "    def set_speed(self, speed):\n",
    "        self.__speed = 0 if speed<0 else speed\n",
    "    \n",
    "    def get_speed(self):\n",
    "        return self.__speed"
   ]
  },
  {
   "cell_type": "code",
   "execution_count": 18,
   "id": "a693ba20-e8b9-410e-85ab-7440ad2af3e6",
   "metadata": {},
   "outputs": [
    {
     "data": {
      "text/plain": [
       "2021"
      ]
     },
     "execution_count": 18,
     "metadata": {},
     "output_type": "execute_result"
    }
   ],
   "source": [
    "c._car__year # used to access the protected object of class  "
   ]
  },
  {
   "cell_type": "code",
   "execution_count": 17,
   "id": "b520d277-6129-4e8f-9785-8009073adb02",
   "metadata": {},
   "outputs": [],
   "source": [
    "c= car(2021, \"toyota\", \"innova\",12)"
   ]
  },
  {
   "cell_type": "code",
   "execution_count": 19,
   "id": "f54112f7-c51b-418b-8f89-28a29b7b12ef",
   "metadata": {},
   "outputs": [],
   "source": [
    "c.set_speed(-3245)"
   ]
  },
  {
   "cell_type": "code",
   "execution_count": 20,
   "id": "e1f7219a-3847-4c35-a3af-c8a9b079a68d",
   "metadata": {},
   "outputs": [
    {
     "data": {
      "text/plain": [
       "0"
      ]
     },
     "execution_count": 20,
     "metadata": {},
     "output_type": "execute_result"
    }
   ],
   "source": [
    "c.get_speed()"
   ]
  },
  {
   "cell_type": "code",
   "execution_count": 21,
   "id": "3213ba3e-a9d6-4ff3-a45a-a8e64d129b62",
   "metadata": {},
   "outputs": [],
   "source": [
    "c.set_speed(234)"
   ]
  },
  {
   "cell_type": "code",
   "execution_count": 22,
   "id": "4366dca8-9eea-49d1-9f64-b1fbb3868c52",
   "metadata": {},
   "outputs": [
    {
     "data": {
      "text/plain": [
       "234"
      ]
     },
     "execution_count": 22,
     "metadata": {},
     "output_type": "execute_result"
    }
   ],
   "source": [
    "c.get_speed()"
   ]
  },
  {
   "cell_type": "code",
   "execution_count": 23,
   "id": "10f942ef-5fd8-418b-aa3c-fe4fbded8a67",
   "metadata": {},
   "outputs": [],
   "source": [
    "class bank_account :\n",
    "    def __init__(self, balance):\n",
    "        self.__balance = balance\n",
    "    \n",
    "    def deposit(self, amount):\n",
    "        self.__balance = self.__balance + amount\n",
    "    \n",
    "    def withdraw (self, amount):\n",
    "        if self.__balance >= amount:\n",
    "            self.__balance = self.__balance-amount\n",
    "            return True\n",
    "        else :\n",
    "            return False\n",
    "    \n",
    "    def get_balance (self):\n",
    "        return self.__balance\n",
    "    "
   ]
  },
  {
   "cell_type": "code",
   "execution_count": 25,
   "id": "f9237dc7-0b59-47cb-88c3-bec69bce8ecf",
   "metadata": {},
   "outputs": [],
   "source": [
    "sudh = bank_account(1000)"
   ]
  },
  {
   "cell_type": "code",
   "execution_count": 26,
   "id": "4da68383-f627-4fb7-ab87-0ebf521752e6",
   "metadata": {},
   "outputs": [
    {
     "data": {
      "text/plain": [
       "1000"
      ]
     },
     "execution_count": 26,
     "metadata": {},
     "output_type": "execute_result"
    }
   ],
   "source": [
    "sudh.get_balance()"
   ]
  },
  {
   "cell_type": "code",
   "execution_count": 27,
   "id": "c523c69c-b8d1-41b7-b564-47de1ac76baa",
   "metadata": {},
   "outputs": [],
   "source": [
    "sudh.deposit(5000)"
   ]
  },
  {
   "cell_type": "code",
   "execution_count": 28,
   "id": "c2b980ed-cb9f-46a9-9950-b97e3c61a06a",
   "metadata": {},
   "outputs": [
    {
     "data": {
      "text/plain": [
       "6000"
      ]
     },
     "execution_count": 28,
     "metadata": {},
     "output_type": "execute_result"
    }
   ],
   "source": [
    "sudh.get_balance()"
   ]
  },
  {
   "cell_type": "code",
   "execution_count": 29,
   "id": "4b7dfa1d-c683-4985-96b7-b9a2286b9080",
   "metadata": {},
   "outputs": [],
   "source": [
    "sudh.deposit(1000)"
   ]
  },
  {
   "cell_type": "code",
   "execution_count": 30,
   "id": "a5d538a2-e569-4102-a880-e2989ff971f2",
   "metadata": {},
   "outputs": [
    {
     "data": {
      "text/plain": [
       "7000"
      ]
     },
     "execution_count": 30,
     "metadata": {},
     "output_type": "execute_result"
    }
   ],
   "source": [
    "sudh.get_balance()"
   ]
  },
  {
   "cell_type": "code",
   "execution_count": 31,
   "id": "97a7059a-756f-423d-9bca-e866ce02b1b4",
   "metadata": {},
   "outputs": [
    {
     "data": {
      "text/plain": [
       "False"
      ]
     },
     "execution_count": 31,
     "metadata": {},
     "output_type": "execute_result"
    }
   ],
   "source": [
    "sudh.withdraw(9000)"
   ]
  },
  {
   "cell_type": "code",
   "execution_count": 32,
   "id": "4f4e89ce-76c1-4c26-a641-9142390afe0b",
   "metadata": {},
   "outputs": [
    {
     "data": {
      "text/plain": [
       "True"
      ]
     },
     "execution_count": 32,
     "metadata": {},
     "output_type": "execute_result"
    }
   ],
   "source": [
    "sudh.withdraw(2000)"
   ]
  },
  {
   "cell_type": "code",
   "execution_count": 33,
   "id": "d41cf28a-84f6-497a-8085-09db48762a6a",
   "metadata": {},
   "outputs": [
    {
     "data": {
      "text/plain": [
       "5000"
      ]
     },
     "execution_count": 33,
     "metadata": {},
     "output_type": "execute_result"
    }
   ],
   "source": [
    "sudh.get_balance()"
   ]
  },
  {
   "cell_type": "code",
   "execution_count": null,
   "id": "ceb40a6d-3c62-46b2-94cc-b96f49d6fc5f",
   "metadata": {},
   "outputs": [],
   "source": []
  }
 ],
 "metadata": {
  "kernelspec": {
   "display_name": "Python 3 (ipykernel)",
   "language": "python",
   "name": "python3"
  },
  "language_info": {
   "codemirror_mode": {
    "name": "ipython",
    "version": 3
   },
   "file_extension": ".py",
   "mimetype": "text/x-python",
   "name": "python",
   "nbconvert_exporter": "python",
   "pygments_lexer": "ipython3",
   "version": "3.10.8"
  }
 },
 "nbformat": 4,
 "nbformat_minor": 5
}
