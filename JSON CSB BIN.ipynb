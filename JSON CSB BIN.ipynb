{
 "cells": [
  {
   "cell_type": "code",
   "execution_count": 4,
   "id": "66fb046d-003a-446d-899d-9a098da8504b",
   "metadata": {},
   "outputs": [],
   "source": [
    "data = {\n",
    "        \"name\" : \"sudh\",\n",
    "        \"mail_id\" : \"sudh@gmail.com\",\n",
    "        \"phone number\" : 987577546446,\n",
    "        \"subject\": [\"data science\", \"big data\" , \"data analytics\"]\n",
    "}"
   ]
  },
  {
   "cell_type": "code",
   "execution_count": 12,
   "id": "e56ac776-905f-4c92-9a28-9982880266c6",
   "metadata": {},
   "outputs": [],
   "source": [
    "import json # java script object notation"
   ]
  },
  {
   "cell_type": "code",
   "execution_count": 13,
   "id": "385c4b2c-8f4a-4858-9131-a3d55ba8e915",
   "metadata": {},
   "outputs": [],
   "source": [
    "with open(\"data.json\",\"w\") as f:\n",
    "    json.dump(data,f)"
   ]
  },
  {
   "cell_type": "code",
   "execution_count": 14,
   "id": "40e208dc-407f-47bb-9f36-a2095c1fa688",
   "metadata": {},
   "outputs": [],
   "source": [
    "with open (\"data.json\",\"r\") as f :\n",
    "    data1 = json.load(f)"
   ]
  },
  {
   "cell_type": "code",
   "execution_count": 15,
   "id": "cfdde06b-6006-4673-acc5-469f20c82b60",
   "metadata": {},
   "outputs": [
    {
     "data": {
      "text/plain": [
       "{'name': 'sudh',\n",
       " 'mail_id': 'sudh@gmail.com',\n",
       " 'phone number': 987577546446,\n",
       " 'subject': ['data science', 'big data', 'data analytics']}"
      ]
     },
     "execution_count": 15,
     "metadata": {},
     "output_type": "execute_result"
    }
   ],
   "source": [
    "data1"
   ]
  },
  {
   "cell_type": "code",
   "execution_count": 18,
   "id": "29572f02-0626-47b3-919b-abf751455eb1",
   "metadata": {},
   "outputs": [
    {
     "data": {
      "text/plain": [
       "['data science', 'big data', 'data analytics']"
      ]
     },
     "execution_count": 18,
     "metadata": {},
     "output_type": "execute_result"
    }
   ],
   "source": [
    "data1['subject']"
   ]
  },
  {
   "cell_type": "code",
   "execution_count": 19,
   "id": "2f05f510-a209-4a35-a513-9012ea0664be",
   "metadata": {},
   "outputs": [
    {
     "data": {
      "text/plain": [
       "'big data'"
      ]
     },
     "execution_count": 19,
     "metadata": {},
     "output_type": "execute_result"
    }
   ],
   "source": [
    "data1['subject'][1]"
   ]
  },
  {
   "cell_type": "code",
   "execution_count": 20,
   "id": "785e91b8-e61b-4413-836c-8a29d4cb9117",
   "metadata": {},
   "outputs": [],
   "source": [
    "# csv file comma seperated value"
   ]
  },
  {
   "cell_type": "code",
   "execution_count": 21,
   "id": "42e3cd0f-d37a-42ed-b0a1-abb8b54295a8",
   "metadata": {},
   "outputs": [],
   "source": [
    "import csv"
   ]
  },
  {
   "cell_type": "code",
   "execution_count": 22,
   "id": "6ea59e32-2e58-4e06-bb2f-d203eab125a5",
   "metadata": {},
   "outputs": [],
   "source": [
    "data = [[\"name\",\"email_id\", \"phone_number\"],\n",
    "        [\"sudh\",\"sudh@gmail.com\",7367365365],\n",
    "        [\"krish\" , \"krish@gmail.com\",97657655]\n",
    "       ]"
   ]
  },
  {
   "cell_type": "code",
   "execution_count": 28,
   "id": "5a4e104e-9ea0-438b-8f8c-71fb05d95dba",
   "metadata": {},
   "outputs": [],
   "source": [
    "with open(\"data.csv\", \"w\") as f :\n",
    "    writer =  csv.writer(f)\n",
    "    \n",
    "    for i in data:\n",
    "        writer.writerow(i)"
   ]
  },
  {
   "cell_type": "code",
   "execution_count": 30,
   "id": "1c8059de-356c-44db-b8c3-928f30cb763e",
   "metadata": {},
   "outputs": [
    {
     "name": "stdout",
     "output_type": "stream",
     "text": [
      "['name', 'email_id', 'phone_number']\n",
      "['sudh', 'sudh@gmail.com', '7367365365']\n",
      "['krish', 'krish@gmail.com', '97657655']\n"
     ]
    }
   ],
   "source": [
    "with open(\"data.csv\", 'r') as f :\n",
    "    read_data = csv.reader(f)\n",
    "    \n",
    "    for i in read_data:\n",
    "        print(i)\n",
    "               "
   ]
  },
  {
   "cell_type": "code",
   "execution_count": 31,
   "id": "d6d6f823-dee0-4a04-b35c-eb9ff0b21d7d",
   "metadata": {},
   "outputs": [],
   "source": [
    "with open(\"test4.bin\" , \"wb\") as f :\n",
    "    f.write(b\"\\x01\\x02\\x03\\x3454235\")"
   ]
  },
  {
   "cell_type": "code",
   "execution_count": 33,
   "id": "9c648887-8cf1-4610-9c36-90b56fa7d83d",
   "metadata": {},
   "outputs": [
    {
     "name": "stdout",
     "output_type": "stream",
     "text": [
      "b'\\x01\\x02\\x03454235'\n"
     ]
    }
   ],
   "source": [
    "with open(\"test4.bin\",\"rb\") as f:\n",
    "    print(f.read())"
   ]
  },
  {
   "cell_type": "code",
   "execution_count": null,
   "id": "0dc3e8c8-6f07-412c-8812-422d224c182a",
   "metadata": {},
   "outputs": [],
   "source": []
  }
 ],
 "metadata": {
  "kernelspec": {
   "display_name": "Python 3 (ipykernel)",
   "language": "python",
   "name": "python3"
  },
  "language_info": {
   "codemirror_mode": {
    "name": "ipython",
    "version": 3
   },
   "file_extension": ".py",
   "mimetype": "text/x-python",
   "name": "python",
   "nbconvert_exporter": "python",
   "pygments_lexer": "ipython3",
   "version": "3.10.8"
  }
 },
 "nbformat": 4,
 "nbformat_minor": 5
}
